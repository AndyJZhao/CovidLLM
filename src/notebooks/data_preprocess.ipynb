{
 "cells": [
  {
   "cell_type": "code",
   "execution_count": 1,
   "id": "initial_id",
   "metadata": {
    "collapsed": true,
    "ExecuteTime": {
     "end_time": "2023-11-06T00:06:32.505879Z",
     "start_time": "2023-11-06T00:06:29.374351Z"
    }
   },
   "outputs": [
    {
     "data": {
      "text/plain": "\u001B[2;36m[08:06:32]\u001B[0m\u001B[2;36m \u001B[0m\u001B[34mINFO    \u001B[0m Rich Logger initialized.                                                                                                            \u001B[2mlogging.py\u001B[0m\u001B[2m:\u001B[0m\u001B[2m23\u001B[0m\n",
      "text/html": "<pre style=\"white-space:pre;overflow-x:auto;line-height:normal;font-family:Menlo,'DejaVu Sans Mono',consolas,'Courier New',monospace\"><span style=\"color: #7fbfbf; text-decoration-color: #7fbfbf\">[08:06:32] </span><span style=\"color: #000080; text-decoration-color: #000080\">INFO    </span> Rich Logger initialized.                                                                                                            <span style=\"color: #7f7f7f; text-decoration-color: #7f7f7f\">logging.py:23</span>\n</pre>\n"
     },
     "metadata": {},
     "output_type": "display_data"
    }
   ],
   "source": [
    "import logging\n",
    "import pandas as pd\n",
    "import numpy as np\n",
    "import scanpy as sc\n",
    "import os\n",
    "import sys\n",
    "\n",
    "current_folder = str(globals()['_dh'][0])\n",
    "ROOT_PATH = current_folder.split('src/')[0]\n",
    "\n",
    "os.chdir(ROOT_PATH)\n",
    "sys.path.append(ROOT_PATH + 'src')\n",
    "\n",
    "import utils.basics as uf\n",
    "\n",
    "current_folder = str(globals()['_dh'][0])\n",
    "ROOT_PATH = current_folder.split('src/')[0]\n",
    "os.chdir(ROOT_PATH)\n",
    "# Total 80411 disease-gene triples\n",
    "np.random.seed(2022)\n",
    "\n",
    "# ! Load\n",
    "state_df = uf.pickle_load(f'data/static/static_data.pkl')\n",
    "data = uf.pickle_load(f'data/dynamic/all_data_v2.pkl')"
   ]
  },
  {
   "cell_type": "code",
   "execution_count": 2,
   "outputs": [
    {
     "data": {
      "text/plain": "   fips  Population  under_20   over_65     White     Black  Multiple_race  \\\n0    01     4903185  0.248091  0.173323  0.691264  0.267844       0.017718   \n1    02      731545  0.269091  0.125198  0.652712  0.037056       0.074772   \n2    04     7278717  0.252599  0.179789  0.826168  0.051794       0.029330   \n3    05     3017804  0.258111  0.173597  0.790395  0.156752       0.022066   \n4    06    39512223  0.251198  0.147755  0.719391  0.064607       0.039839   \n5    08     5758736  0.244493  0.146284  0.869394  0.045927       0.031373   \n6    09     3565287  0.232683  0.176772  0.797002  0.121893       0.024721   \n7    10      973764  0.235080  0.193996  0.692237  0.231621       0.027377   \n8    12    21477737  0.219510  0.209395  0.772772  0.169176       0.022275   \n9    13    10617423  0.263877  0.142874  0.601983  0.325705       0.022170   \n10   15     1415872  0.233137  0.189599  0.255190  0.021865       0.241751   \n11   16     1787065  0.277647  0.162652  0.930221  0.009147       0.025505   \n12   17    12671821  0.248213  0.161242  0.767602  0.146192       0.020582   \n13   18     6732219  0.260697  0.161276  0.848100  0.099461       0.021598   \n14   19     3155070  0.258738  0.175259  0.906186  0.040603       0.019620   \n15   20     2913314  0.268454  0.163212  0.862882  0.061348       0.030594   \n16   21     4467673  0.250451  0.167999  0.875159  0.084715       0.020183   \n17   22     4648794  0.258834  0.159401  0.627871  0.327985       0.017548   \n18   23     1344212  0.209162  0.212217  0.944290  0.016881       0.018266   \n19   24     6045680  0.246411  0.158691  0.585450  0.310742       0.029400   \n20   25     6892503  0.226076  0.169653  0.805827  0.090229       0.025709   \n21   26     9986857  0.241086  0.176772  0.792198  0.140974       0.025330   \n22   27     5639632  0.256284  0.163199  0.837631  0.070139       0.025878   \n23   28     2976149  0.262247  0.163531  0.590723  0.377857       0.013429   \n24   29     6137428  0.248849  0.173043  0.828717  0.118222       0.023895   \n25   30     1068778  0.238044  0.193152  0.889063  0.005978       0.028377   \n26   31     1934408  0.273893  0.161526  0.880956  0.052090       0.023105   \n27   32     3080156  0.246829  0.161022  0.739427  0.102691       0.045973   \n28   33     1359711  0.214044  0.186704  0.931152  0.017924       0.017766   \n29   34     8882190  0.242225  0.166123  0.719283  0.150577       0.022905   \n30   35     2096829  0.253579  0.180084  0.818691  0.026121       0.026095   \n31   36    23628065  0.232399  0.169437  0.696365  0.175861       0.026508   \n32   37    10488084  0.247179  0.166960  0.705514  0.222211       0.023361   \n33   38      762062  0.263465  0.157264  0.869424  0.034097       0.023073   \n34   39    11689100  0.246971  0.175062  0.817235  0.130512       0.023804   \n35   40     3956971  0.267501  0.160510  0.739797  0.077792       0.062639   \n36   41     4217737  0.228909  0.181633  0.866611  0.022225       0.039775   \n37   42    12801989  0.232584  0.186952  0.816050  0.120301       0.021268   \n38   44     1059361  0.225176  0.176565  0.835898  0.085059       0.028905   \n39   45     5148714  0.242359  0.181992  0.686006  0.269585       0.019663   \n40   46      884659  0.271932  0.171672  0.845603  0.022983       0.024605   \n41   47     6829174  0.245647  0.167428  0.784049  0.170513       0.020060   \n42   48    28995881  0.283164  0.128785  0.786530  0.128957       0.020760   \n43   49     3205958  0.320844  0.114123  0.905855  0.014828       0.026470   \n44   50      623989  0.215412  0.200387  0.942488  0.014061       0.019970   \n45   51     8535519  0.244558  0.159206  0.693883  0.198806       0.031581   \n46   53     7614893  0.241672  0.158863  0.785001  0.043589       0.048607   \n47   54     1792147  0.224576  0.204788  0.934701  0.036052       0.018189   \n48   55     5822434  0.244244  0.174711  0.870389  0.067076       0.020058   \n49   56      578759  0.256017  0.171365  0.925033  0.012902       0.022420   \n\n    Not_Hispanic  Hispanic medicaid_coverage  ... adults_at_high_risk  \\\n0       0.954463  0.045537             0.195  ...                0.43   \n1       0.927261  0.072739             0.213  ...                0.33   \n2       0.682555  0.317445              0.21  ...                0.39   \n3       0.921588  0.078412             0.262  ...                0.44   \n4       0.605821  0.394179             0.253  ...                0.33   \n5       0.781740  0.218260             0.168  ...                0.31   \n6       0.831443  0.168557             0.215  ...                0.36   \n7       0.904093  0.095907             0.204  ...                0.41   \n8       0.736292  0.263708             0.174  ...                0.42   \n9       0.901226  0.098774             0.173  ...                0.36   \n10      0.893448  0.106552             0.176  ...                0.39   \n11      0.871583  0.128417             0.156  ...                0.36   \n12      0.824817  0.175183             0.182  ...                0.36   \n13      0.927312  0.072688             0.177  ...                 0.4   \n14      0.937070  0.062930             0.195  ...                0.37   \n15      0.877777  0.122223             0.139  ...                0.38   \n16      0.960896  0.039104             0.255  ...                0.44   \n17      0.946874  0.053126             0.293  ...                0.42   \n18      0.982369  0.017631               0.2  ...                0.43   \n19      0.893507  0.106493             0.187  ...                0.37   \n20      0.875966  0.124034             0.221  ...                0.35   \n21      0.947110  0.052890             0.217  ...                0.41   \n22      0.944122  0.055878             0.169  ...                0.34   \n23      0.966363  0.033637             0.242  ...                0.43   \n24      0.956218  0.043782             0.144  ...                0.41   \n25      0.959497  0.040503             0.208  ...                0.39   \n26      0.886454  0.113546             0.126  ...                0.37   \n27      0.707612  0.292388             0.178  ...                0.36   \n28      0.959852  0.040148             0.132  ...                0.41   \n29      0.790948  0.209052             0.166  ...                0.35   \n30      0.507379  0.492621             0.327  ...                0.39   \n31      0.807179  0.192821             0.257  ...                0.37   \n32      0.902191  0.097809             0.179  ...                0.39   \n33      0.958623  0.041377             0.122  ...                0.35   \n34      0.959752  0.040248               0.2  ...                 0.4   \n35      0.889281  0.110719              0.17  ...                0.41   \n36      0.865604  0.134396             0.208  ...                 0.4   \n37      0.921875  0.078125             0.202  ...                 0.4   \n38      0.837030  0.162970             0.205  ...                0.38   \n39      0.940351  0.059649             0.188  ...                0.41   \n40      0.957779  0.042221             0.128  ...                0.35   \n41      0.942690  0.057310             0.195  ...                0.42   \n42      0.602510  0.397490             0.159  ...                0.35   \n43      0.855877  0.144123             0.093  ...                 0.3   \n44      0.979617  0.020383             0.239  ...                0.39   \n45      0.902241  0.097759             0.135  ...                0.36   \n46      0.869766  0.130234             0.198  ...                0.35   \n47      0.982612  0.017388             0.266  ...                0.49   \n48      0.929032  0.070968             0.161  ...                0.37   \n49      0.898733  0.101267             0.115  ...                0.36   \n\n   poverty_rate  social_vulnerability_index  \\\n0         0.154                    0.614136   \n1         0.107                    0.458578   \n2         0.134                    0.720161   \n3         0.165                    0.650340   \n4         0.118                    0.654184   \n5         0.094                    0.329029   \n6         0.102                    0.425818   \n7         0.109                    0.447416   \n8         0.127                    0.605656   \n9         0.134                    0.568470   \n10        0.098                    0.468728   \n11        0.111                    0.386961   \n12        0.114                    0.485449   \n13        0.122                    0.470830   \n14        0.114                    0.289682   \n15        0.115                    0.383065   \n16        0.161                    0.555702   \n17        0.187                    0.717408   \n18        0.106                    0.293122   \n19        0.091                    0.387208   \n20        0.094                    0.400896   \n21        0.131                    0.454987   \n22         0.09                    0.277378   \n23        0.196                    0.736328   \n24        0.126                    0.408556   \n25        0.131                    0.258489   \n26        0.103                    0.336494   \n27         0.13                    0.689479   \n28        0.075                    0.137473   \n29        0.092                    0.444319   \n30        0.177                    0.770527   \n31        0.129                    0.544095   \n32        0.135                    0.580190   \n33         0.11                    0.201239   \n34         0.13                    0.443062   \n35        0.155                    0.622988   \n36        0.115                    0.524471   \n37        0.121                    0.410951   \n38        0.107                    0.511517   \n39        0.138                    0.614322   \n40         0.11                    0.323939   \n41        0.139                    0.524065   \n42        0.136                    0.646160   \n43        0.094                    0.301682   \n44        0.102                    0.200160   \n45        0.099                    0.340798   \n46        0.097                    0.418443   \n47        0.158                    0.512422   \n48        0.097                    0.303599   \n49        0.099                    0.276459   \n\n    Healthcare Access and Quality Index  Older_at_high_risk  dem_percent  \\\n0                                  83.4               0.510        0.366   \n1                                  88.4               0.494        0.428   \n2                                  88.0               0.591        0.494   \n3                                  83.8               0.503        0.348   \n4                                  91.0               0.560        0.635   \n5                                  90.8               0.591        0.554   \n6                                  91.5               0.599        0.593   \n7                                  88.6               0.583        0.587   \n8                                  89.6               0.612        0.479   \n9                                  85.5               0.509        0.495   \n10                                 91.1               0.625        0.637   \n11                                 87.3               0.594        0.331   \n12                                 89.3               0.553        0.575   \n13                                 86.4               0.514        0.410   \n14                                 89.9               0.601        0.449   \n15                                 88.3               0.547        0.416   \n16                                 85.6               0.488        0.362   \n17                                 84.3               0.484        0.399   \n18                                 90.4               0.594        0.531   \n19                                 88.9               0.536        0.654   \n20                                 92.5               0.600        0.656   \n21                                 87.1               0.532        0.506   \n22                                 92.3               0.600        0.524   \n23                                 81.5               0.496        0.411   \n24                                 87.6               0.538        0.414   \n25                                 88.7               0.623        0.405   \n26                                 88.9               0.567        0.394   \n27                                 87.1               0.569        0.501   \n28                                 91.7               0.553        0.527   \n29                                 90.4               0.596        0.573   \n30                                 85.4               0.588        0.543   \n31                                 90.7               0.561        0.609   \n32                                 86.8               0.542        0.486   \n33                                 89.9               0.565        0.318   \n34                                 87.1               0.549        0.452   \n35                                 84.5               0.509        0.323   \n36                                 90.9               0.562        0.565   \n37                                 89.2               0.578        0.500   \n38                                 90.4               0.561        0.594   \n39                                 85.2               0.554        0.434   \n40                                 86.8               0.615        0.356   \n41                                 85.1               0.506        0.375   \n42                                 86.8               0.488        0.465   \n43                                 88.6               0.522        0.376   \n44                                 91.2               0.621        0.661   \n45                                 90.0               0.569        0.541   \n46                                 92.0               0.568        0.580   \n47                                 84.1               0.511        0.297   \n48                                 90.6               0.593        0.494   \n49                                 87.7               0.604        0.266   \n\n   rep_percent other_percent           State  \\\n0        0.620         0.014         Alabama   \n1        0.528         0.044          Alaska   \n2        0.491         0.016         Arizona   \n3        0.624         0.028        Arkansas   \n4        0.343         0.022      California   \n5        0.419         0.027        Colorado   \n6        0.392         0.016     Connecticut   \n7        0.398         0.015        Delaware   \n8        0.512         0.009         Florida   \n9        0.493         0.012         Georgia   \n10       0.343         0.020          Hawaii   \n11       0.639         0.030           Idaho   \n12       0.406         0.019        Illinois   \n13       0.570         0.020         Indiana   \n14       0.531         0.020            Iowa   \n15       0.562         0.022          Kansas   \n16       0.621         0.018        Kentucky   \n17       0.585         0.017       Louisiana   \n18       0.440         0.029           Maine   \n19       0.322         0.025        Maryland   \n20       0.321         0.023   Massachusetts   \n21       0.478         0.015        Michigan   \n22       0.453         0.023       Minnesota   \n23       0.576         0.013     Mississippi   \n24       0.568         0.018        Missouri   \n25       0.569         0.025         Montana   \n26       0.585         0.021        Nebraska   \n27       0.477         0.023          Nevada   \n28       0.454         0.019   New Hampshire   \n29       0.414         0.013      New Jersey   \n30       0.435         0.022      New Mexico   \n31       0.377         0.014        New York   \n32       0.499         0.015  North Carolina   \n33       0.651         0.031    North Dakota   \n34       0.533         0.015            Ohio   \n35       0.654         0.023        Oklahoma   \n36       0.404         0.032          Oregon   \n37       0.488         0.011    Pennsylvania   \n38       0.386         0.020    Rhode Island   \n39       0.551         0.015  South Carolina   \n40       0.618         0.026    South Dakota   \n41       0.607         0.019       Tennessee   \n42       0.521         0.015           Texas   \n43       0.581         0.042            Utah   \n44       0.307         0.032         Vermont   \n45       0.440         0.019        Virginia   \n46       0.388         0.033      Washington   \n47       0.686         0.017   West Virginia   \n48       0.488         0.017       Wisconsin   \n49       0.699         0.035         Wyoming   \n\n                                   Static_description  \n0   Alabama with close to average population and a...  \n1   Alaska with one of the smallest populations an...  \n2   Arizona with above-average population and belo...  \n3   Arkansas with below-average population and abo...  \n4   California with one of the largest populations...  \n5   Colorado with close to average population and ...  \n6   Connecticut with close to average population a...  \n7   Delaware with below-average population and abo...  \n8   Florida with one of the largest populations an...  \n9   Georgia with above-average population and one ...  \n10  Hawaii with below-average population and below...  \n11  Idaho with below-average population and one of...  \n12  Illinois with above-average population and abo...  \n13  Indiana with above-average population with clo...  \n14  Iowa with below-average population and below-a...  \n15  Kansas with below-average population and below...  \n16  Kentucky with close to average population with...  \n17  Louisiana with close to average population and...  \n18  Maine with below-average population and below-...  \n19  Maryland with above-average population and one...  \n20  Massachusetts with above-average population wi...  \n21  Michigan with above-average population and abo...  \n22  Minnesota with close to average population wit...  \n23  Mississippi with below-average population and ...  \n24  Missouri with above-average population with cl...  \n25  Montana with below-average population and one ...  \n26  Nebraska with below-average population and bel...  \n27  Nevada with below-average population with clos...  \n28  New Hampshire with below-average population an...  \n29  New Jersey with above-average population and a...  \n30  New Mexico with below-average population and b...  \n31  New York with one of the largest populations a...  \n32  North Carolina with above-average population a...  \n33  North Dakota with one of the smallest populati...  \n34  Ohio with above-average population and above-a...  \n35  Oklahoma with close to average population with...  \n36  Oregon with close to average population and be...  \n37  Pennsylvania with one of the largest populatio...  \n38  Rhode Island with below-average population wit...  \n39  South Carolina with close to average populatio...  \n40  South Dakota with one of the smallest populati...  \n41  Tennessee with above-average population and ab...  \n42  Texas with one of the largest populations and ...  \n43  Utah with close to average population and one ...  \n44  Vermont with one of the smallest populations a...  \n45  Virginia with above-average population and abo...  \n46  Washington with above-average population and b...  \n47  West Virginia with below-average population an...  \n48  Wisconsin with above-average population with c...  \n49  Wyoming with one of the smallest populations a...  \n\n[50 rows x 28 columns]",
      "text/html": "<div>\n<style scoped>\n    .dataframe tbody tr th:only-of-type {\n        vertical-align: middle;\n    }\n\n    .dataframe tbody tr th {\n        vertical-align: top;\n    }\n\n    .dataframe thead th {\n        text-align: right;\n    }\n</style>\n<table border=\"1\" class=\"dataframe\">\n  <thead>\n    <tr style=\"text-align: right;\">\n      <th></th>\n      <th>fips</th>\n      <th>Population</th>\n      <th>under_20</th>\n      <th>over_65</th>\n      <th>White</th>\n      <th>Black</th>\n      <th>Multiple_race</th>\n      <th>Not_Hispanic</th>\n      <th>Hispanic</th>\n      <th>medicaid_coverage</th>\n      <th>...</th>\n      <th>adults_at_high_risk</th>\n      <th>poverty_rate</th>\n      <th>social_vulnerability_index</th>\n      <th>Healthcare Access and Quality Index</th>\n      <th>Older_at_high_risk</th>\n      <th>dem_percent</th>\n      <th>rep_percent</th>\n      <th>other_percent</th>\n      <th>State</th>\n      <th>Static_description</th>\n    </tr>\n  </thead>\n  <tbody>\n    <tr>\n      <th>0</th>\n      <td>01</td>\n      <td>4903185</td>\n      <td>0.248091</td>\n      <td>0.173323</td>\n      <td>0.691264</td>\n      <td>0.267844</td>\n      <td>0.017718</td>\n      <td>0.954463</td>\n      <td>0.045537</td>\n      <td>0.195</td>\n      <td>...</td>\n      <td>0.43</td>\n      <td>0.154</td>\n      <td>0.614136</td>\n      <td>83.4</td>\n      <td>0.510</td>\n      <td>0.366</td>\n      <td>0.620</td>\n      <td>0.014</td>\n      <td>Alabama</td>\n      <td>Alabama with close to average population and a...</td>\n    </tr>\n    <tr>\n      <th>1</th>\n      <td>02</td>\n      <td>731545</td>\n      <td>0.269091</td>\n      <td>0.125198</td>\n      <td>0.652712</td>\n      <td>0.037056</td>\n      <td>0.074772</td>\n      <td>0.927261</td>\n      <td>0.072739</td>\n      <td>0.213</td>\n      <td>...</td>\n      <td>0.33</td>\n      <td>0.107</td>\n      <td>0.458578</td>\n      <td>88.4</td>\n      <td>0.494</td>\n      <td>0.428</td>\n      <td>0.528</td>\n      <td>0.044</td>\n      <td>Alaska</td>\n      <td>Alaska with one of the smallest populations an...</td>\n    </tr>\n    <tr>\n      <th>2</th>\n      <td>04</td>\n      <td>7278717</td>\n      <td>0.252599</td>\n      <td>0.179789</td>\n      <td>0.826168</td>\n      <td>0.051794</td>\n      <td>0.029330</td>\n      <td>0.682555</td>\n      <td>0.317445</td>\n      <td>0.21</td>\n      <td>...</td>\n      <td>0.39</td>\n      <td>0.134</td>\n      <td>0.720161</td>\n      <td>88.0</td>\n      <td>0.591</td>\n      <td>0.494</td>\n      <td>0.491</td>\n      <td>0.016</td>\n      <td>Arizona</td>\n      <td>Arizona with above-average population and belo...</td>\n    </tr>\n    <tr>\n      <th>3</th>\n      <td>05</td>\n      <td>3017804</td>\n      <td>0.258111</td>\n      <td>0.173597</td>\n      <td>0.790395</td>\n      <td>0.156752</td>\n      <td>0.022066</td>\n      <td>0.921588</td>\n      <td>0.078412</td>\n      <td>0.262</td>\n      <td>...</td>\n      <td>0.44</td>\n      <td>0.165</td>\n      <td>0.650340</td>\n      <td>83.8</td>\n      <td>0.503</td>\n      <td>0.348</td>\n      <td>0.624</td>\n      <td>0.028</td>\n      <td>Arkansas</td>\n      <td>Arkansas with below-average population and abo...</td>\n    </tr>\n    <tr>\n      <th>4</th>\n      <td>06</td>\n      <td>39512223</td>\n      <td>0.251198</td>\n      <td>0.147755</td>\n      <td>0.719391</td>\n      <td>0.064607</td>\n      <td>0.039839</td>\n      <td>0.605821</td>\n      <td>0.394179</td>\n      <td>0.253</td>\n      <td>...</td>\n      <td>0.33</td>\n      <td>0.118</td>\n      <td>0.654184</td>\n      <td>91.0</td>\n      <td>0.560</td>\n      <td>0.635</td>\n      <td>0.343</td>\n      <td>0.022</td>\n      <td>California</td>\n      <td>California with one of the largest populations...</td>\n    </tr>\n    <tr>\n      <th>5</th>\n      <td>08</td>\n      <td>5758736</td>\n      <td>0.244493</td>\n      <td>0.146284</td>\n      <td>0.869394</td>\n      <td>0.045927</td>\n      <td>0.031373</td>\n      <td>0.781740</td>\n      <td>0.218260</td>\n      <td>0.168</td>\n      <td>...</td>\n      <td>0.31</td>\n      <td>0.094</td>\n      <td>0.329029</td>\n      <td>90.8</td>\n      <td>0.591</td>\n      <td>0.554</td>\n      <td>0.419</td>\n      <td>0.027</td>\n      <td>Colorado</td>\n      <td>Colorado with close to average population and ...</td>\n    </tr>\n    <tr>\n      <th>6</th>\n      <td>09</td>\n      <td>3565287</td>\n      <td>0.232683</td>\n      <td>0.176772</td>\n      <td>0.797002</td>\n      <td>0.121893</td>\n      <td>0.024721</td>\n      <td>0.831443</td>\n      <td>0.168557</td>\n      <td>0.215</td>\n      <td>...</td>\n      <td>0.36</td>\n      <td>0.102</td>\n      <td>0.425818</td>\n      <td>91.5</td>\n      <td>0.599</td>\n      <td>0.593</td>\n      <td>0.392</td>\n      <td>0.016</td>\n      <td>Connecticut</td>\n      <td>Connecticut with close to average population a...</td>\n    </tr>\n    <tr>\n      <th>7</th>\n      <td>10</td>\n      <td>973764</td>\n      <td>0.235080</td>\n      <td>0.193996</td>\n      <td>0.692237</td>\n      <td>0.231621</td>\n      <td>0.027377</td>\n      <td>0.904093</td>\n      <td>0.095907</td>\n      <td>0.204</td>\n      <td>...</td>\n      <td>0.41</td>\n      <td>0.109</td>\n      <td>0.447416</td>\n      <td>88.6</td>\n      <td>0.583</td>\n      <td>0.587</td>\n      <td>0.398</td>\n      <td>0.015</td>\n      <td>Delaware</td>\n      <td>Delaware with below-average population and abo...</td>\n    </tr>\n    <tr>\n      <th>8</th>\n      <td>12</td>\n      <td>21477737</td>\n      <td>0.219510</td>\n      <td>0.209395</td>\n      <td>0.772772</td>\n      <td>0.169176</td>\n      <td>0.022275</td>\n      <td>0.736292</td>\n      <td>0.263708</td>\n      <td>0.174</td>\n      <td>...</td>\n      <td>0.42</td>\n      <td>0.127</td>\n      <td>0.605656</td>\n      <td>89.6</td>\n      <td>0.612</td>\n      <td>0.479</td>\n      <td>0.512</td>\n      <td>0.009</td>\n      <td>Florida</td>\n      <td>Florida with one of the largest populations an...</td>\n    </tr>\n    <tr>\n      <th>9</th>\n      <td>13</td>\n      <td>10617423</td>\n      <td>0.263877</td>\n      <td>0.142874</td>\n      <td>0.601983</td>\n      <td>0.325705</td>\n      <td>0.022170</td>\n      <td>0.901226</td>\n      <td>0.098774</td>\n      <td>0.173</td>\n      <td>...</td>\n      <td>0.36</td>\n      <td>0.134</td>\n      <td>0.568470</td>\n      <td>85.5</td>\n      <td>0.509</td>\n      <td>0.495</td>\n      <td>0.493</td>\n      <td>0.012</td>\n      <td>Georgia</td>\n      <td>Georgia with above-average population and one ...</td>\n    </tr>\n    <tr>\n      <th>10</th>\n      <td>15</td>\n      <td>1415872</td>\n      <td>0.233137</td>\n      <td>0.189599</td>\n      <td>0.255190</td>\n      <td>0.021865</td>\n      <td>0.241751</td>\n      <td>0.893448</td>\n      <td>0.106552</td>\n      <td>0.176</td>\n      <td>...</td>\n      <td>0.39</td>\n      <td>0.098</td>\n      <td>0.468728</td>\n      <td>91.1</td>\n      <td>0.625</td>\n      <td>0.637</td>\n      <td>0.343</td>\n      <td>0.020</td>\n      <td>Hawaii</td>\n      <td>Hawaii with below-average population and below...</td>\n    </tr>\n    <tr>\n      <th>11</th>\n      <td>16</td>\n      <td>1787065</td>\n      <td>0.277647</td>\n      <td>0.162652</td>\n      <td>0.930221</td>\n      <td>0.009147</td>\n      <td>0.025505</td>\n      <td>0.871583</td>\n      <td>0.128417</td>\n      <td>0.156</td>\n      <td>...</td>\n      <td>0.36</td>\n      <td>0.111</td>\n      <td>0.386961</td>\n      <td>87.3</td>\n      <td>0.594</td>\n      <td>0.331</td>\n      <td>0.639</td>\n      <td>0.030</td>\n      <td>Idaho</td>\n      <td>Idaho with below-average population and one of...</td>\n    </tr>\n    <tr>\n      <th>12</th>\n      <td>17</td>\n      <td>12671821</td>\n      <td>0.248213</td>\n      <td>0.161242</td>\n      <td>0.767602</td>\n      <td>0.146192</td>\n      <td>0.020582</td>\n      <td>0.824817</td>\n      <td>0.175183</td>\n      <td>0.182</td>\n      <td>...</td>\n      <td>0.36</td>\n      <td>0.114</td>\n      <td>0.485449</td>\n      <td>89.3</td>\n      <td>0.553</td>\n      <td>0.575</td>\n      <td>0.406</td>\n      <td>0.019</td>\n      <td>Illinois</td>\n      <td>Illinois with above-average population and abo...</td>\n    </tr>\n    <tr>\n      <th>13</th>\n      <td>18</td>\n      <td>6732219</td>\n      <td>0.260697</td>\n      <td>0.161276</td>\n      <td>0.848100</td>\n      <td>0.099461</td>\n      <td>0.021598</td>\n      <td>0.927312</td>\n      <td>0.072688</td>\n      <td>0.177</td>\n      <td>...</td>\n      <td>0.4</td>\n      <td>0.122</td>\n      <td>0.470830</td>\n      <td>86.4</td>\n      <td>0.514</td>\n      <td>0.410</td>\n      <td>0.570</td>\n      <td>0.020</td>\n      <td>Indiana</td>\n      <td>Indiana with above-average population with clo...</td>\n    </tr>\n    <tr>\n      <th>14</th>\n      <td>19</td>\n      <td>3155070</td>\n      <td>0.258738</td>\n      <td>0.175259</td>\n      <td>0.906186</td>\n      <td>0.040603</td>\n      <td>0.019620</td>\n      <td>0.937070</td>\n      <td>0.062930</td>\n      <td>0.195</td>\n      <td>...</td>\n      <td>0.37</td>\n      <td>0.114</td>\n      <td>0.289682</td>\n      <td>89.9</td>\n      <td>0.601</td>\n      <td>0.449</td>\n      <td>0.531</td>\n      <td>0.020</td>\n      <td>Iowa</td>\n      <td>Iowa with below-average population and below-a...</td>\n    </tr>\n    <tr>\n      <th>15</th>\n      <td>20</td>\n      <td>2913314</td>\n      <td>0.268454</td>\n      <td>0.163212</td>\n      <td>0.862882</td>\n      <td>0.061348</td>\n      <td>0.030594</td>\n      <td>0.877777</td>\n      <td>0.122223</td>\n      <td>0.139</td>\n      <td>...</td>\n      <td>0.38</td>\n      <td>0.115</td>\n      <td>0.383065</td>\n      <td>88.3</td>\n      <td>0.547</td>\n      <td>0.416</td>\n      <td>0.562</td>\n      <td>0.022</td>\n      <td>Kansas</td>\n      <td>Kansas with below-average population and below...</td>\n    </tr>\n    <tr>\n      <th>16</th>\n      <td>21</td>\n      <td>4467673</td>\n      <td>0.250451</td>\n      <td>0.167999</td>\n      <td>0.875159</td>\n      <td>0.084715</td>\n      <td>0.020183</td>\n      <td>0.960896</td>\n      <td>0.039104</td>\n      <td>0.255</td>\n      <td>...</td>\n      <td>0.44</td>\n      <td>0.161</td>\n      <td>0.555702</td>\n      <td>85.6</td>\n      <td>0.488</td>\n      <td>0.362</td>\n      <td>0.621</td>\n      <td>0.018</td>\n      <td>Kentucky</td>\n      <td>Kentucky with close to average population with...</td>\n    </tr>\n    <tr>\n      <th>17</th>\n      <td>22</td>\n      <td>4648794</td>\n      <td>0.258834</td>\n      <td>0.159401</td>\n      <td>0.627871</td>\n      <td>0.327985</td>\n      <td>0.017548</td>\n      <td>0.946874</td>\n      <td>0.053126</td>\n      <td>0.293</td>\n      <td>...</td>\n      <td>0.42</td>\n      <td>0.187</td>\n      <td>0.717408</td>\n      <td>84.3</td>\n      <td>0.484</td>\n      <td>0.399</td>\n      <td>0.585</td>\n      <td>0.017</td>\n      <td>Louisiana</td>\n      <td>Louisiana with close to average population and...</td>\n    </tr>\n    <tr>\n      <th>18</th>\n      <td>23</td>\n      <td>1344212</td>\n      <td>0.209162</td>\n      <td>0.212217</td>\n      <td>0.944290</td>\n      <td>0.016881</td>\n      <td>0.018266</td>\n      <td>0.982369</td>\n      <td>0.017631</td>\n      <td>0.2</td>\n      <td>...</td>\n      <td>0.43</td>\n      <td>0.106</td>\n      <td>0.293122</td>\n      <td>90.4</td>\n      <td>0.594</td>\n      <td>0.531</td>\n      <td>0.440</td>\n      <td>0.029</td>\n      <td>Maine</td>\n      <td>Maine with below-average population and below-...</td>\n    </tr>\n    <tr>\n      <th>19</th>\n      <td>24</td>\n      <td>6045680</td>\n      <td>0.246411</td>\n      <td>0.158691</td>\n      <td>0.585450</td>\n      <td>0.310742</td>\n      <td>0.029400</td>\n      <td>0.893507</td>\n      <td>0.106493</td>\n      <td>0.187</td>\n      <td>...</td>\n      <td>0.37</td>\n      <td>0.091</td>\n      <td>0.387208</td>\n      <td>88.9</td>\n      <td>0.536</td>\n      <td>0.654</td>\n      <td>0.322</td>\n      <td>0.025</td>\n      <td>Maryland</td>\n      <td>Maryland with above-average population and one...</td>\n    </tr>\n    <tr>\n      <th>20</th>\n      <td>25</td>\n      <td>6892503</td>\n      <td>0.226076</td>\n      <td>0.169653</td>\n      <td>0.805827</td>\n      <td>0.090229</td>\n      <td>0.025709</td>\n      <td>0.875966</td>\n      <td>0.124034</td>\n      <td>0.221</td>\n      <td>...</td>\n      <td>0.35</td>\n      <td>0.094</td>\n      <td>0.400896</td>\n      <td>92.5</td>\n      <td>0.600</td>\n      <td>0.656</td>\n      <td>0.321</td>\n      <td>0.023</td>\n      <td>Massachusetts</td>\n      <td>Massachusetts with above-average population wi...</td>\n    </tr>\n    <tr>\n      <th>21</th>\n      <td>26</td>\n      <td>9986857</td>\n      <td>0.241086</td>\n      <td>0.176772</td>\n      <td>0.792198</td>\n      <td>0.140974</td>\n      <td>0.025330</td>\n      <td>0.947110</td>\n      <td>0.052890</td>\n      <td>0.217</td>\n      <td>...</td>\n      <td>0.41</td>\n      <td>0.131</td>\n      <td>0.454987</td>\n      <td>87.1</td>\n      <td>0.532</td>\n      <td>0.506</td>\n      <td>0.478</td>\n      <td>0.015</td>\n      <td>Michigan</td>\n      <td>Michigan with above-average population and abo...</td>\n    </tr>\n    <tr>\n      <th>22</th>\n      <td>27</td>\n      <td>5639632</td>\n      <td>0.256284</td>\n      <td>0.163199</td>\n      <td>0.837631</td>\n      <td>0.070139</td>\n      <td>0.025878</td>\n      <td>0.944122</td>\n      <td>0.055878</td>\n      <td>0.169</td>\n      <td>...</td>\n      <td>0.34</td>\n      <td>0.09</td>\n      <td>0.277378</td>\n      <td>92.3</td>\n      <td>0.600</td>\n      <td>0.524</td>\n      <td>0.453</td>\n      <td>0.023</td>\n      <td>Minnesota</td>\n      <td>Minnesota with close to average population wit...</td>\n    </tr>\n    <tr>\n      <th>23</th>\n      <td>28</td>\n      <td>2976149</td>\n      <td>0.262247</td>\n      <td>0.163531</td>\n      <td>0.590723</td>\n      <td>0.377857</td>\n      <td>0.013429</td>\n      <td>0.966363</td>\n      <td>0.033637</td>\n      <td>0.242</td>\n      <td>...</td>\n      <td>0.43</td>\n      <td>0.196</td>\n      <td>0.736328</td>\n      <td>81.5</td>\n      <td>0.496</td>\n      <td>0.411</td>\n      <td>0.576</td>\n      <td>0.013</td>\n      <td>Mississippi</td>\n      <td>Mississippi with below-average population and ...</td>\n    </tr>\n    <tr>\n      <th>24</th>\n      <td>29</td>\n      <td>6137428</td>\n      <td>0.248849</td>\n      <td>0.173043</td>\n      <td>0.828717</td>\n      <td>0.118222</td>\n      <td>0.023895</td>\n      <td>0.956218</td>\n      <td>0.043782</td>\n      <td>0.144</td>\n      <td>...</td>\n      <td>0.41</td>\n      <td>0.126</td>\n      <td>0.408556</td>\n      <td>87.6</td>\n      <td>0.538</td>\n      <td>0.414</td>\n      <td>0.568</td>\n      <td>0.018</td>\n      <td>Missouri</td>\n      <td>Missouri with above-average population with cl...</td>\n    </tr>\n    <tr>\n      <th>25</th>\n      <td>30</td>\n      <td>1068778</td>\n      <td>0.238044</td>\n      <td>0.193152</td>\n      <td>0.889063</td>\n      <td>0.005978</td>\n      <td>0.028377</td>\n      <td>0.959497</td>\n      <td>0.040503</td>\n      <td>0.208</td>\n      <td>...</td>\n      <td>0.39</td>\n      <td>0.131</td>\n      <td>0.258489</td>\n      <td>88.7</td>\n      <td>0.623</td>\n      <td>0.405</td>\n      <td>0.569</td>\n      <td>0.025</td>\n      <td>Montana</td>\n      <td>Montana with below-average population and one ...</td>\n    </tr>\n    <tr>\n      <th>26</th>\n      <td>31</td>\n      <td>1934408</td>\n      <td>0.273893</td>\n      <td>0.161526</td>\n      <td>0.880956</td>\n      <td>0.052090</td>\n      <td>0.023105</td>\n      <td>0.886454</td>\n      <td>0.113546</td>\n      <td>0.126</td>\n      <td>...</td>\n      <td>0.37</td>\n      <td>0.103</td>\n      <td>0.336494</td>\n      <td>88.9</td>\n      <td>0.567</td>\n      <td>0.394</td>\n      <td>0.585</td>\n      <td>0.021</td>\n      <td>Nebraska</td>\n      <td>Nebraska with below-average population and bel...</td>\n    </tr>\n    <tr>\n      <th>27</th>\n      <td>32</td>\n      <td>3080156</td>\n      <td>0.246829</td>\n      <td>0.161022</td>\n      <td>0.739427</td>\n      <td>0.102691</td>\n      <td>0.045973</td>\n      <td>0.707612</td>\n      <td>0.292388</td>\n      <td>0.178</td>\n      <td>...</td>\n      <td>0.36</td>\n      <td>0.13</td>\n      <td>0.689479</td>\n      <td>87.1</td>\n      <td>0.569</td>\n      <td>0.501</td>\n      <td>0.477</td>\n      <td>0.023</td>\n      <td>Nevada</td>\n      <td>Nevada with below-average population with clos...</td>\n    </tr>\n    <tr>\n      <th>28</th>\n      <td>33</td>\n      <td>1359711</td>\n      <td>0.214044</td>\n      <td>0.186704</td>\n      <td>0.931152</td>\n      <td>0.017924</td>\n      <td>0.017766</td>\n      <td>0.959852</td>\n      <td>0.040148</td>\n      <td>0.132</td>\n      <td>...</td>\n      <td>0.41</td>\n      <td>0.075</td>\n      <td>0.137473</td>\n      <td>91.7</td>\n      <td>0.553</td>\n      <td>0.527</td>\n      <td>0.454</td>\n      <td>0.019</td>\n      <td>New Hampshire</td>\n      <td>New Hampshire with below-average population an...</td>\n    </tr>\n    <tr>\n      <th>29</th>\n      <td>34</td>\n      <td>8882190</td>\n      <td>0.242225</td>\n      <td>0.166123</td>\n      <td>0.719283</td>\n      <td>0.150577</td>\n      <td>0.022905</td>\n      <td>0.790948</td>\n      <td>0.209052</td>\n      <td>0.166</td>\n      <td>...</td>\n      <td>0.35</td>\n      <td>0.092</td>\n      <td>0.444319</td>\n      <td>90.4</td>\n      <td>0.596</td>\n      <td>0.573</td>\n      <td>0.414</td>\n      <td>0.013</td>\n      <td>New Jersey</td>\n      <td>New Jersey with above-average population and a...</td>\n    </tr>\n    <tr>\n      <th>30</th>\n      <td>35</td>\n      <td>2096829</td>\n      <td>0.253579</td>\n      <td>0.180084</td>\n      <td>0.818691</td>\n      <td>0.026121</td>\n      <td>0.026095</td>\n      <td>0.507379</td>\n      <td>0.492621</td>\n      <td>0.327</td>\n      <td>...</td>\n      <td>0.39</td>\n      <td>0.177</td>\n      <td>0.770527</td>\n      <td>85.4</td>\n      <td>0.588</td>\n      <td>0.543</td>\n      <td>0.435</td>\n      <td>0.022</td>\n      <td>New Mexico</td>\n      <td>New Mexico with below-average population and b...</td>\n    </tr>\n    <tr>\n      <th>31</th>\n      <td>36</td>\n      <td>23628065</td>\n      <td>0.232399</td>\n      <td>0.169437</td>\n      <td>0.696365</td>\n      <td>0.175861</td>\n      <td>0.026508</td>\n      <td>0.807179</td>\n      <td>0.192821</td>\n      <td>0.257</td>\n      <td>...</td>\n      <td>0.37</td>\n      <td>0.129</td>\n      <td>0.544095</td>\n      <td>90.7</td>\n      <td>0.561</td>\n      <td>0.609</td>\n      <td>0.377</td>\n      <td>0.014</td>\n      <td>New York</td>\n      <td>New York with one of the largest populations a...</td>\n    </tr>\n    <tr>\n      <th>32</th>\n      <td>37</td>\n      <td>10488084</td>\n      <td>0.247179</td>\n      <td>0.166960</td>\n      <td>0.705514</td>\n      <td>0.222211</td>\n      <td>0.023361</td>\n      <td>0.902191</td>\n      <td>0.097809</td>\n      <td>0.179</td>\n      <td>...</td>\n      <td>0.39</td>\n      <td>0.135</td>\n      <td>0.580190</td>\n      <td>86.8</td>\n      <td>0.542</td>\n      <td>0.486</td>\n      <td>0.499</td>\n      <td>0.015</td>\n      <td>North Carolina</td>\n      <td>North Carolina with above-average population a...</td>\n    </tr>\n    <tr>\n      <th>33</th>\n      <td>38</td>\n      <td>762062</td>\n      <td>0.263465</td>\n      <td>0.157264</td>\n      <td>0.869424</td>\n      <td>0.034097</td>\n      <td>0.023073</td>\n      <td>0.958623</td>\n      <td>0.041377</td>\n      <td>0.122</td>\n      <td>...</td>\n      <td>0.35</td>\n      <td>0.11</td>\n      <td>0.201239</td>\n      <td>89.9</td>\n      <td>0.565</td>\n      <td>0.318</td>\n      <td>0.651</td>\n      <td>0.031</td>\n      <td>North Dakota</td>\n      <td>North Dakota with one of the smallest populati...</td>\n    </tr>\n    <tr>\n      <th>34</th>\n      <td>39</td>\n      <td>11689100</td>\n      <td>0.246971</td>\n      <td>0.175062</td>\n      <td>0.817235</td>\n      <td>0.130512</td>\n      <td>0.023804</td>\n      <td>0.959752</td>\n      <td>0.040248</td>\n      <td>0.2</td>\n      <td>...</td>\n      <td>0.4</td>\n      <td>0.13</td>\n      <td>0.443062</td>\n      <td>87.1</td>\n      <td>0.549</td>\n      <td>0.452</td>\n      <td>0.533</td>\n      <td>0.015</td>\n      <td>Ohio</td>\n      <td>Ohio with above-average population and above-a...</td>\n    </tr>\n    <tr>\n      <th>35</th>\n      <td>40</td>\n      <td>3956971</td>\n      <td>0.267501</td>\n      <td>0.160510</td>\n      <td>0.739797</td>\n      <td>0.077792</td>\n      <td>0.062639</td>\n      <td>0.889281</td>\n      <td>0.110719</td>\n      <td>0.17</td>\n      <td>...</td>\n      <td>0.41</td>\n      <td>0.155</td>\n      <td>0.622988</td>\n      <td>84.5</td>\n      <td>0.509</td>\n      <td>0.323</td>\n      <td>0.654</td>\n      <td>0.023</td>\n      <td>Oklahoma</td>\n      <td>Oklahoma with close to average population with...</td>\n    </tr>\n    <tr>\n      <th>36</th>\n      <td>41</td>\n      <td>4217737</td>\n      <td>0.228909</td>\n      <td>0.181633</td>\n      <td>0.866611</td>\n      <td>0.022225</td>\n      <td>0.039775</td>\n      <td>0.865604</td>\n      <td>0.134396</td>\n      <td>0.208</td>\n      <td>...</td>\n      <td>0.4</td>\n      <td>0.115</td>\n      <td>0.524471</td>\n      <td>90.9</td>\n      <td>0.562</td>\n      <td>0.565</td>\n      <td>0.404</td>\n      <td>0.032</td>\n      <td>Oregon</td>\n      <td>Oregon with close to average population and be...</td>\n    </tr>\n    <tr>\n      <th>37</th>\n      <td>42</td>\n      <td>12801989</td>\n      <td>0.232584</td>\n      <td>0.186952</td>\n      <td>0.816050</td>\n      <td>0.120301</td>\n      <td>0.021268</td>\n      <td>0.921875</td>\n      <td>0.078125</td>\n      <td>0.202</td>\n      <td>...</td>\n      <td>0.4</td>\n      <td>0.121</td>\n      <td>0.410951</td>\n      <td>89.2</td>\n      <td>0.578</td>\n      <td>0.500</td>\n      <td>0.488</td>\n      <td>0.011</td>\n      <td>Pennsylvania</td>\n      <td>Pennsylvania with one of the largest populatio...</td>\n    </tr>\n    <tr>\n      <th>38</th>\n      <td>44</td>\n      <td>1059361</td>\n      <td>0.225176</td>\n      <td>0.176565</td>\n      <td>0.835898</td>\n      <td>0.085059</td>\n      <td>0.028905</td>\n      <td>0.837030</td>\n      <td>0.162970</td>\n      <td>0.205</td>\n      <td>...</td>\n      <td>0.38</td>\n      <td>0.107</td>\n      <td>0.511517</td>\n      <td>90.4</td>\n      <td>0.561</td>\n      <td>0.594</td>\n      <td>0.386</td>\n      <td>0.020</td>\n      <td>Rhode Island</td>\n      <td>Rhode Island with below-average population wit...</td>\n    </tr>\n    <tr>\n      <th>39</th>\n      <td>45</td>\n      <td>5148714</td>\n      <td>0.242359</td>\n      <td>0.181992</td>\n      <td>0.686006</td>\n      <td>0.269585</td>\n      <td>0.019663</td>\n      <td>0.940351</td>\n      <td>0.059649</td>\n      <td>0.188</td>\n      <td>...</td>\n      <td>0.41</td>\n      <td>0.138</td>\n      <td>0.614322</td>\n      <td>85.2</td>\n      <td>0.554</td>\n      <td>0.434</td>\n      <td>0.551</td>\n      <td>0.015</td>\n      <td>South Carolina</td>\n      <td>South Carolina with close to average populatio...</td>\n    </tr>\n    <tr>\n      <th>40</th>\n      <td>46</td>\n      <td>884659</td>\n      <td>0.271932</td>\n      <td>0.171672</td>\n      <td>0.845603</td>\n      <td>0.022983</td>\n      <td>0.024605</td>\n      <td>0.957779</td>\n      <td>0.042221</td>\n      <td>0.128</td>\n      <td>...</td>\n      <td>0.35</td>\n      <td>0.11</td>\n      <td>0.323939</td>\n      <td>86.8</td>\n      <td>0.615</td>\n      <td>0.356</td>\n      <td>0.618</td>\n      <td>0.026</td>\n      <td>South Dakota</td>\n      <td>South Dakota with one of the smallest populati...</td>\n    </tr>\n    <tr>\n      <th>41</th>\n      <td>47</td>\n      <td>6829174</td>\n      <td>0.245647</td>\n      <td>0.167428</td>\n      <td>0.784049</td>\n      <td>0.170513</td>\n      <td>0.020060</td>\n      <td>0.942690</td>\n      <td>0.057310</td>\n      <td>0.195</td>\n      <td>...</td>\n      <td>0.42</td>\n      <td>0.139</td>\n      <td>0.524065</td>\n      <td>85.1</td>\n      <td>0.506</td>\n      <td>0.375</td>\n      <td>0.607</td>\n      <td>0.019</td>\n      <td>Tennessee</td>\n      <td>Tennessee with above-average population and ab...</td>\n    </tr>\n    <tr>\n      <th>42</th>\n      <td>48</td>\n      <td>28995881</td>\n      <td>0.283164</td>\n      <td>0.128785</td>\n      <td>0.786530</td>\n      <td>0.128957</td>\n      <td>0.020760</td>\n      <td>0.602510</td>\n      <td>0.397490</td>\n      <td>0.159</td>\n      <td>...</td>\n      <td>0.35</td>\n      <td>0.136</td>\n      <td>0.646160</td>\n      <td>86.8</td>\n      <td>0.488</td>\n      <td>0.465</td>\n      <td>0.521</td>\n      <td>0.015</td>\n      <td>Texas</td>\n      <td>Texas with one of the largest populations and ...</td>\n    </tr>\n    <tr>\n      <th>43</th>\n      <td>49</td>\n      <td>3205958</td>\n      <td>0.320844</td>\n      <td>0.114123</td>\n      <td>0.905855</td>\n      <td>0.014828</td>\n      <td>0.026470</td>\n      <td>0.855877</td>\n      <td>0.144123</td>\n      <td>0.093</td>\n      <td>...</td>\n      <td>0.3</td>\n      <td>0.094</td>\n      <td>0.301682</td>\n      <td>88.6</td>\n      <td>0.522</td>\n      <td>0.376</td>\n      <td>0.581</td>\n      <td>0.042</td>\n      <td>Utah</td>\n      <td>Utah with close to average population and one ...</td>\n    </tr>\n    <tr>\n      <th>44</th>\n      <td>50</td>\n      <td>623989</td>\n      <td>0.215412</td>\n      <td>0.200387</td>\n      <td>0.942488</td>\n      <td>0.014061</td>\n      <td>0.019970</td>\n      <td>0.979617</td>\n      <td>0.020383</td>\n      <td>0.239</td>\n      <td>...</td>\n      <td>0.39</td>\n      <td>0.102</td>\n      <td>0.200160</td>\n      <td>91.2</td>\n      <td>0.621</td>\n      <td>0.661</td>\n      <td>0.307</td>\n      <td>0.032</td>\n      <td>Vermont</td>\n      <td>Vermont with one of the smallest populations a...</td>\n    </tr>\n    <tr>\n      <th>45</th>\n      <td>51</td>\n      <td>8535519</td>\n      <td>0.244558</td>\n      <td>0.159206</td>\n      <td>0.693883</td>\n      <td>0.198806</td>\n      <td>0.031581</td>\n      <td>0.902241</td>\n      <td>0.097759</td>\n      <td>0.135</td>\n      <td>...</td>\n      <td>0.36</td>\n      <td>0.099</td>\n      <td>0.340798</td>\n      <td>90.0</td>\n      <td>0.569</td>\n      <td>0.541</td>\n      <td>0.440</td>\n      <td>0.019</td>\n      <td>Virginia</td>\n      <td>Virginia with above-average population and abo...</td>\n    </tr>\n    <tr>\n      <th>46</th>\n      <td>53</td>\n      <td>7614893</td>\n      <td>0.241672</td>\n      <td>0.158863</td>\n      <td>0.785001</td>\n      <td>0.043589</td>\n      <td>0.048607</td>\n      <td>0.869766</td>\n      <td>0.130234</td>\n      <td>0.198</td>\n      <td>...</td>\n      <td>0.35</td>\n      <td>0.097</td>\n      <td>0.418443</td>\n      <td>92.0</td>\n      <td>0.568</td>\n      <td>0.580</td>\n      <td>0.388</td>\n      <td>0.033</td>\n      <td>Washington</td>\n      <td>Washington with above-average population and b...</td>\n    </tr>\n    <tr>\n      <th>47</th>\n      <td>54</td>\n      <td>1792147</td>\n      <td>0.224576</td>\n      <td>0.204788</td>\n      <td>0.934701</td>\n      <td>0.036052</td>\n      <td>0.018189</td>\n      <td>0.982612</td>\n      <td>0.017388</td>\n      <td>0.266</td>\n      <td>...</td>\n      <td>0.49</td>\n      <td>0.158</td>\n      <td>0.512422</td>\n      <td>84.1</td>\n      <td>0.511</td>\n      <td>0.297</td>\n      <td>0.686</td>\n      <td>0.017</td>\n      <td>West Virginia</td>\n      <td>West Virginia with below-average population an...</td>\n    </tr>\n    <tr>\n      <th>48</th>\n      <td>55</td>\n      <td>5822434</td>\n      <td>0.244244</td>\n      <td>0.174711</td>\n      <td>0.870389</td>\n      <td>0.067076</td>\n      <td>0.020058</td>\n      <td>0.929032</td>\n      <td>0.070968</td>\n      <td>0.161</td>\n      <td>...</td>\n      <td>0.37</td>\n      <td>0.097</td>\n      <td>0.303599</td>\n      <td>90.6</td>\n      <td>0.593</td>\n      <td>0.494</td>\n      <td>0.488</td>\n      <td>0.017</td>\n      <td>Wisconsin</td>\n      <td>Wisconsin with above-average population with c...</td>\n    </tr>\n    <tr>\n      <th>49</th>\n      <td>56</td>\n      <td>578759</td>\n      <td>0.256017</td>\n      <td>0.171365</td>\n      <td>0.925033</td>\n      <td>0.012902</td>\n      <td>0.022420</td>\n      <td>0.898733</td>\n      <td>0.101267</td>\n      <td>0.115</td>\n      <td>...</td>\n      <td>0.36</td>\n      <td>0.099</td>\n      <td>0.276459</td>\n      <td>87.7</td>\n      <td>0.604</td>\n      <td>0.266</td>\n      <td>0.699</td>\n      <td>0.035</td>\n      <td>Wyoming</td>\n      <td>Wyoming with one of the smallest populations a...</td>\n    </tr>\n  </tbody>\n</table>\n<p>50 rows × 28 columns</p>\n</div>"
     },
     "execution_count": 2,
     "metadata": {},
     "output_type": "execute_result"
    }
   ],
   "source": [
    "fips_to_state = dict(zip(data['fips'], data['state_name']))\n",
    "# state_df['state_name'] = state_df.fips.map(fips_to_state)\n",
    "# new_col_order = ['state_name'] + [col for col in state_df if col != 'state_name']\n",
    "# state_df = state_df[new_col_order]\n",
    "state_df"
   ],
   "metadata": {
    "collapsed": false,
    "ExecuteTime": {
     "end_time": "2023-11-06T00:06:32.530344Z",
     "start_time": "2023-11-06T00:06:32.506094Z"
    }
   },
   "id": "302c965470a51d2d"
  },
  {
   "cell_type": "code",
   "execution_count": 3,
   "outputs": [
    {
     "data": {
      "text/plain": "['Alabama with close to average population and above-average Black demographic, voted for Republicans in the recent Presidential election. During the COVID-19 pandemic, overall healthcare systems performed worse than the national average, with worse than average Access and Affordability, Prevention and Treatment, population health conditions among one of the worst states for Income Disparity. Alabama has worse than average high ICU stress and hospital staffing shortages.',\n 'Massachusetts with above-average population with close to average Black demographic voted for Democratic in the recent Presidential election. During the COVID-19 pandemic, overall healthcare systems performed one of the best, with one of the best Access and Affordability, Prevention and Treatment, one of the best in population health conditions, and one of the best in Income Disparity. Massachusetts has worse than the national average in ICU stress and close to the national average hospital staffing shortages.',\n 'Wyoming with one of the smallest populations and one of the smallest Black demographic, voted for Republicans in the recent Presidential election. During the COVID-19 pandemic, overall healthcare systems performed worse than the national average, with one of the worst Access and Affordability, Prevention and Treatment, worse than the national average in population health conditions, and better than the national average in Income Disparity. Wyoming has one of the best in ICU stress and worse than the national average hospital staffing shortages. ']"
     },
     "execution_count": 3,
     "metadata": {},
     "output_type": "execute_result"
    }
   ],
   "source": [
    "state_df.iloc[[0, 20,-1]].Static_description.tolist()"
   ],
   "metadata": {
    "collapsed": false,
    "ExecuteTime": {
     "end_time": "2023-11-06T00:06:32.531715Z",
     "start_time": "2023-11-06T00:06:32.529639Z"
    }
   },
   "id": "b56d84ad659aa2a0"
  },
  {
   "cell_type": "code",
   "execution_count": 4,
   "outputs": [
    {
     "data": {
      "text/plain": "Index(['fips', 'Population', 'under_20', 'over_65', 'White', 'Black',\n       'Multiple_race', 'Not_Hispanic', 'Hispanic', 'medicaid_coverage',\n       'medicare_coverage', 'uninsured_percent', 'medicaid_spending',\n       'private_health_insurance_spending', 'medicare_spending_by_residence',\n       'health_care_spending', 'healthcare_utilization', 'poor_health_status',\n       'adults_at_high_risk', 'poverty_rate', 'social_vulnerability_index',\n       'Healthcare Access and Quality Index', 'Older_at_high_risk',\n       'dem_percent', 'rep_percent', 'other_percent', 'State',\n       'Static_description'],\n      dtype='object')"
     },
     "execution_count": 4,
     "metadata": {},
     "output_type": "execute_result"
    }
   ],
   "source": [
    "state_df.columns"
   ],
   "metadata": {
    "collapsed": false,
    "ExecuteTime": {
     "end_time": "2023-11-06T00:06:32.538124Z",
     "start_time": "2023-11-06T00:06:32.532351Z"
    }
   },
   "id": "c1637c81fdecd143"
  },
  {
   "cell_type": "code",
   "execution_count": 5,
   "outputs": [
    {
     "data": {
      "text/plain": "     state_name fips                   Week  Week_start    Week_end  \\\n0       Alabama   01  2020-12-14/2020-12-20  2020-12-14  2020-12-20   \n1       Alabama   01  2020-12-21/2020-12-27  2020-12-21  2020-12-27   \n2       Alabama   01  2020-12-28/2021-01-03  2020-12-28  2021-01-03   \n3       Alabama   01  2021-01-04/2021-01-10  2021-01-04  2021-01-10   \n4       Alabama   01  2021-01-11/2021-01-17  2021-01-11  2021-01-17   \n...         ...  ...                    ...         ...         ...   \n5295    Wyoming   56  2022-11-21/2022-11-27  2022-11-21  2022-11-27   \n5296    Wyoming   56  2022-11-28/2022-12-04  2022-11-28  2022-12-04   \n5297    Wyoming   56  2022-12-05/2022-12-11  2022-12-05  2022-12-11   \n5298    Wyoming   56  2022-12-12/2022-12-18  2022-12-12  2022-12-18   \n5299    Wyoming   56  2022-12-19/2022-12-25  2022-12-19  2022-12-25   \n\n      hospitalization_per_100k  Change  reported_cases_per_100k  \\\n0                         54.9    35.8                    547.0   \n1                         58.1    21.5                    472.7   \n2                         61.2    14.2                    536.5   \n3                         61.6     6.1                    611.2   \n4                         55.1    -8.6                    422.1   \n...                        ...     ...                      ...   \n5295                      10.5    38.6                    101.6   \n5296                      10.5    27.1                     86.2   \n5297                       8.1   -11.9                    133.0   \n5298                       6.0   -37.9                     86.9   \n5299                       6.0   -26.6                     66.2   \n\n      previous_infection_12w  Dose1_Pop_Pct  ...  Risk_level_3w  \\\n0                        3.5            0.0  ...           High   \n1                        3.8            0.0  ...           High   \n2                        4.2            0.0  ...           High   \n3                        4.7            0.0  ...           High   \n4                        4.9            0.0  ...           High   \n...                      ...            ...  ...            ...   \n5295                     1.0           60.4  ...            low   \n5296                     1.0           60.5  ...            low   \n5297                     1.0           60.5  ...            low   \n5298                     1.0           60.6  ...            low   \n5299                     1.0           60.7  ...            low   \n\n      Risk_level_4w                   Trend                Trend_1w  \\\n0              High  Substantial Increasing  Substantial Increasing   \n1              High  Substantial Increasing     Moderate Increasing   \n2              High     Moderate Increasing                  Stable   \n3              High                  Stable                  Stable   \n4              High                  Stable  Substantial Decreasing   \n...             ...                     ...                     ...   \n5295            low  Substantial Increasing  Substantial Increasing   \n5296            low  Substantial Increasing     Moderate Decreasing   \n5297            low     Moderate Decreasing  Substantial Decreasing   \n5298            low  Substantial Decreasing  Substantial Decreasing   \n5299            low  Substantial Decreasing  Substantial Decreasing   \n\n                    Trend_2w                Trend_3w                Trend_4w  \\\n0        Moderate Increasing                  Stable                  Stable   \n1                     Stable                  Stable  Substantial Decreasing   \n2                     Stable  Substantial Decreasing  Substantial Decreasing   \n3     Substantial Decreasing  Substantial Decreasing  Substantial Decreasing   \n4     Substantial Decreasing  Substantial Decreasing  Substantial Decreasing   \n...                      ...                     ...                     ...   \n5295     Moderate Decreasing  Substantial Decreasing  Substantial Decreasing   \n5296  Substantial Decreasing  Substantial Decreasing  Substantial Decreasing   \n5297  Substantial Decreasing  Substantial Decreasing  Substantial Decreasing   \n5298  Substantial Decreasing  Substantial Decreasing                  Stable   \n5299  Substantial Decreasing                  Stable     Moderate Decreasing   \n\n                                         Vaccine_prompt  \\\n0     To date, 0% of population got at least one dos...   \n1     To date, 0% of population got at least one dos...   \n2     To date, 0% of population got at least one dos...   \n3     To date, 0% of population got at least one dos...   \n4     To date, 0% of population got at least one dos...   \n...                                                 ...   \n5295  To date, 60% of population got at least one do...   \n5296  To date, 60% of population got at least one do...   \n5297  To date, 60% of population got at least one do...   \n5298  To date, 60% of population got at least one do...   \n5299  To date, 60% of population got at least one do...   \n\n                              Previous_infection_prompt  \\\n0     Around 3.5% of the population reported COVID-1...   \n1     Around 3.8% of the population reported COVID-1...   \n2     Around 4.2% of the population reported COVID-1...   \n3     Around 4.7% of the population reported COVID-1...   \n4     Around 4.9% of the population reported COVID-1...   \n...                                                 ...   \n5295  Around 1.0% of the population reported COVID-1...   \n5296  Around 1.0% of the population reported COVID-1...   \n5297  Around 1.0% of the population reported COVID-1...   \n5298  Around 1.0% of the population reported COVID-1...   \n5299  Around 1.0% of the population reported COVID-1...   \n\n                                          policy_prompt  \n0     All containment and closure policies remain th...  \n1     All containment and closure policies remain th...  \n2     All containment and closure policies remain th...  \n3     All containment and closure policies remain th...  \n4     All containment and closure policies remain th...  \n...                                                 ...  \n5295  All containment and closure policies remain th...  \n5296  All containment and closure policies remain th...  \n5297  All containment and closure policies remain th...  \n5298  All containment and closure policies remain th...  \n5299  All containment and closure policies remain th...  \n\n[5300 rows x 38 columns]",
      "text/html": "<div>\n<style scoped>\n    .dataframe tbody tr th:only-of-type {\n        vertical-align: middle;\n    }\n\n    .dataframe tbody tr th {\n        vertical-align: top;\n    }\n\n    .dataframe thead th {\n        text-align: right;\n    }\n</style>\n<table border=\"1\" class=\"dataframe\">\n  <thead>\n    <tr style=\"text-align: right;\">\n      <th></th>\n      <th>state_name</th>\n      <th>fips</th>\n      <th>Week</th>\n      <th>Week_start</th>\n      <th>Week_end</th>\n      <th>hospitalization_per_100k</th>\n      <th>Change</th>\n      <th>reported_cases_per_100k</th>\n      <th>previous_infection_12w</th>\n      <th>Dose1_Pop_Pct</th>\n      <th>...</th>\n      <th>Risk_level_3w</th>\n      <th>Risk_level_4w</th>\n      <th>Trend</th>\n      <th>Trend_1w</th>\n      <th>Trend_2w</th>\n      <th>Trend_3w</th>\n      <th>Trend_4w</th>\n      <th>Vaccine_prompt</th>\n      <th>Previous_infection_prompt</th>\n      <th>policy_prompt</th>\n    </tr>\n  </thead>\n  <tbody>\n    <tr>\n      <th>0</th>\n      <td>Alabama</td>\n      <td>01</td>\n      <td>2020-12-14/2020-12-20</td>\n      <td>2020-12-14</td>\n      <td>2020-12-20</td>\n      <td>54.9</td>\n      <td>35.8</td>\n      <td>547.0</td>\n      <td>3.5</td>\n      <td>0.0</td>\n      <td>...</td>\n      <td>High</td>\n      <td>High</td>\n      <td>Substantial Increasing</td>\n      <td>Substantial Increasing</td>\n      <td>Moderate Increasing</td>\n      <td>Stable</td>\n      <td>Stable</td>\n      <td>To date, 0% of population got at least one dos...</td>\n      <td>Around 3.5% of the population reported COVID-1...</td>\n      <td>All containment and closure policies remain th...</td>\n    </tr>\n    <tr>\n      <th>1</th>\n      <td>Alabama</td>\n      <td>01</td>\n      <td>2020-12-21/2020-12-27</td>\n      <td>2020-12-21</td>\n      <td>2020-12-27</td>\n      <td>58.1</td>\n      <td>21.5</td>\n      <td>472.7</td>\n      <td>3.8</td>\n      <td>0.0</td>\n      <td>...</td>\n      <td>High</td>\n      <td>High</td>\n      <td>Substantial Increasing</td>\n      <td>Moderate Increasing</td>\n      <td>Stable</td>\n      <td>Stable</td>\n      <td>Substantial Decreasing</td>\n      <td>To date, 0% of population got at least one dos...</td>\n      <td>Around 3.8% of the population reported COVID-1...</td>\n      <td>All containment and closure policies remain th...</td>\n    </tr>\n    <tr>\n      <th>2</th>\n      <td>Alabama</td>\n      <td>01</td>\n      <td>2020-12-28/2021-01-03</td>\n      <td>2020-12-28</td>\n      <td>2021-01-03</td>\n      <td>61.2</td>\n      <td>14.2</td>\n      <td>536.5</td>\n      <td>4.2</td>\n      <td>0.0</td>\n      <td>...</td>\n      <td>High</td>\n      <td>High</td>\n      <td>Moderate Increasing</td>\n      <td>Stable</td>\n      <td>Stable</td>\n      <td>Substantial Decreasing</td>\n      <td>Substantial Decreasing</td>\n      <td>To date, 0% of population got at least one dos...</td>\n      <td>Around 4.2% of the population reported COVID-1...</td>\n      <td>All containment and closure policies remain th...</td>\n    </tr>\n    <tr>\n      <th>3</th>\n      <td>Alabama</td>\n      <td>01</td>\n      <td>2021-01-04/2021-01-10</td>\n      <td>2021-01-04</td>\n      <td>2021-01-10</td>\n      <td>61.6</td>\n      <td>6.1</td>\n      <td>611.2</td>\n      <td>4.7</td>\n      <td>0.0</td>\n      <td>...</td>\n      <td>High</td>\n      <td>High</td>\n      <td>Stable</td>\n      <td>Stable</td>\n      <td>Substantial Decreasing</td>\n      <td>Substantial Decreasing</td>\n      <td>Substantial Decreasing</td>\n      <td>To date, 0% of population got at least one dos...</td>\n      <td>Around 4.7% of the population reported COVID-1...</td>\n      <td>All containment and closure policies remain th...</td>\n    </tr>\n    <tr>\n      <th>4</th>\n      <td>Alabama</td>\n      <td>01</td>\n      <td>2021-01-11/2021-01-17</td>\n      <td>2021-01-11</td>\n      <td>2021-01-17</td>\n      <td>55.1</td>\n      <td>-8.6</td>\n      <td>422.1</td>\n      <td>4.9</td>\n      <td>0.0</td>\n      <td>...</td>\n      <td>High</td>\n      <td>High</td>\n      <td>Stable</td>\n      <td>Substantial Decreasing</td>\n      <td>Substantial Decreasing</td>\n      <td>Substantial Decreasing</td>\n      <td>Substantial Decreasing</td>\n      <td>To date, 0% of population got at least one dos...</td>\n      <td>Around 4.9% of the population reported COVID-1...</td>\n      <td>All containment and closure policies remain th...</td>\n    </tr>\n    <tr>\n      <th>...</th>\n      <td>...</td>\n      <td>...</td>\n      <td>...</td>\n      <td>...</td>\n      <td>...</td>\n      <td>...</td>\n      <td>...</td>\n      <td>...</td>\n      <td>...</td>\n      <td>...</td>\n      <td>...</td>\n      <td>...</td>\n      <td>...</td>\n      <td>...</td>\n      <td>...</td>\n      <td>...</td>\n      <td>...</td>\n      <td>...</td>\n      <td>...</td>\n      <td>...</td>\n      <td>...</td>\n    </tr>\n    <tr>\n      <th>5295</th>\n      <td>Wyoming</td>\n      <td>56</td>\n      <td>2022-11-21/2022-11-27</td>\n      <td>2022-11-21</td>\n      <td>2022-11-27</td>\n      <td>10.5</td>\n      <td>38.6</td>\n      <td>101.6</td>\n      <td>1.0</td>\n      <td>60.4</td>\n      <td>...</td>\n      <td>low</td>\n      <td>low</td>\n      <td>Substantial Increasing</td>\n      <td>Substantial Increasing</td>\n      <td>Moderate Decreasing</td>\n      <td>Substantial Decreasing</td>\n      <td>Substantial Decreasing</td>\n      <td>To date, 60% of population got at least one do...</td>\n      <td>Around 1.0% of the population reported COVID-1...</td>\n      <td>All containment and closure policies remain th...</td>\n    </tr>\n    <tr>\n      <th>5296</th>\n      <td>Wyoming</td>\n      <td>56</td>\n      <td>2022-11-28/2022-12-04</td>\n      <td>2022-11-28</td>\n      <td>2022-12-04</td>\n      <td>10.5</td>\n      <td>27.1</td>\n      <td>86.2</td>\n      <td>1.0</td>\n      <td>60.5</td>\n      <td>...</td>\n      <td>low</td>\n      <td>low</td>\n      <td>Substantial Increasing</td>\n      <td>Moderate Decreasing</td>\n      <td>Substantial Decreasing</td>\n      <td>Substantial Decreasing</td>\n      <td>Substantial Decreasing</td>\n      <td>To date, 60% of population got at least one do...</td>\n      <td>Around 1.0% of the population reported COVID-1...</td>\n      <td>All containment and closure policies remain th...</td>\n    </tr>\n    <tr>\n      <th>5297</th>\n      <td>Wyoming</td>\n      <td>56</td>\n      <td>2022-12-05/2022-12-11</td>\n      <td>2022-12-05</td>\n      <td>2022-12-11</td>\n      <td>8.1</td>\n      <td>-11.9</td>\n      <td>133.0</td>\n      <td>1.0</td>\n      <td>60.5</td>\n      <td>...</td>\n      <td>low</td>\n      <td>low</td>\n      <td>Moderate Decreasing</td>\n      <td>Substantial Decreasing</td>\n      <td>Substantial Decreasing</td>\n      <td>Substantial Decreasing</td>\n      <td>Substantial Decreasing</td>\n      <td>To date, 60% of population got at least one do...</td>\n      <td>Around 1.0% of the population reported COVID-1...</td>\n      <td>All containment and closure policies remain th...</td>\n    </tr>\n    <tr>\n      <th>5298</th>\n      <td>Wyoming</td>\n      <td>56</td>\n      <td>2022-12-12/2022-12-18</td>\n      <td>2022-12-12</td>\n      <td>2022-12-18</td>\n      <td>6.0</td>\n      <td>-37.9</td>\n      <td>86.9</td>\n      <td>1.0</td>\n      <td>60.6</td>\n      <td>...</td>\n      <td>low</td>\n      <td>low</td>\n      <td>Substantial Decreasing</td>\n      <td>Substantial Decreasing</td>\n      <td>Substantial Decreasing</td>\n      <td>Substantial Decreasing</td>\n      <td>Stable</td>\n      <td>To date, 60% of population got at least one do...</td>\n      <td>Around 1.0% of the population reported COVID-1...</td>\n      <td>All containment and closure policies remain th...</td>\n    </tr>\n    <tr>\n      <th>5299</th>\n      <td>Wyoming</td>\n      <td>56</td>\n      <td>2022-12-19/2022-12-25</td>\n      <td>2022-12-19</td>\n      <td>2022-12-25</td>\n      <td>6.0</td>\n      <td>-26.6</td>\n      <td>66.2</td>\n      <td>1.0</td>\n      <td>60.7</td>\n      <td>...</td>\n      <td>low</td>\n      <td>low</td>\n      <td>Substantial Decreasing</td>\n      <td>Substantial Decreasing</td>\n      <td>Substantial Decreasing</td>\n      <td>Stable</td>\n      <td>Moderate Decreasing</td>\n      <td>To date, 60% of population got at least one do...</td>\n      <td>Around 1.0% of the population reported COVID-1...</td>\n      <td>All containment and closure policies remain th...</td>\n    </tr>\n  </tbody>\n</table>\n<p>5300 rows × 38 columns</p>\n</div>"
     },
     "execution_count": 5,
     "metadata": {},
     "output_type": "execute_result"
    }
   ],
   "source": [
    "data"
   ],
   "metadata": {
    "collapsed": false,
    "ExecuteTime": {
     "end_time": "2023-11-06T00:06:32.554109Z",
     "start_time": "2023-11-06T00:06:32.535211Z"
    }
   },
   "id": "5358d6d27bce8c16"
  },
  {
   "cell_type": "code",
   "execution_count": 6,
   "outputs": [
    {
     "data": {
      "text/plain": "Index(['state_name', 'fips', 'Week', 'Week_start', 'Week_end',\n       'hospitalization_per_100k', 'Change', 'reported_cases_per_100k',\n       'previous_infection_12w', 'Dose1_Pop_Pct', 'Series_Complete_Pop_Pct',\n       'Additional_Doses_Vax_Pct', 'C1M_School closing',\n       'C2M_Workplace closing', 'C3M_Cancel public events',\n       'C4M_Restrictions on gatherings', 'C6M_Stay at home requirements',\n       'C7M_Restrictions on internal movement',\n       'C8NV_International travel controls',\n       'C8V_International travel controls', 'H1_Public information campaigns',\n       'H2_Testing policy', 'H3_Contact tracing', 'H6M_Facial Coverings',\n       'H8M_Protection of elderly people', 'Risk_level', 'Risk_level_1w',\n       'Risk_level_2w', 'Risk_level_3w', 'Risk_level_4w', 'Trend', 'Trend_1w',\n       'Trend_2w', 'Trend_3w', 'Trend_4w', 'Vaccine_prompt',\n       'Previous_infection_prompt', 'policy_prompt'],\n      dtype='object')"
     },
     "execution_count": 6,
     "metadata": {},
     "output_type": "execute_result"
    }
   ],
   "source": [
    "data.columns"
   ],
   "metadata": {
    "collapsed": false,
    "ExecuteTime": {
     "end_time": "2023-11-06T00:06:32.572509Z",
     "start_time": "2023-11-06T00:06:32.550211Z"
    }
   },
   "id": "53e2213426c2df24"
  },
  {
   "cell_type": "code",
   "execution_count": 7,
   "outputs": [],
   "source": [
    "# ! Round floats\n",
    "state_df[state_df.select_dtypes(include=['float64']).columns] = state_df.select_dtypes(include=['float64']).round(2)\n",
    "data[data.select_dtypes(include=['float64']).columns] = data.select_dtypes(include=['float64']).round(2)"
   ],
   "metadata": {
    "collapsed": false,
    "ExecuteTime": {
     "end_time": "2023-11-06T00:06:32.585627Z",
     "start_time": "2023-11-06T00:06:32.557088Z"
    }
   },
   "id": "556f1088f0dc6b10"
  },
  {
   "cell_type": "code",
   "execution_count": 8,
   "outputs": [
    {
     "data": {
      "text/plain": "     state_name fips                   Week  Week_start    Week_end  \\\n0       Alabama   01  2020-12-14/2020-12-20  2020-12-14  2020-12-20   \n1       Alabama   01  2020-12-21/2020-12-27  2020-12-21  2020-12-27   \n2       Alabama   01  2020-12-28/2021-01-03  2020-12-28  2021-01-03   \n3       Alabama   01  2021-01-04/2021-01-10  2021-01-04  2021-01-10   \n4       Alabama   01  2021-01-11/2021-01-17  2021-01-11  2021-01-17   \n...         ...  ...                    ...         ...         ...   \n5295    Wyoming   56  2022-11-21/2022-11-27  2022-11-21  2022-11-27   \n5296    Wyoming   56  2022-11-28/2022-12-04  2022-11-28  2022-12-04   \n5297    Wyoming   56  2022-12-05/2022-12-11  2022-12-05  2022-12-11   \n5298    Wyoming   56  2022-12-12/2022-12-18  2022-12-12  2022-12-18   \n5299    Wyoming   56  2022-12-19/2022-12-25  2022-12-19  2022-12-25   \n\n      hospitalization_per_100k  Change  reported_cases_per_100k  \\\n0                         54.9    35.8                    547.0   \n1                         58.1    21.5                    472.7   \n2                         61.2    14.2                    536.5   \n3                         61.6     6.1                    611.2   \n4                         55.1    -8.6                    422.1   \n...                        ...     ...                      ...   \n5295                      10.5    38.6                    101.6   \n5296                      10.5    27.1                     86.2   \n5297                       8.1   -11.9                    133.0   \n5298                       6.0   -37.9                     86.9   \n5299                       6.0   -26.6                     66.2   \n\n      previous_infection_12w  Dose1_Pop_Pct  ...                   Trend  \\\n0                        3.5            0.0  ...  Substantial Increasing   \n1                        3.8            0.0  ...  Substantial Increasing   \n2                        4.2            0.0  ...     Moderate Increasing   \n3                        4.7            0.0  ...                  Stable   \n4                        4.9            0.0  ...                  Stable   \n...                      ...            ...  ...                     ...   \n5295                     1.0           60.4  ...  Substantial Increasing   \n5296                     1.0           60.5  ...  Substantial Increasing   \n5297                     1.0           60.5  ...     Moderate Decreasing   \n5298                     1.0           60.6  ...  Substantial Decreasing   \n5299                     1.0           60.7  ...  Substantial Decreasing   \n\n                    Trend_1w                Trend_2w                Trend_3w  \\\n0     Substantial Increasing     Moderate Increasing                  Stable   \n1        Moderate Increasing                  Stable                  Stable   \n2                     Stable                  Stable  Substantial Decreasing   \n3                     Stable  Substantial Decreasing  Substantial Decreasing   \n4     Substantial Decreasing  Substantial Decreasing  Substantial Decreasing   \n...                      ...                     ...                     ...   \n5295  Substantial Increasing     Moderate Decreasing  Substantial Decreasing   \n5296     Moderate Decreasing  Substantial Decreasing  Substantial Decreasing   \n5297  Substantial Decreasing  Substantial Decreasing  Substantial Decreasing   \n5298  Substantial Decreasing  Substantial Decreasing  Substantial Decreasing   \n5299  Substantial Decreasing  Substantial Decreasing                  Stable   \n\n                    Trend_4w  \\\n0                     Stable   \n1     Substantial Decreasing   \n2     Substantial Decreasing   \n3     Substantial Decreasing   \n4     Substantial Decreasing   \n...                      ...   \n5295  Substantial Decreasing   \n5296  Substantial Decreasing   \n5297  Substantial Decreasing   \n5298                  Stable   \n5299     Moderate Decreasing   \n\n                                         Vaccine_prompt  \\\n0     To date, 0% of population got at least one dos...   \n1     To date, 0% of population got at least one dos...   \n2     To date, 0% of population got at least one dos...   \n3     To date, 0% of population got at least one dos...   \n4     To date, 0% of population got at least one dos...   \n...                                                 ...   \n5295  To date, 60% of population got at least one do...   \n5296  To date, 60% of population got at least one do...   \n5297  To date, 60% of population got at least one do...   \n5298  To date, 60% of population got at least one do...   \n5299  To date, 60% of population got at least one do...   \n\n                              Previous_infection_prompt  \\\n0     Around 3.5% of the population reported COVID-1...   \n1     Around 3.8% of the population reported COVID-1...   \n2     Around 4.2% of the population reported COVID-1...   \n3     Around 4.7% of the population reported COVID-1...   \n4     Around 4.9% of the population reported COVID-1...   \n...                                                 ...   \n5295  Around 1.0% of the population reported COVID-1...   \n5296  Around 1.0% of the population reported COVID-1...   \n5297  Around 1.0% of the population reported COVID-1...   \n5298  Around 1.0% of the population reported COVID-1...   \n5299  Around 1.0% of the population reported COVID-1...   \n\n                                          policy_prompt week_id           uid  \n0     All containment and closure policies remain th...       0    Alabama-W0  \n1     All containment and closure policies remain th...       1    Alabama-W1  \n2     All containment and closure policies remain th...       2    Alabama-W2  \n3     All containment and closure policies remain th...       3    Alabama-W3  \n4     All containment and closure policies remain th...       4    Alabama-W4  \n...                                                 ...     ...           ...  \n5295  All containment and closure policies remain th...     101  Wyoming-W101  \n5296  All containment and closure policies remain th...     102  Wyoming-W102  \n5297  All containment and closure policies remain th...     103  Wyoming-W103  \n5298  All containment and closure policies remain th...     104  Wyoming-W104  \n5299  All containment and closure policies remain th...     105  Wyoming-W105  \n\n[5300 rows x 40 columns]",
      "text/html": "<div>\n<style scoped>\n    .dataframe tbody tr th:only-of-type {\n        vertical-align: middle;\n    }\n\n    .dataframe tbody tr th {\n        vertical-align: top;\n    }\n\n    .dataframe thead th {\n        text-align: right;\n    }\n</style>\n<table border=\"1\" class=\"dataframe\">\n  <thead>\n    <tr style=\"text-align: right;\">\n      <th></th>\n      <th>state_name</th>\n      <th>fips</th>\n      <th>Week</th>\n      <th>Week_start</th>\n      <th>Week_end</th>\n      <th>hospitalization_per_100k</th>\n      <th>Change</th>\n      <th>reported_cases_per_100k</th>\n      <th>previous_infection_12w</th>\n      <th>Dose1_Pop_Pct</th>\n      <th>...</th>\n      <th>Trend</th>\n      <th>Trend_1w</th>\n      <th>Trend_2w</th>\n      <th>Trend_3w</th>\n      <th>Trend_4w</th>\n      <th>Vaccine_prompt</th>\n      <th>Previous_infection_prompt</th>\n      <th>policy_prompt</th>\n      <th>week_id</th>\n      <th>uid</th>\n    </tr>\n  </thead>\n  <tbody>\n    <tr>\n      <th>0</th>\n      <td>Alabama</td>\n      <td>01</td>\n      <td>2020-12-14/2020-12-20</td>\n      <td>2020-12-14</td>\n      <td>2020-12-20</td>\n      <td>54.9</td>\n      <td>35.8</td>\n      <td>547.0</td>\n      <td>3.5</td>\n      <td>0.0</td>\n      <td>...</td>\n      <td>Substantial Increasing</td>\n      <td>Substantial Increasing</td>\n      <td>Moderate Increasing</td>\n      <td>Stable</td>\n      <td>Stable</td>\n      <td>To date, 0% of population got at least one dos...</td>\n      <td>Around 3.5% of the population reported COVID-1...</td>\n      <td>All containment and closure policies remain th...</td>\n      <td>0</td>\n      <td>Alabama-W0</td>\n    </tr>\n    <tr>\n      <th>1</th>\n      <td>Alabama</td>\n      <td>01</td>\n      <td>2020-12-21/2020-12-27</td>\n      <td>2020-12-21</td>\n      <td>2020-12-27</td>\n      <td>58.1</td>\n      <td>21.5</td>\n      <td>472.7</td>\n      <td>3.8</td>\n      <td>0.0</td>\n      <td>...</td>\n      <td>Substantial Increasing</td>\n      <td>Moderate Increasing</td>\n      <td>Stable</td>\n      <td>Stable</td>\n      <td>Substantial Decreasing</td>\n      <td>To date, 0% of population got at least one dos...</td>\n      <td>Around 3.8% of the population reported COVID-1...</td>\n      <td>All containment and closure policies remain th...</td>\n      <td>1</td>\n      <td>Alabama-W1</td>\n    </tr>\n    <tr>\n      <th>2</th>\n      <td>Alabama</td>\n      <td>01</td>\n      <td>2020-12-28/2021-01-03</td>\n      <td>2020-12-28</td>\n      <td>2021-01-03</td>\n      <td>61.2</td>\n      <td>14.2</td>\n      <td>536.5</td>\n      <td>4.2</td>\n      <td>0.0</td>\n      <td>...</td>\n      <td>Moderate Increasing</td>\n      <td>Stable</td>\n      <td>Stable</td>\n      <td>Substantial Decreasing</td>\n      <td>Substantial Decreasing</td>\n      <td>To date, 0% of population got at least one dos...</td>\n      <td>Around 4.2% of the population reported COVID-1...</td>\n      <td>All containment and closure policies remain th...</td>\n      <td>2</td>\n      <td>Alabama-W2</td>\n    </tr>\n    <tr>\n      <th>3</th>\n      <td>Alabama</td>\n      <td>01</td>\n      <td>2021-01-04/2021-01-10</td>\n      <td>2021-01-04</td>\n      <td>2021-01-10</td>\n      <td>61.6</td>\n      <td>6.1</td>\n      <td>611.2</td>\n      <td>4.7</td>\n      <td>0.0</td>\n      <td>...</td>\n      <td>Stable</td>\n      <td>Stable</td>\n      <td>Substantial Decreasing</td>\n      <td>Substantial Decreasing</td>\n      <td>Substantial Decreasing</td>\n      <td>To date, 0% of population got at least one dos...</td>\n      <td>Around 4.7% of the population reported COVID-1...</td>\n      <td>All containment and closure policies remain th...</td>\n      <td>3</td>\n      <td>Alabama-W3</td>\n    </tr>\n    <tr>\n      <th>4</th>\n      <td>Alabama</td>\n      <td>01</td>\n      <td>2021-01-11/2021-01-17</td>\n      <td>2021-01-11</td>\n      <td>2021-01-17</td>\n      <td>55.1</td>\n      <td>-8.6</td>\n      <td>422.1</td>\n      <td>4.9</td>\n      <td>0.0</td>\n      <td>...</td>\n      <td>Stable</td>\n      <td>Substantial Decreasing</td>\n      <td>Substantial Decreasing</td>\n      <td>Substantial Decreasing</td>\n      <td>Substantial Decreasing</td>\n      <td>To date, 0% of population got at least one dos...</td>\n      <td>Around 4.9% of the population reported COVID-1...</td>\n      <td>All containment and closure policies remain th...</td>\n      <td>4</td>\n      <td>Alabama-W4</td>\n    </tr>\n    <tr>\n      <th>...</th>\n      <td>...</td>\n      <td>...</td>\n      <td>...</td>\n      <td>...</td>\n      <td>...</td>\n      <td>...</td>\n      <td>...</td>\n      <td>...</td>\n      <td>...</td>\n      <td>...</td>\n      <td>...</td>\n      <td>...</td>\n      <td>...</td>\n      <td>...</td>\n      <td>...</td>\n      <td>...</td>\n      <td>...</td>\n      <td>...</td>\n      <td>...</td>\n      <td>...</td>\n      <td>...</td>\n    </tr>\n    <tr>\n      <th>5295</th>\n      <td>Wyoming</td>\n      <td>56</td>\n      <td>2022-11-21/2022-11-27</td>\n      <td>2022-11-21</td>\n      <td>2022-11-27</td>\n      <td>10.5</td>\n      <td>38.6</td>\n      <td>101.6</td>\n      <td>1.0</td>\n      <td>60.4</td>\n      <td>...</td>\n      <td>Substantial Increasing</td>\n      <td>Substantial Increasing</td>\n      <td>Moderate Decreasing</td>\n      <td>Substantial Decreasing</td>\n      <td>Substantial Decreasing</td>\n      <td>To date, 60% of population got at least one do...</td>\n      <td>Around 1.0% of the population reported COVID-1...</td>\n      <td>All containment and closure policies remain th...</td>\n      <td>101</td>\n      <td>Wyoming-W101</td>\n    </tr>\n    <tr>\n      <th>5296</th>\n      <td>Wyoming</td>\n      <td>56</td>\n      <td>2022-11-28/2022-12-04</td>\n      <td>2022-11-28</td>\n      <td>2022-12-04</td>\n      <td>10.5</td>\n      <td>27.1</td>\n      <td>86.2</td>\n      <td>1.0</td>\n      <td>60.5</td>\n      <td>...</td>\n      <td>Substantial Increasing</td>\n      <td>Moderate Decreasing</td>\n      <td>Substantial Decreasing</td>\n      <td>Substantial Decreasing</td>\n      <td>Substantial Decreasing</td>\n      <td>To date, 60% of population got at least one do...</td>\n      <td>Around 1.0% of the population reported COVID-1...</td>\n      <td>All containment and closure policies remain th...</td>\n      <td>102</td>\n      <td>Wyoming-W102</td>\n    </tr>\n    <tr>\n      <th>5297</th>\n      <td>Wyoming</td>\n      <td>56</td>\n      <td>2022-12-05/2022-12-11</td>\n      <td>2022-12-05</td>\n      <td>2022-12-11</td>\n      <td>8.1</td>\n      <td>-11.9</td>\n      <td>133.0</td>\n      <td>1.0</td>\n      <td>60.5</td>\n      <td>...</td>\n      <td>Moderate Decreasing</td>\n      <td>Substantial Decreasing</td>\n      <td>Substantial Decreasing</td>\n      <td>Substantial Decreasing</td>\n      <td>Substantial Decreasing</td>\n      <td>To date, 60% of population got at least one do...</td>\n      <td>Around 1.0% of the population reported COVID-1...</td>\n      <td>All containment and closure policies remain th...</td>\n      <td>103</td>\n      <td>Wyoming-W103</td>\n    </tr>\n    <tr>\n      <th>5298</th>\n      <td>Wyoming</td>\n      <td>56</td>\n      <td>2022-12-12/2022-12-18</td>\n      <td>2022-12-12</td>\n      <td>2022-12-18</td>\n      <td>6.0</td>\n      <td>-37.9</td>\n      <td>86.9</td>\n      <td>1.0</td>\n      <td>60.6</td>\n      <td>...</td>\n      <td>Substantial Decreasing</td>\n      <td>Substantial Decreasing</td>\n      <td>Substantial Decreasing</td>\n      <td>Substantial Decreasing</td>\n      <td>Stable</td>\n      <td>To date, 60% of population got at least one do...</td>\n      <td>Around 1.0% of the population reported COVID-1...</td>\n      <td>All containment and closure policies remain th...</td>\n      <td>104</td>\n      <td>Wyoming-W104</td>\n    </tr>\n    <tr>\n      <th>5299</th>\n      <td>Wyoming</td>\n      <td>56</td>\n      <td>2022-12-19/2022-12-25</td>\n      <td>2022-12-19</td>\n      <td>2022-12-25</td>\n      <td>6.0</td>\n      <td>-26.6</td>\n      <td>66.2</td>\n      <td>1.0</td>\n      <td>60.7</td>\n      <td>...</td>\n      <td>Substantial Decreasing</td>\n      <td>Substantial Decreasing</td>\n      <td>Substantial Decreasing</td>\n      <td>Stable</td>\n      <td>Moderate Decreasing</td>\n      <td>To date, 60% of population got at least one do...</td>\n      <td>Around 1.0% of the population reported COVID-1...</td>\n      <td>All containment and closure policies remain th...</td>\n      <td>105</td>\n      <td>Wyoming-W105</td>\n    </tr>\n  </tbody>\n</table>\n<p>5300 rows × 40 columns</p>\n</div>"
     },
     "execution_count": 8,
     "metadata": {},
     "output_type": "execute_result"
    }
   ],
   "source": [
    "# ! Add Unique IDs\n",
    "weeks = list(sorted(data.Week_start.unique()))\n",
    "week_to_id = {week: index for index, week in enumerate(weeks)}\n",
    "uid_map = lambda x: f'{x.state_name}-W{x.week_id}'\n",
    "data['week_id'] = data.Week_start.map(week_to_id)\n",
    "data['uid'] = data.apply(uid_map, axis=1)\n",
    "data"
   ],
   "metadata": {
    "collapsed": false,
    "ExecuteTime": {
     "end_time": "2023-11-06T00:06:32.753141Z",
     "start_time": "2023-11-06T00:06:32.564331Z"
    }
   },
   "id": "5e9a7d4d816b4ddf"
  },
  {
   "cell_type": "code",
   "execution_count": 9,
   "outputs": [],
   "source": [
    "# Splitting the dataframe\n",
    "splits = {}\n",
    "df = data\n",
    "train_df = df[df['Week_start'] < '2021-10-01']\n",
    "val_df = df[(df['Week_start'] >= '2021-10-01') & (df['Week_start'] < '2022-09-01')]\n",
    "test_df = df[df['Week_start'] >= '2022-09-01']\n",
    "splits['by_time'] = {split: np.array(_df.index.tolist())\n",
    "                     for split, _df in (('train', train_df), ('val', val_df), ('test', test_df))\n",
    "                     }\n"
   ],
   "metadata": {
    "collapsed": false,
    "ExecuteTime": {
     "end_time": "2023-11-06T00:06:32.753664Z",
     "start_time": "2023-11-06T00:06:32.624651Z"
    }
   },
   "id": "ef990beb12b20f63"
  },
  {
   "cell_type": "code",
   "execution_count": 10,
   "outputs": [],
   "source": [
    "from sklearn.model_selection import StratifiedShuffleSplit\n",
    "\n",
    "sss = StratifiedShuffleSplit(n_splits=1, test_size=0.5, random_state=0)\n",
    "train_and_val_df = df[df['Week_start'] < '2022-09-01']\n",
    "remaining_ids = np.random.permutation(np.array(train_and_val_df.index))\n",
    "n_train_samples = int(len(remaining_ids) * 0.8)\n",
    "splits['random'] = {\n",
    "    'train': remaining_ids[: n_train_samples],\n",
    "    'val': remaining_ids[n_train_samples:],\n",
    "    'test': np.array(test_df.index.tolist())\n",
    "}"
   ],
   "metadata": {
    "collapsed": false,
    "ExecuteTime": {
     "end_time": "2023-11-06T00:06:32.754432Z",
     "start_time": "2023-11-06T00:06:32.631838Z"
    }
   },
   "id": "a74cd89d351072ad"
  },
  {
   "cell_type": "code",
   "execution_count": 11,
   "outputs": [
    {
     "data": {
      "text/plain": "  label_type              label_name             label_token\n0      trend  Substantial Increasing  SUBSTANTIAL INCREASING\n1      trend     Moderate Increasing     MODERATE INCREASING\n2      trend                  Stable                  STABLE\n3      trend  Substantial Decreasing  SUBSTANTIAL DECREASING\n4      trend     Moderate Decreasing     MODERATE DECREASING\n5       risk                    High                    HIGH\n6       risk                  medium                  MEDIUM\n7       risk                     low                     LOW",
      "text/html": "<div>\n<style scoped>\n    .dataframe tbody tr th:only-of-type {\n        vertical-align: middle;\n    }\n\n    .dataframe tbody tr th {\n        vertical-align: top;\n    }\n\n    .dataframe thead th {\n        text-align: right;\n    }\n</style>\n<table border=\"1\" class=\"dataframe\">\n  <thead>\n    <tr style=\"text-align: right;\">\n      <th></th>\n      <th>label_type</th>\n      <th>label_name</th>\n      <th>label_token</th>\n    </tr>\n  </thead>\n  <tbody>\n    <tr>\n      <th>0</th>\n      <td>trend</td>\n      <td>Substantial Increasing</td>\n      <td>SUBSTANTIAL INCREASING</td>\n    </tr>\n    <tr>\n      <th>1</th>\n      <td>trend</td>\n      <td>Moderate Increasing</td>\n      <td>MODERATE INCREASING</td>\n    </tr>\n    <tr>\n      <th>2</th>\n      <td>trend</td>\n      <td>Stable</td>\n      <td>STABLE</td>\n    </tr>\n    <tr>\n      <th>3</th>\n      <td>trend</td>\n      <td>Substantial Decreasing</td>\n      <td>SUBSTANTIAL DECREASING</td>\n    </tr>\n    <tr>\n      <th>4</th>\n      <td>trend</td>\n      <td>Moderate Decreasing</td>\n      <td>MODERATE DECREASING</td>\n    </tr>\n    <tr>\n      <th>5</th>\n      <td>risk</td>\n      <td>High</td>\n      <td>HIGH</td>\n    </tr>\n    <tr>\n      <th>6</th>\n      <td>risk</td>\n      <td>medium</td>\n      <td>MEDIUM</td>\n    </tr>\n    <tr>\n      <th>7</th>\n      <td>risk</td>\n      <td>low</td>\n      <td>LOW</td>\n    </tr>\n  </tbody>\n</table>\n</div>"
     },
     "execution_count": 11,
     "metadata": {},
     "output_type": "execute_result"
    }
   ],
   "source": [
    "label_names = data.Trend.unique().tolist() + data.Risk_level.unique().tolist()\n",
    "label_types = ['trend'] * len(data.Trend.unique()) + ['risk'] * len(data.Risk_level.unique())\n",
    "label_info = pd.DataFrame.from_dict(\n",
    "    {\n",
    "        'label_type': label_types,\n",
    "        \"label_name\": label_names,\n",
    "        \"label_token\": [l.upper() for l in label_names],\n",
    "    })\n",
    "label_info"
   ],
   "metadata": {
    "collapsed": false,
    "ExecuteTime": {
     "end_time": "2023-11-06T00:06:32.755057Z",
     "start_time": "2023-11-06T00:06:32.694152Z"
    }
   },
   "id": "753e18cf14b88d2b"
  },
  {
   "cell_type": "code",
   "execution_count": 12,
   "outputs": [
    {
     "data": {
      "text/plain": "     state_name fips                   Week  Week_start    Week_end  \\\n0       Alabama   01  2020-12-14/2020-12-20  2020-12-14  2020-12-20   \n1       Alabama   01  2020-12-21/2020-12-27  2020-12-21  2020-12-27   \n2       Alabama   01  2020-12-28/2021-01-03  2020-12-28  2021-01-03   \n3       Alabama   01  2021-01-04/2021-01-10  2021-01-04  2021-01-10   \n4       Alabama   01  2021-01-11/2021-01-17  2021-01-11  2021-01-17   \n...         ...  ...                    ...         ...         ...   \n5295    Wyoming   56  2022-11-21/2022-11-27  2022-11-21  2022-11-27   \n5296    Wyoming   56  2022-11-28/2022-12-04  2022-11-28  2022-12-04   \n5297    Wyoming   56  2022-12-05/2022-12-11  2022-12-05  2022-12-11   \n5298    Wyoming   56  2022-12-12/2022-12-18  2022-12-12  2022-12-18   \n5299    Wyoming   56  2022-12-19/2022-12-25  2022-12-19  2022-12-25   \n\n      hospitalization_per_100k  Change  reported_cases_per_100k  \\\n0                         54.9    35.8                    547.0   \n1                         58.1    21.5                    472.7   \n2                         61.2    14.2                    536.5   \n3                         61.6     6.1                    611.2   \n4                         55.1    -8.6                    422.1   \n...                        ...     ...                      ...   \n5295                      10.5    38.6                    101.6   \n5296                      10.5    27.1                     86.2   \n5297                       8.1   -11.9                    133.0   \n5298                       6.0   -37.9                     86.9   \n5299                       6.0   -26.6                     66.2   \n\n      previous_infection_12w  Dose1_Pop_Pct  ...      r0      r1    r2    r3  \\\n0                        3.5            0.0  ...    HIGH    HIGH  HIGH  HIGH   \n1                        3.8            0.0  ...    HIGH    HIGH  HIGH  HIGH   \n2                        4.2            0.0  ...    HIGH    HIGH  HIGH  HIGH   \n3                        4.7            0.0  ...    HIGH    HIGH  HIGH  HIGH   \n4                        4.9            0.0  ...    HIGH    HIGH  HIGH  HIGH   \n...                      ...            ...  ...     ...     ...   ...   ...   \n5295                     1.0           60.4  ...  MEDIUM  MEDIUM   LOW   LOW   \n5296                     1.0           60.5  ...  MEDIUM     LOW   LOW   LOW   \n5297                     1.0           60.5  ...     LOW     LOW   LOW   LOW   \n5298                     1.0           60.6  ...     LOW     LOW   LOW   LOW   \n5299                     1.0           60.7  ...     LOW     LOW   LOW   LOW   \n\n        r4                      t0                      t1  \\\n0     HIGH  SUBSTANTIAL INCREASING  SUBSTANTIAL INCREASING   \n1     HIGH  SUBSTANTIAL INCREASING     MODERATE INCREASING   \n2     HIGH     MODERATE INCREASING                  STABLE   \n3     HIGH                  STABLE                  STABLE   \n4     HIGH                  STABLE  SUBSTANTIAL DECREASING   \n...    ...                     ...                     ...   \n5295   LOW  SUBSTANTIAL INCREASING  SUBSTANTIAL INCREASING   \n5296   LOW  SUBSTANTIAL INCREASING     MODERATE DECREASING   \n5297   LOW     MODERATE DECREASING  SUBSTANTIAL DECREASING   \n5298   LOW  SUBSTANTIAL DECREASING  SUBSTANTIAL DECREASING   \n5299   LOW  SUBSTANTIAL DECREASING  SUBSTANTIAL DECREASING   \n\n                          t2                      t3                      t4  \n0        MODERATE INCREASING                  STABLE                  STABLE  \n1                     STABLE                  STABLE  SUBSTANTIAL DECREASING  \n2                     STABLE  SUBSTANTIAL DECREASING  SUBSTANTIAL DECREASING  \n3     SUBSTANTIAL DECREASING  SUBSTANTIAL DECREASING  SUBSTANTIAL DECREASING  \n4     SUBSTANTIAL DECREASING  SUBSTANTIAL DECREASING  SUBSTANTIAL DECREASING  \n...                      ...                     ...                     ...  \n5295     MODERATE DECREASING  SUBSTANTIAL DECREASING  SUBSTANTIAL DECREASING  \n5296  SUBSTANTIAL DECREASING  SUBSTANTIAL DECREASING  SUBSTANTIAL DECREASING  \n5297  SUBSTANTIAL DECREASING  SUBSTANTIAL DECREASING  SUBSTANTIAL DECREASING  \n5298  SUBSTANTIAL DECREASING  SUBSTANTIAL DECREASING                  STABLE  \n5299  SUBSTANTIAL DECREASING                  STABLE     MODERATE DECREASING  \n\n[5300 rows x 67 columns]",
      "text/html": "<div>\n<style scoped>\n    .dataframe tbody tr th:only-of-type {\n        vertical-align: middle;\n    }\n\n    .dataframe tbody tr th {\n        vertical-align: top;\n    }\n\n    .dataframe thead th {\n        text-align: right;\n    }\n</style>\n<table border=\"1\" class=\"dataframe\">\n  <thead>\n    <tr style=\"text-align: right;\">\n      <th></th>\n      <th>state_name</th>\n      <th>fips</th>\n      <th>Week</th>\n      <th>Week_start</th>\n      <th>Week_end</th>\n      <th>hospitalization_per_100k</th>\n      <th>Change</th>\n      <th>reported_cases_per_100k</th>\n      <th>previous_infection_12w</th>\n      <th>Dose1_Pop_Pct</th>\n      <th>...</th>\n      <th>r0</th>\n      <th>r1</th>\n      <th>r2</th>\n      <th>r3</th>\n      <th>r4</th>\n      <th>t0</th>\n      <th>t1</th>\n      <th>t2</th>\n      <th>t3</th>\n      <th>t4</th>\n    </tr>\n  </thead>\n  <tbody>\n    <tr>\n      <th>0</th>\n      <td>Alabama</td>\n      <td>01</td>\n      <td>2020-12-14/2020-12-20</td>\n      <td>2020-12-14</td>\n      <td>2020-12-20</td>\n      <td>54.9</td>\n      <td>35.8</td>\n      <td>547.0</td>\n      <td>3.5</td>\n      <td>0.0</td>\n      <td>...</td>\n      <td>HIGH</td>\n      <td>HIGH</td>\n      <td>HIGH</td>\n      <td>HIGH</td>\n      <td>HIGH</td>\n      <td>SUBSTANTIAL INCREASING</td>\n      <td>SUBSTANTIAL INCREASING</td>\n      <td>MODERATE INCREASING</td>\n      <td>STABLE</td>\n      <td>STABLE</td>\n    </tr>\n    <tr>\n      <th>1</th>\n      <td>Alabama</td>\n      <td>01</td>\n      <td>2020-12-21/2020-12-27</td>\n      <td>2020-12-21</td>\n      <td>2020-12-27</td>\n      <td>58.1</td>\n      <td>21.5</td>\n      <td>472.7</td>\n      <td>3.8</td>\n      <td>0.0</td>\n      <td>...</td>\n      <td>HIGH</td>\n      <td>HIGH</td>\n      <td>HIGH</td>\n      <td>HIGH</td>\n      <td>HIGH</td>\n      <td>SUBSTANTIAL INCREASING</td>\n      <td>MODERATE INCREASING</td>\n      <td>STABLE</td>\n      <td>STABLE</td>\n      <td>SUBSTANTIAL DECREASING</td>\n    </tr>\n    <tr>\n      <th>2</th>\n      <td>Alabama</td>\n      <td>01</td>\n      <td>2020-12-28/2021-01-03</td>\n      <td>2020-12-28</td>\n      <td>2021-01-03</td>\n      <td>61.2</td>\n      <td>14.2</td>\n      <td>536.5</td>\n      <td>4.2</td>\n      <td>0.0</td>\n      <td>...</td>\n      <td>HIGH</td>\n      <td>HIGH</td>\n      <td>HIGH</td>\n      <td>HIGH</td>\n      <td>HIGH</td>\n      <td>MODERATE INCREASING</td>\n      <td>STABLE</td>\n      <td>STABLE</td>\n      <td>SUBSTANTIAL DECREASING</td>\n      <td>SUBSTANTIAL DECREASING</td>\n    </tr>\n    <tr>\n      <th>3</th>\n      <td>Alabama</td>\n      <td>01</td>\n      <td>2021-01-04/2021-01-10</td>\n      <td>2021-01-04</td>\n      <td>2021-01-10</td>\n      <td>61.6</td>\n      <td>6.1</td>\n      <td>611.2</td>\n      <td>4.7</td>\n      <td>0.0</td>\n      <td>...</td>\n      <td>HIGH</td>\n      <td>HIGH</td>\n      <td>HIGH</td>\n      <td>HIGH</td>\n      <td>HIGH</td>\n      <td>STABLE</td>\n      <td>STABLE</td>\n      <td>SUBSTANTIAL DECREASING</td>\n      <td>SUBSTANTIAL DECREASING</td>\n      <td>SUBSTANTIAL DECREASING</td>\n    </tr>\n    <tr>\n      <th>4</th>\n      <td>Alabama</td>\n      <td>01</td>\n      <td>2021-01-11/2021-01-17</td>\n      <td>2021-01-11</td>\n      <td>2021-01-17</td>\n      <td>55.1</td>\n      <td>-8.6</td>\n      <td>422.1</td>\n      <td>4.9</td>\n      <td>0.0</td>\n      <td>...</td>\n      <td>HIGH</td>\n      <td>HIGH</td>\n      <td>HIGH</td>\n      <td>HIGH</td>\n      <td>HIGH</td>\n      <td>STABLE</td>\n      <td>SUBSTANTIAL DECREASING</td>\n      <td>SUBSTANTIAL DECREASING</td>\n      <td>SUBSTANTIAL DECREASING</td>\n      <td>SUBSTANTIAL DECREASING</td>\n    </tr>\n    <tr>\n      <th>...</th>\n      <td>...</td>\n      <td>...</td>\n      <td>...</td>\n      <td>...</td>\n      <td>...</td>\n      <td>...</td>\n      <td>...</td>\n      <td>...</td>\n      <td>...</td>\n      <td>...</td>\n      <td>...</td>\n      <td>...</td>\n      <td>...</td>\n      <td>...</td>\n      <td>...</td>\n      <td>...</td>\n      <td>...</td>\n      <td>...</td>\n      <td>...</td>\n      <td>...</td>\n      <td>...</td>\n    </tr>\n    <tr>\n      <th>5295</th>\n      <td>Wyoming</td>\n      <td>56</td>\n      <td>2022-11-21/2022-11-27</td>\n      <td>2022-11-21</td>\n      <td>2022-11-27</td>\n      <td>10.5</td>\n      <td>38.6</td>\n      <td>101.6</td>\n      <td>1.0</td>\n      <td>60.4</td>\n      <td>...</td>\n      <td>MEDIUM</td>\n      <td>MEDIUM</td>\n      <td>LOW</td>\n      <td>LOW</td>\n      <td>LOW</td>\n      <td>SUBSTANTIAL INCREASING</td>\n      <td>SUBSTANTIAL INCREASING</td>\n      <td>MODERATE DECREASING</td>\n      <td>SUBSTANTIAL DECREASING</td>\n      <td>SUBSTANTIAL DECREASING</td>\n    </tr>\n    <tr>\n      <th>5296</th>\n      <td>Wyoming</td>\n      <td>56</td>\n      <td>2022-11-28/2022-12-04</td>\n      <td>2022-11-28</td>\n      <td>2022-12-04</td>\n      <td>10.5</td>\n      <td>27.1</td>\n      <td>86.2</td>\n      <td>1.0</td>\n      <td>60.5</td>\n      <td>...</td>\n      <td>MEDIUM</td>\n      <td>LOW</td>\n      <td>LOW</td>\n      <td>LOW</td>\n      <td>LOW</td>\n      <td>SUBSTANTIAL INCREASING</td>\n      <td>MODERATE DECREASING</td>\n      <td>SUBSTANTIAL DECREASING</td>\n      <td>SUBSTANTIAL DECREASING</td>\n      <td>SUBSTANTIAL DECREASING</td>\n    </tr>\n    <tr>\n      <th>5297</th>\n      <td>Wyoming</td>\n      <td>56</td>\n      <td>2022-12-05/2022-12-11</td>\n      <td>2022-12-05</td>\n      <td>2022-12-11</td>\n      <td>8.1</td>\n      <td>-11.9</td>\n      <td>133.0</td>\n      <td>1.0</td>\n      <td>60.5</td>\n      <td>...</td>\n      <td>LOW</td>\n      <td>LOW</td>\n      <td>LOW</td>\n      <td>LOW</td>\n      <td>LOW</td>\n      <td>MODERATE DECREASING</td>\n      <td>SUBSTANTIAL DECREASING</td>\n      <td>SUBSTANTIAL DECREASING</td>\n      <td>SUBSTANTIAL DECREASING</td>\n      <td>SUBSTANTIAL DECREASING</td>\n    </tr>\n    <tr>\n      <th>5298</th>\n      <td>Wyoming</td>\n      <td>56</td>\n      <td>2022-12-12/2022-12-18</td>\n      <td>2022-12-12</td>\n      <td>2022-12-18</td>\n      <td>6.0</td>\n      <td>-37.9</td>\n      <td>86.9</td>\n      <td>1.0</td>\n      <td>60.6</td>\n      <td>...</td>\n      <td>LOW</td>\n      <td>LOW</td>\n      <td>LOW</td>\n      <td>LOW</td>\n      <td>LOW</td>\n      <td>SUBSTANTIAL DECREASING</td>\n      <td>SUBSTANTIAL DECREASING</td>\n      <td>SUBSTANTIAL DECREASING</td>\n      <td>SUBSTANTIAL DECREASING</td>\n      <td>STABLE</td>\n    </tr>\n    <tr>\n      <th>5299</th>\n      <td>Wyoming</td>\n      <td>56</td>\n      <td>2022-12-19/2022-12-25</td>\n      <td>2022-12-19</td>\n      <td>2022-12-25</td>\n      <td>6.0</td>\n      <td>-26.6</td>\n      <td>66.2</td>\n      <td>1.0</td>\n      <td>60.7</td>\n      <td>...</td>\n      <td>LOW</td>\n      <td>LOW</td>\n      <td>LOW</td>\n      <td>LOW</td>\n      <td>LOW</td>\n      <td>SUBSTANTIAL DECREASING</td>\n      <td>SUBSTANTIAL DECREASING</td>\n      <td>SUBSTANTIAL DECREASING</td>\n      <td>STABLE</td>\n      <td>MODERATE DECREASING</td>\n    </tr>\n  </tbody>\n</table>\n<p>5300 rows × 67 columns</p>\n</div>"
     },
     "execution_count": 12,
     "metadata": {},
     "output_type": "execute_result"
    }
   ],
   "source": [
    "merged_dynamic = data.merge(state_df, on='fips')\n",
    "for target_type, target_name in (('r', 'Risk_level'), ('t', 'Trend')):\n",
    "    for week in (0, 1, 2, 3, 4):\n",
    "        col = target_name + (f'_{week}w' if week > 0 else '')\n",
    "        merged_dynamic[f'{target_type}{week}'] = merged_dynamic[col].str.upper()\n",
    "        merged_dynamic.drop(col, axis=1, inplace=True)\n",
    "    \n",
    "merged_dynamic"
   ],
   "metadata": {
    "collapsed": false,
    "ExecuteTime": {
     "end_time": "2023-11-06T00:06:32.756838Z",
     "start_time": "2023-11-06T00:06:32.700983Z"
    }
   },
   "id": "e46531883b431737"
  },
  {
   "cell_type": "code",
   "execution_count": 23,
   "outputs": [
    {
     "data": {
      "text/plain": "0        0.0\n1        0.0\n2        0.0\n3        0.0\n4        0.0\n        ... \n5295    60.4\n5296    60.5\n5297    60.5\n5298    60.6\n5299    60.7\nName: Dose1_Pop_Pct, Length: 5300, dtype: float64"
     },
     "execution_count": 23,
     "metadata": {},
     "output_type": "execute_result"
    }
   ],
   "source": [
    "merged_dynamic.Dose1_Pop_Pct"
   ],
   "metadata": {
    "collapsed": false,
    "ExecuteTime": {
     "end_time": "2023-11-06T00:59:07.990985Z",
     "start_time": "2023-11-06T00:59:07.985946Z"
    }
   },
   "id": "94b5526147afbe17"
  },
  {
   "cell_type": "code",
   "execution_count": 20,
   "outputs": [
    {
     "data": {
      "text/plain": "Index(['state_name', 'fips', 'Week', 'Week_start', 'Week_end',\n       'hospitalization_per_100k', 'Change', 'reported_cases_per_100k',\n       'previous_infection_12w', 'Dose1_Pop_Pct', 'Series_Complete_Pop_Pct',\n       'Additional_Doses_Vax_Pct', 'C1M_School closing',\n       'C2M_Workplace closing', 'C3M_Cancel public events',\n       'C4M_Restrictions on gatherings', 'C6M_Stay at home requirements',\n       'C7M_Restrictions on internal movement',\n       'C8NV_International travel controls',\n       'C8V_International travel controls', 'H1_Public information campaigns',\n       'H2_Testing policy', 'H3_Contact tracing', 'H6M_Facial Coverings',\n       'H8M_Protection of elderly people', 'Vaccine_prompt',\n       'Previous_infection_prompt', 'policy_prompt', 'week_id', 'uid',\n       'Population', 'under_20', 'over_65', 'White', 'Black', 'Multiple_race',\n       'Not_Hispanic', 'Hispanic', 'medicaid_coverage', 'medicare_coverage',\n       'uninsured_percent', 'medicaid_spending',\n       'private_health_insurance_spending', 'medicare_spending_by_residence',\n       'health_care_spending', 'healthcare_utilization', 'poor_health_status',\n       'adults_at_high_risk', 'poverty_rate', 'social_vulnerability_index',\n       'Healthcare Access and Quality Index', 'Older_at_high_risk',\n       'dem_percent', 'rep_percent', 'other_percent', 'State',\n       'Static_description', 'r0', 'r1', 'r2', 'r3', 'r4', 't0', 't1', 't2',\n       't3', 't4', 't_seq', 'r_seq'],\n      dtype='object')"
     },
     "execution_count": 20,
     "metadata": {},
     "output_type": "execute_result"
    }
   ],
   "source": [
    "merged_dynamic.columns"
   ],
   "metadata": {
    "collapsed": false,
    "ExecuteTime": {
     "end_time": "2023-11-06T00:12:10.161856Z",
     "start_time": "2023-11-06T00:12:10.156535Z"
    }
   },
   "id": "76e7dd270ca21896"
  },
  {
   "cell_type": "markdown",
   "source": [
    "- Static information\n",
    "    - Current status: 大部分人接种疫苗\n",
    "- Dynamic Information\n",
    "    - Trend: 最近两个月，接种疫苗的人数显著增加     \n",
    "大部分人接种疫苗，最近两个月，接种疫苗的人数显著增加。"
   ],
   "metadata": {
    "collapsed": false
   },
   "id": "a03f2bb4c797d8d8"
  },
  {
   "cell_type": "code",
   "execution_count": 19,
   "outputs": [
    {
     "data": {
      "text/plain": "To date, 0% of population got at least one dose of COVID-19 vaccine, 0% completed primary series, and 0% received updated booster.       401\nTo date, 3% of population got at least one dose of COVID-19 vaccine, 0% completed primary series, and 0% received updated booster.        31\nTo date, 12% of population got at least one dose of COVID-19 vaccine, 0% completed primary series, and 0% received updated booster.       21\nTo date, 13% of population got at least one dose of COVID-19 vaccine, 0% completed primary series, and 0% received updated booster.       21\nTo date, 95% of population got at least one dose of COVID-19 vaccine, 80% completed primary series, and 53% received updated booster.     20\n                                                                                                                                        ... \nTo date, 72% of population got at least one dose of COVID-19 vaccine, 65% completed primary series, and 4% received updated booster.       1\nTo date, 95% of population got at least one dose of COVID-19 vaccine, 83% completed primary series, and 60% received updated booster.      1\nTo date, 94% of population got at least one dose of COVID-19 vaccine, 82% completed primary series, and 59% received updated booster.      1\nTo date, 94% of population got at least one dose of COVID-19 vaccine, 81% completed primary series, and 59% received updated booster.      1\nTo date, 60% of population got at least one dose of COVID-19 vaccine, 52% completed primary series, and 47% received updated booster.      1\nName: Vaccine_prompt, Length: 2119, dtype: int64"
     },
     "execution_count": 19,
     "metadata": {},
     "output_type": "execute_result"
    }
   ],
   "source": [
    "merged_dynamic.Vaccine_prompt.value_counts()"
   ],
   "metadata": {
    "collapsed": false,
    "ExecuteTime": {
     "end_time": "2023-11-06T00:11:07.233838Z",
     "start_time": "2023-11-06T00:11:07.220323Z"
    }
   },
   "id": "167eaddf27488e2b"
  },
  {
   "cell_type": "code",
   "execution_count": 21,
   "outputs": [
    {
     "data": {
      "text/plain": "Around 1.2% of the population reported COVID-19 infections over the past three months, however, the actual infection rate is likely to be higher.     194\nAround 1.7% of the population reported COVID-19 infections over the past three months, however, the actual infection rate is likely to be higher.     173\nAround 1.4% of the population reported COVID-19 infections over the past three months, however, the actual infection rate is likely to be higher.     173\nAround 1.0% of the population reported COVID-19 infections over the past three months, however, the actual infection rate is likely to be higher.     165\nAround 0.9% of the population reported COVID-19 infections over the past three months, however, the actual infection rate is likely to be higher.     157\n                                                                                                                                                     ... \nAround 15.2% of the population reported COVID-19 infections over the past three months, however, the actual infection rate is likely to be higher.      1\nAround 14.7% of the population reported COVID-19 infections over the past three months, however, the actual infection rate is likely to be higher.      1\nAround 14.1% of the population reported COVID-19 infections over the past three months, however, the actual infection rate is likely to be higher.      1\nAround 13.4% of the population reported COVID-19 infections over the past three months, however, the actual infection rate is likely to be higher.      1\nAround 11.3% of the population reported COVID-19 infections over the past three months, however, the actual infection rate is likely to be higher.      1\nName: Previous_infection_prompt, Length: 122, dtype: int64"
     },
     "execution_count": 21,
     "metadata": {},
     "output_type": "execute_result"
    }
   ],
   "source": [
    "merged_dynamic.Previous_infection_prompt.value_counts()"
   ],
   "metadata": {
    "collapsed": false,
    "ExecuteTime": {
     "end_time": "2023-11-06T00:14:13.423729Z",
     "start_time": "2023-11-06T00:14:13.419593Z"
    }
   },
   "id": "441e59449bc1937"
  },
  {
   "cell_type": "code",
   "execution_count": 22,
   "outputs": [
    {
     "data": {
      "text/plain": "All containment and closure policies remain the same as previous week recommend closing for school, no restrictions for workplace, no restrictions for gatherings. For elderly patients, Narrow restrictions for isolation, hygiene in LTCFs, some limitations on external visitors.                                                                                                                                     950\nAll containment and closure policies remain the same as previous week no restrictions for school, no restrictions for workplace, no restrictions for gatherings. For elderly patients, Recommended isolation, hygiene, and visitor restriction measures in LTCFs.                                                                                                                                                        872\nAll containment and closure policies remain the same as previous week recommend closing for school, no restrictions for workplace, no restrictions for gatherings. For elderly patients, Recommended isolation, hygiene, and visitor restriction measures in LTCFs.                                                                                                                                                      698\nAll containment and closure policies remain the same as previous week no restrictions for school, no restrictions for workplace, no restrictions for gatherings. For elderly patients, Narrow restrictions for isolation, hygiene in LTCFs, some limitations on external visitors.                                                                                                                                       670\nAll containment and closure policies remain the same as previous week recommend closing for school, recommend closing for workplace, no restrictions for gatherings. For elderly patients, Narrow restrictions for isolation, hygiene in LTCFs, some limitations on external visitors.                                                                                                                                   416\n                                                                                                                                                                                                                                                                                                                                                                                                                        ... \nAll containment and closure policies remain the same as previous week recommend closing for school, no restrictions for workplace, restrictions on gatherings between 11-100 people for gatherings. For elderly patients, Narrow restrictions for isolation, hygiene in LTCFs, some limitations on external visitors.                                                                                                      1\nThere are some changes in the containment and closure policies. School policy remains as recommend closing. For workplace change from recommend closing to no restrictions. Gatherings policy remains as restrictions on very large gatherings (the limit is above 1000 people).  For elderly patients, Recommended isolation, hygiene, and visitor restriction measures in LTCFs.                                         1\nThere are some changes in the containment and closure policies. School policy remains as recommend closing. Workplace policy remains as recommend closing. For gatherings change from restrictions on gatherings between 101-1000 people to no restrictions.  For elderly patients, Recommended isolation, hygiene, and visitor restriction measures in LTCFs.                                                             1\nThere are some changes in the containment and closure policies. School policy remains as require closing some. Workplace policy remains as require closing some. For gatherings change from restrictions on gatherings of 10 people or less to restrictions on gatherings between 101-1000 people.  For elderly patients, Narrow restrictions for isolation, hygiene in LTCFs, some limitations on external visitors.      1\nThere are some changes in the containment and closure policies. School policy remains as recommend closing. For workplace change from recommend closing to require closing some. Gatherings policy remains as no restrictions.  For elderly patients, Narrow restrictions for isolation, hygiene in LTCFs, some limitations on external visitors.                                                                          1\nName: policy_prompt, Length: 190, dtype: int64"
     },
     "execution_count": 22,
     "metadata": {},
     "output_type": "execute_result"
    }
   ],
   "source": [
    "merged_dynamic.policy_prompt.value_counts()"
   ],
   "metadata": {
    "collapsed": false,
    "ExecuteTime": {
     "end_time": "2023-11-06T00:15:57.401922Z",
     "start_time": "2023-11-06T00:15:57.397790Z"
    }
   },
   "id": "f57029a719efe2af"
  },
  {
   "cell_type": "code",
   "execution_count": 13,
   "outputs": [
    {
     "data": {
      "text/plain": "SUBSTANTIAL DECREASING    1428\nSUBSTANTIAL INCREASING    1396\nSTABLE                    1267\nMODERATE DECREASING        718\nMODERATE INCREASING        491\nName: t1, dtype: int64"
     },
     "execution_count": 13,
     "metadata": {},
     "output_type": "execute_result"
    }
   ],
   "source": [
    "merged_dynamic.t1.value_counts()"
   ],
   "metadata": {
    "collapsed": false,
    "ExecuteTime": {
     "end_time": "2023-11-06T00:06:32.777987Z",
     "start_time": "2023-11-06T00:06:32.756368Z"
    }
   },
   "id": "9081ee8fe2eacb30"
  },
  {
   "cell_type": "code",
   "execution_count": 14,
   "outputs": [
    {
     "data": {
      "text/plain": "0       SUBSTANTIAL INCREASING MODERATE INCREASING STA...\n1       MODERATE INCREASING STABLE STABLE SUBSTANTIAL ...\n2       STABLE STABLE SUBSTANTIAL DECREASING SUBSTANTI...\n3       STABLE SUBSTANTIAL DECREASING SUBSTANTIAL DECR...\n4       SUBSTANTIAL DECREASING SUBSTANTIAL DECREASING ...\n                              ...                        \n5295    SUBSTANTIAL INCREASING MODERATE DECREASING SUB...\n5296    MODERATE DECREASING SUBSTANTIAL DECREASING SUB...\n5297    SUBSTANTIAL DECREASING SUBSTANTIAL DECREASING ...\n5298    SUBSTANTIAL DECREASING SUBSTANTIAL DECREASING ...\n5299    SUBSTANTIAL DECREASING SUBSTANTIAL DECREASING ...\nName: t_seq, Length: 5300, dtype: object"
     },
     "execution_count": 14,
     "metadata": {},
     "output_type": "execute_result"
    }
   ],
   "source": [
    "merged_dynamic['t_seq'] = merged_dynamic['t1'].str.cat(merged_dynamic[['t2', 't3', 't4']], sep=' ')\n",
    "merged_dynamic['r_seq'] = merged_dynamic['r1'].str.cat(merged_dynamic[['r2', 'r3', 'r4']], sep=' ')\n",
    "merged_dynamic['t_seq']"
   ],
   "metadata": {
    "collapsed": false
   },
   "id": "a6e977bb5ea10120"
  },
  {
   "cell_type": "code",
   "execution_count": 15,
   "outputs": [
    {
     "data": {
      "text/plain": "\u001B[2;36m          \u001B[0m\u001B[2;36m \u001B[0m\u001B[34mINFO    \u001B[0m Saved data/processed.pkl                                                                                                          \u001B[2mos_utils.py\u001B[0m\u001B[2m:\u001B[0m\u001B[2m193\u001B[0m\n",
      "text/html": "<pre style=\"white-space:pre;overflow-x:auto;line-height:normal;font-family:Menlo,'DejaVu Sans Mono',consolas,'Courier New',monospace\"><span style=\"color: #7fbfbf; text-decoration-color: #7fbfbf\">           </span><span style=\"color: #000080; text-decoration-color: #000080\">INFO    </span> Saved data/processed.pkl                                                                                                          <span style=\"color: #7f7f7f; text-decoration-color: #7f7f7f\">os_utils.py:193</span>\n</pre>\n"
     },
     "metadata": {},
     "output_type": "display_data"
    }
   ],
   "source": [
    "from easydict import EasyDict\n",
    "\n",
    "data_dict = EasyDict(\n",
    "    splits=splits,\n",
    "    static=state_df,\n",
    "    dynamic=data,\n",
    "    merged_dynamic=merged_dynamic,\n",
    "    label_info=label_info,\n",
    ")\n",
    "uf.pickle_save(data_dict, 'data/processed.pkl')"
   ],
   "metadata": {
    "collapsed": false,
    "ExecuteTime": {
     "end_time": "2023-11-06T00:06:32.883819Z",
     "start_time": "2023-11-06T00:06:32.775680Z"
    }
   },
   "id": "e5bc13a22ab79b8a"
  },
  {
   "cell_type": "code",
   "execution_count": 18,
   "outputs": [
    {
     "data": {
      "text/plain": "Index(['state_name', 'fips', 'Week', 'Week_start', 'Week_end',\n       'hospitalization_per_100k', 'Change', 'reported_cases_per_100k',\n       'previous_infection_12w', 'Dose1_Pop_Pct', 'Series_Complete_Pop_Pct',\n       'Additional_Doses_Vax_Pct', 'C1M_School closing',\n       'C2M_Workplace closing', 'C3M_Cancel public events',\n       'C4M_Restrictions on gatherings', 'C6M_Stay at home requirements',\n       'C7M_Restrictions on internal movement',\n       'C8NV_International travel controls',\n       'C8V_International travel controls', 'H1_Public information campaigns',\n       'H2_Testing policy', 'H3_Contact tracing', 'H6M_Facial Coverings',\n       'H8M_Protection of elderly people', 'Vaccine_prompt',\n       'Previous_infection_prompt', 'policy_prompt', 'week_id', 'uid',\n       'Population', 'under_20', 'over_65', 'White', 'Black', 'Multiple_race',\n       'Not_Hispanic', 'Hispanic', 'medicaid_coverage', 'medicare_coverage',\n       'uninsured_percent', 'medicaid_spending',\n       'private_health_insurance_spending', 'medicare_spending_by_residence',\n       'health_care_spending', 'healthcare_utilization', 'poor_health_status',\n       'adults_at_high_risk', 'poverty_rate', 'social_vulnerability_index',\n       'Healthcare Access and Quality Index', 'Older_at_high_risk',\n       'dem_percent', 'rep_percent', 'other_percent', 'State',\n       'Static_description', 'r0', 'r1', 'r2', 'r3', 'r4', 't0', 't1', 't2',\n       't3', 't4', 't_seq', 'r_seq'],\n      dtype='object')"
     },
     "execution_count": 18,
     "metadata": {},
     "output_type": "execute_result"
    }
   ],
   "source": [
    "merged_dynamic.columns"
   ],
   "metadata": {
    "collapsed": false,
    "ExecuteTime": {
     "end_time": "2023-11-06T00:07:57.682598Z",
     "start_time": "2023-11-06T00:07:57.678513Z"
    }
   },
   "id": "d8f49d6702a0e568"
  },
  {
   "cell_type": "code",
   "execution_count": 17,
   "outputs": [
    {
     "data": {
      "text/plain": "0        0.0\n1        0.0\n2        0.0\n3        0.0\n4        0.0\n        ... \n5295    60.4\n5296    60.5\n5297    60.5\n5298    60.6\n5299    60.7\nName: Dose1_Pop_Pct, Length: 5300, dtype: float64"
     },
     "execution_count": 17,
     "metadata": {},
     "output_type": "execute_result"
    }
   ],
   "source": [
    "merged_dynamic.Dose1_Pop_Pct"
   ],
   "metadata": {
    "collapsed": false
   },
   "id": "c19fe8a440d2da3b"
  }
 ],
 "metadata": {
  "kernelspec": {
   "display_name": "Python 3",
   "language": "python",
   "name": "python3"
  },
  "language_info": {
   "codemirror_mode": {
    "name": "ipython",
    "version": 2
   },
   "file_extension": ".py",
   "mimetype": "text/x-python",
   "name": "python",
   "nbconvert_exporter": "python",
   "pygments_lexer": "ipython2",
   "version": "2.7.6"
  }
 },
 "nbformat": 4,
 "nbformat_minor": 5
}
