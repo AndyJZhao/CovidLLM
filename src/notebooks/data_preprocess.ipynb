{
 "cells": [
  {
   "cell_type": "code",
   "execution_count": null,
   "id": "initial_id",
   "metadata": {
    "collapsed": true,
    "is_executing": true
   },
   "outputs": [],
   "source": [
    "import logging\n",
    "import pandas as pd\n",
    "import numpy as np\n",
    "import scanpy as sc\n",
    "import os\n",
    "import sys\n",
    "\n",
    "current_folder = str(globals()['_dh'][0])\n",
    "ROOT_PATH = current_folder.split('src/')[0]\n",
    "\n",
    "os.chdir(ROOT_PATH)\n",
    "sys.path.append(ROOT_PATH + 'src')\n",
    "\n",
    "import utils.basics as uf\n",
    "\n",
    "current_folder = str(globals()['_dh'][0])\n",
    "ROOT_PATH = current_folder.split('src/')[0]\n",
    "os.chdir(ROOT_PATH)\n",
    "# Total 80411 disease-gene triples\n",
    "np.random.seed(2022)\n",
    "\n",
    "# ! Load\n",
    "state_df = uf.pickle_load(f'data/static/static_data.pkl')\n",
    "trend = uf.pickle_load(f'data/dynamic/dynamic_data_trend.pkl')\n",
    "risk = uf.pickle_load(f'data/dynamic/dynamic_data_risk_level.pkl')"
   ]
  },
  {
   "cell_type": "code",
   "execution_count": null,
   "outputs": [],
   "source": [
    "fips_to_state = dict(zip(trend['fips'], trend['state_name']))\n",
    "# state_df['state_name'] = state_df.fips.map(fips_to_state)\n",
    "# new_col_order = ['state_name'] + [col for col in state_df if col != 'state_name']\n",
    "# state_df = state_df[new_col_order]\n",
    "state_df"
   ],
   "metadata": {
    "collapsed": false,
    "is_executing": true
   },
   "id": "302c965470a51d2d"
  },
  {
   "cell_type": "code",
   "execution_count": null,
   "outputs": [],
   "source": [
    "state_df.columns"
   ],
   "metadata": {
    "collapsed": false,
    "is_executing": true
   },
   "id": "c1637c81fdecd143"
  },
  {
   "cell_type": "code",
   "execution_count": null,
   "outputs": [],
   "source": [
    "trend"
   ],
   "metadata": {
    "collapsed": false,
    "is_executing": true
   },
   "id": "5358d6d27bce8c16"
  },
  {
   "cell_type": "code",
   "execution_count": null,
   "outputs": [],
   "source": [
    "risk"
   ],
   "metadata": {
    "collapsed": false,
    "is_executing": true
   },
   "id": "55e2870c687a3155"
  },
  {
   "cell_type": "code",
   "execution_count": null,
   "outputs": [],
   "source": [
    "trend.iloc[4727]"
   ],
   "metadata": {
    "collapsed": false,
    "is_executing": true
   },
   "id": "b9e9ee3f1411d9ce"
  },
  {
   "cell_type": "code",
   "execution_count": null,
   "outputs": [],
   "source": [
    "risk.iloc[4727]"
   ],
   "metadata": {
    "collapsed": false,
    "is_executing": true
   },
   "id": "bc7f39591d367caf"
  },
  {
   "cell_type": "code",
   "execution_count": null,
   "outputs": [],
   "source": [
    "risk.columns"
   ],
   "metadata": {
    "collapsed": false,
    "is_executing": true
   },
   "id": "3c1f6c88cf99b7f3"
  },
  {
   "cell_type": "code",
   "execution_count": null,
   "outputs": [],
   "source": [
    "trend.columns"
   ],
   "metadata": {
    "collapsed": false,
    "is_executing": true
   },
   "id": "c67d378bdf84d2d7"
  },
  {
   "cell_type": "code",
   "execution_count": null,
   "outputs": [],
   "source": [
    "for col in [\"Week\", 'Trend', 'Trend_1w', 'Trend_2w', 'Trend_3w', 'Trend_4w']:\n",
    "    risk[col] = trend[col]\n",
    "data = risk\n",
    "data"
   ],
   "metadata": {
    "collapsed": false,
    "is_executing": true
   },
   "id": "53e2213426c2df24"
  },
  {
   "cell_type": "code",
   "execution_count": null,
   "outputs": [],
   "source": [
    "# ! Round floats\n",
    "state_df[state_df.select_dtypes(include=['float64']).columns] = state_df.select_dtypes(include=['float64']).round(2)\n",
    "risk[risk.select_dtypes(include=['float64']).columns] = risk.select_dtypes(include=['float64']).round(2)"
   ],
   "metadata": {
    "collapsed": false,
    "is_executing": true
   },
   "id": "556f1088f0dc6b10"
  },
  {
   "cell_type": "code",
   "execution_count": null,
   "outputs": [],
   "source": [
    "data.columns"
   ],
   "metadata": {
    "collapsed": false,
    "is_executing": true
   },
   "id": "aebbc132d4ce1824"
  },
  {
   "cell_type": "code",
   "execution_count": null,
   "outputs": [],
   "source": [
    "data.reported_cases_per_100k"
   ],
   "metadata": {
    "collapsed": false,
    "is_executing": true
   },
   "id": "28764389e467a46d"
  },
  {
   "cell_type": "code",
   "execution_count": null,
   "outputs": [],
   "source": [
    "data.Week_start"
   ],
   "metadata": {
    "collapsed": false,
    "is_executing": true
   },
   "id": "63ae9f943c1ce269"
  },
  {
   "cell_type": "code",
   "execution_count": null,
   "outputs": [],
   "source": [
    "# Splitting the dataframe\n",
    "df = data\n",
    "train_df = df[df['Week_start'] < '2021-10-01']\n",
    "val_df = df[(df['Week_start'] >= '2021-10-01') & (df['Week_start'] < '2022-10-01')]\n",
    "test_df = df[df['Week_start'] >= '2022-10-01']\n"
   ],
   "metadata": {
    "collapsed": false,
    "is_executing": true
   },
   "id": "ef990beb12b20f63"
  },
  {
   "cell_type": "code",
   "execution_count": null,
   "outputs": [],
   "source": [
    "train_df"
   ],
   "metadata": {
    "collapsed": false,
    "is_executing": true
   },
   "id": "d806d5cc63c7cf6f"
  },
  {
   "cell_type": "code",
   "execution_count": null,
   "outputs": [],
   "source": [
    "val_df"
   ],
   "metadata": {
    "collapsed": false,
    "is_executing": true
   },
   "id": "343b9223f05558b5"
  },
  {
   "cell_type": "code",
   "execution_count": null,
   "outputs": [],
   "source": [
    "test_df"
   ],
   "metadata": {
    "collapsed": false,
    "is_executing": true
   },
   "id": "52959db9de030cc7"
  },
  {
   "cell_type": "code",
   "execution_count": null,
   "outputs": [],
   "source": [
    "splits = {split: np.array(_df.index.tolist())\n",
    "          for split, _df in (('train', train_df), ('val', val_df), ('test', test_df))\n",
    "          }\n",
    "splits"
   ],
   "metadata": {
    "collapsed": false,
    "is_executing": true
   },
   "id": "a74cd89d351072ad"
  },
  {
   "cell_type": "code",
   "execution_count": null,
   "outputs": [],
   "source": [
    "label_names = data.Trend.unique()\n",
    "label_info = pd.DataFrame.from_dict({\"label_token\": [l.upper() for l in label_names],\n",
    "                                     \"label_name\": label_names, })\n",
    "label_info"
   ],
   "metadata": {
    "collapsed": false,
    "is_executing": true
   },
   "id": "753e18cf14b88d2b"
  },
  {
   "cell_type": "code",
   "execution_count": null,
   "outputs": [],
   "source": [
    "merged_dynamic = data.merge(state_df, on='fips')\n",
    "for target_type, target_name in (('r', 'Risk_level'), ('t', 'Trend')):\n",
    "    for week in (0, 1, 2, 3, 4):\n",
    "        col = target_name + (f'_{week}w' if week > 0 else '')\n",
    "        merged_dynamic[f'{target_type}{week}'] = merged_dynamic[col].str.upper()\n",
    "        merged_dynamic.drop(col, axis=1, inplace=True)\n",
    "\n",
    "merged_dynamic"
   ],
   "metadata": {
    "collapsed": false,
    "is_executing": true
   },
   "id": "e46531883b431737"
  },
  {
   "cell_type": "code",
   "execution_count": null,
   "outputs": [],
   "source": [
    "from easydict import EasyDict\n",
    "\n",
    "data_dict = EasyDict(\n",
    "    splits=splits,\n",
    "    static=state_df,\n",
    "    dynamic=data,\n",
    "    merged_dynamic=merged_dynamic,\n",
    "    label_info=label_info,\n",
    ")\n",
    "uf.pickle_save(data_dict, 'data/processed.pkl')"
   ],
   "metadata": {
    "collapsed": false,
    "is_executing": true
   },
   "id": "e5bc13a22ab79b8a"
  },
  {
   "cell_type": "code",
   "execution_count": null,
   "outputs": [],
   "source": [
    "merged_dynamic.columns"
   ],
   "metadata": {
    "collapsed": false,
    "is_executing": true
   },
   "id": "d8f49d6702a0e568"
  },
  {
   "cell_type": "code",
   "execution_count": null,
   "outputs": [],
   "source": [
    "merged_dynamic.Dose1_Pop_Pct"
   ],
   "metadata": {
    "collapsed": false,
    "is_executing": true
   },
   "id": "c19fe8a440d2da3b"
  },
  {
   "cell_type": "code",
   "execution_count": null,
   "outputs": [],
   "source": [],
   "metadata": {
    "collapsed": false,
    "is_executing": true
   },
   "id": "a7fc4f2d81b29631"
  }
 ],
 "metadata": {
  "kernelspec": {
   "display_name": "Python 3",
   "language": "python",
   "name": "python3"
  },
  "language_info": {
   "codemirror_mode": {
    "name": "ipython",
    "version": 2
   },
   "file_extension": ".py",
   "mimetype": "text/x-python",
   "name": "python",
   "nbconvert_exporter": "python",
   "pygments_lexer": "ipython2",
   "version": "2.7.6"
  }
 },
 "nbformat": 4,
 "nbformat_minor": 5
}
