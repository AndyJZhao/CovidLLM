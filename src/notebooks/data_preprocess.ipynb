{
 "cells": [
  {
   "cell_type": "code",
   "execution_count": 1,
   "id": "initial_id",
   "metadata": {
    "collapsed": true,
    "ExecuteTime": {
     "end_time": "2023-11-08T15:04:35.069806Z",
     "start_time": "2023-11-08T15:04:32.527046Z"
    }
   },
   "outputs": [
    {
     "data": {
      "text/plain": "\u001B[2;36m[23:04:35]\u001B[0m\u001B[2;36m \u001B[0m\u001B[34mINFO    \u001B[0m Rich Logger initialized.                                                                                                            \u001B[2mlogging.py\u001B[0m\u001B[2m:\u001B[0m\u001B[2m23\u001B[0m\n",
      "text/html": "<pre style=\"white-space:pre;overflow-x:auto;line-height:normal;font-family:Menlo,'DejaVu Sans Mono',consolas,'Courier New',monospace\"><span style=\"color: #7fbfbf; text-decoration-color: #7fbfbf\">[23:04:35] </span><span style=\"color: #000080; text-decoration-color: #000080\">INFO    </span> Rich Logger initialized.                                                                                                            <span style=\"color: #7f7f7f; text-decoration-color: #7f7f7f\">logging.py:23</span>\n</pre>\n"
     },
     "metadata": {},
     "output_type": "display_data"
    }
   ],
   "source": [
    "import logging\n",
    "import pandas as pd\n",
    "import numpy as np\n",
    "import scanpy as sc\n",
    "import os\n",
    "import sys\n",
    "\n",
    "current_folder = str(globals()['_dh'][0])\n",
    "ROOT_PATH = current_folder.split('src/')[0]\n",
    "\n",
    "os.chdir(ROOT_PATH)\n",
    "sys.path.append(ROOT_PATH + 'src')\n",
    "\n",
    "import utils.basics as uf\n",
    "\n",
    "current_folder = str(globals()['_dh'][0])\n",
    "ROOT_PATH = current_folder.split('src/')[0]\n",
    "os.chdir(ROOT_PATH)\n",
    "# Total 80411 disease-gene triples\n",
    "np.random.seed(2022)\n",
    "\n",
    "# ! Load\n",
    "state_df = uf.pickle_load(f'data/static/static_data_v2.pkl')\n",
    "dynamic_df = uf.pickle_load(f'data/dynamic/all_data_v2.pkl')"
   ]
  },
  {
   "cell_type": "code",
   "execution_count": 2,
   "outputs": [
    {
     "data": {
      "text/plain": "   fips  Population  under_20   over_65     White     Black  Multiple_race  \\\n0    01     4903185  0.248091  0.173323  0.691264  0.267844       0.017718   \n1    02      731545  0.269091  0.125198  0.652712  0.037056       0.074772   \n2    04     7278717  0.252599  0.179789  0.826168  0.051794       0.029330   \n3    05     3017804  0.258111  0.173597  0.790395  0.156752       0.022066   \n4    06    39512223  0.251198  0.147755  0.719391  0.064607       0.039839   \n5    08     5758736  0.244493  0.146284  0.869394  0.045927       0.031373   \n6    09     3565287  0.232683  0.176772  0.797002  0.121893       0.024721   \n7    10      973764  0.235080  0.193996  0.692237  0.231621       0.027377   \n8    12    21477737  0.219510  0.209395  0.772772  0.169176       0.022275   \n9    13    10617423  0.263877  0.142874  0.601983  0.325705       0.022170   \n10   15     1415872  0.233137  0.189599  0.255190  0.021865       0.241751   \n11   16     1787065  0.277647  0.162652  0.930221  0.009147       0.025505   \n12   17    12671821  0.248213  0.161242  0.767602  0.146192       0.020582   \n13   18     6732219  0.260697  0.161276  0.848100  0.099461       0.021598   \n14   19     3155070  0.258738  0.175259  0.906186  0.040603       0.019620   \n15   20     2913314  0.268454  0.163212  0.862882  0.061348       0.030594   \n16   21     4467673  0.250451  0.167999  0.875159  0.084715       0.020183   \n17   22     4648794  0.258834  0.159401  0.627871  0.327985       0.017548   \n18   23     1344212  0.209162  0.212217  0.944290  0.016881       0.018266   \n19   24     6045680  0.246411  0.158691  0.585450  0.310742       0.029400   \n20   25     6892503  0.226076  0.169653  0.805827  0.090229       0.025709   \n21   26     9986857  0.241086  0.176772  0.792198  0.140974       0.025330   \n22   27     5639632  0.256284  0.163199  0.837631  0.070139       0.025878   \n23   28     2976149  0.262247  0.163531  0.590723  0.377857       0.013429   \n24   29     6137428  0.248849  0.173043  0.828717  0.118222       0.023895   \n25   30     1068778  0.238044  0.193152  0.889063  0.005978       0.028377   \n26   31     1934408  0.273893  0.161526  0.880956  0.052090       0.023105   \n27   32     3080156  0.246829  0.161022  0.739427  0.102691       0.045973   \n28   33     1359711  0.214044  0.186704  0.931152  0.017924       0.017766   \n29   34     8882190  0.242225  0.166123  0.719283  0.150577       0.022905   \n30   35     2096829  0.253579  0.180084  0.818691  0.026121       0.026095   \n31   36    23628065  0.232399  0.169437  0.696365  0.175861       0.026508   \n32   37    10488084  0.247179  0.166960  0.705514  0.222211       0.023361   \n33   38      762062  0.263465  0.157264  0.869424  0.034097       0.023073   \n34   39    11689100  0.246971  0.175062  0.817235  0.130512       0.023804   \n35   40     3956971  0.267501  0.160510  0.739797  0.077792       0.062639   \n36   41     4217737  0.228909  0.181633  0.866611  0.022225       0.039775   \n37   42    12801989  0.232584  0.186952  0.816050  0.120301       0.021268   \n38   44     1059361  0.225176  0.176565  0.835898  0.085059       0.028905   \n39   45     5148714  0.242359  0.181992  0.686006  0.269585       0.019663   \n40   46      884659  0.271932  0.171672  0.845603  0.022983       0.024605   \n41   47     6829174  0.245647  0.167428  0.784049  0.170513       0.020060   \n42   48    28995881  0.283164  0.128785  0.786530  0.128957       0.020760   \n43   49     3205958  0.320844  0.114123  0.905855  0.014828       0.026470   \n44   50      623989  0.215412  0.200387  0.942488  0.014061       0.019970   \n45   51     8535519  0.244558  0.159206  0.693883  0.198806       0.031581   \n46   53     7614893  0.241672  0.158863  0.785001  0.043589       0.048607   \n47   54     1792147  0.224576  0.204788  0.934701  0.036052       0.018189   \n48   55     5822434  0.244244  0.174711  0.870389  0.067076       0.020058   \n49   56      578759  0.256017  0.171365  0.925033  0.012902       0.022420   \n\n    Not_Hispanic  Hispanic medicaid_coverage  ... Older_at_high_risk  \\\n0       0.954463  0.045537             0.195  ...              0.510   \n1       0.927261  0.072739             0.213  ...              0.494   \n2       0.682555  0.317445              0.21  ...              0.591   \n3       0.921588  0.078412             0.262  ...              0.503   \n4       0.605821  0.394179             0.253  ...              0.560   \n5       0.781740  0.218260             0.168  ...              0.591   \n6       0.831443  0.168557             0.215  ...              0.599   \n7       0.904093  0.095907             0.204  ...              0.583   \n8       0.736292  0.263708             0.174  ...              0.612   \n9       0.901226  0.098774             0.173  ...              0.509   \n10      0.893448  0.106552             0.176  ...              0.625   \n11      0.871583  0.128417             0.156  ...              0.594   \n12      0.824817  0.175183             0.182  ...              0.553   \n13      0.927312  0.072688             0.177  ...              0.514   \n14      0.937070  0.062930             0.195  ...              0.601   \n15      0.877777  0.122223             0.139  ...              0.547   \n16      0.960896  0.039104             0.255  ...              0.488   \n17      0.946874  0.053126             0.293  ...              0.484   \n18      0.982369  0.017631               0.2  ...              0.594   \n19      0.893507  0.106493             0.187  ...              0.536   \n20      0.875966  0.124034             0.221  ...              0.600   \n21      0.947110  0.052890             0.217  ...              0.532   \n22      0.944122  0.055878             0.169  ...              0.600   \n23      0.966363  0.033637             0.242  ...              0.496   \n24      0.956218  0.043782             0.144  ...              0.538   \n25      0.959497  0.040503             0.208  ...              0.623   \n26      0.886454  0.113546             0.126  ...              0.567   \n27      0.707612  0.292388             0.178  ...              0.569   \n28      0.959852  0.040148             0.132  ...              0.553   \n29      0.790948  0.209052             0.166  ...              0.596   \n30      0.507379  0.492621             0.327  ...              0.588   \n31      0.807179  0.192821             0.257  ...              0.561   \n32      0.902191  0.097809             0.179  ...              0.542   \n33      0.958623  0.041377             0.122  ...              0.565   \n34      0.959752  0.040248               0.2  ...              0.549   \n35      0.889281  0.110719              0.17  ...              0.509   \n36      0.865604  0.134396             0.208  ...              0.562   \n37      0.921875  0.078125             0.202  ...              0.578   \n38      0.837030  0.162970             0.205  ...              0.561   \n39      0.940351  0.059649             0.188  ...              0.554   \n40      0.957779  0.042221             0.128  ...              0.615   \n41      0.942690  0.057310             0.195  ...              0.506   \n42      0.602510  0.397490             0.159  ...              0.488   \n43      0.855877  0.144123             0.093  ...              0.522   \n44      0.979617  0.020383             0.239  ...              0.621   \n45      0.902241  0.097759             0.135  ...              0.569   \n46      0.869766  0.130234             0.198  ...              0.568   \n47      0.982612  0.017388             0.266  ...              0.511   \n48      0.929032  0.070968             0.161  ...              0.593   \n49      0.898733  0.101267             0.115  ...              0.604   \n\n   dem_percent  rep_percent  other_percent           State  \\\n0        0.366        0.620          0.014         Alabama   \n1        0.428        0.528          0.044          Alaska   \n2        0.494        0.491          0.016         Arizona   \n3        0.348        0.624          0.028        Arkansas   \n4        0.635        0.343          0.022      California   \n5        0.554        0.419          0.027        Colorado   \n6        0.593        0.392          0.016     Connecticut   \n7        0.587        0.398          0.015        Delaware   \n8        0.479        0.512          0.009         Florida   \n9        0.495        0.493          0.012         Georgia   \n10       0.637        0.343          0.020          Hawaii   \n11       0.331        0.639          0.030           Idaho   \n12       0.575        0.406          0.019        Illinois   \n13       0.410        0.570          0.020         Indiana   \n14       0.449        0.531          0.020            Iowa   \n15       0.416        0.562          0.022          Kansas   \n16       0.362        0.621          0.018        Kentucky   \n17       0.399        0.585          0.017       Louisiana   \n18       0.531        0.440          0.029           Maine   \n19       0.654        0.322          0.025        Maryland   \n20       0.656        0.321          0.023   Massachusetts   \n21       0.506        0.478          0.015        Michigan   \n22       0.524        0.453          0.023       Minnesota   \n23       0.411        0.576          0.013     Mississippi   \n24       0.414        0.568          0.018        Missouri   \n25       0.405        0.569          0.025         Montana   \n26       0.394        0.585          0.021        Nebraska   \n27       0.501        0.477          0.023          Nevada   \n28       0.527        0.454          0.019   New Hampshire   \n29       0.573        0.414          0.013      New Jersey   \n30       0.543        0.435          0.022      New Mexico   \n31       0.609        0.377          0.014        New York   \n32       0.486        0.499          0.015  North Carolina   \n33       0.318        0.651          0.031    North Dakota   \n34       0.452        0.533          0.015            Ohio   \n35       0.323        0.654          0.023        Oklahoma   \n36       0.565        0.404          0.032          Oregon   \n37       0.500        0.488          0.011    Pennsylvania   \n38       0.594        0.386          0.020    Rhode Island   \n39       0.434        0.551          0.015  South Carolina   \n40       0.356        0.618          0.026    South Dakota   \n41       0.375        0.607          0.019       Tennessee   \n42       0.465        0.521          0.015           Texas   \n43       0.376        0.581          0.042            Utah   \n44       0.661        0.307          0.032         Vermont   \n45       0.541        0.440          0.019        Virginia   \n46       0.580        0.388          0.033      Washington   \n47       0.297        0.686          0.017   West Virginia   \n48       0.494        0.488          0.017       Wisconsin   \n49       0.266        0.699          0.035         Wyoming   \n\n                                Static_description_v1  \\\n0   Alabama with close to average population and a...   \n1   Alaska with one of the smallest populations an...   \n2   Arizona with above-average population and belo...   \n3   Arkansas with below-average population and abo...   \n4   California with one of the largest populations...   \n5   Colorado with close to average population and ...   \n6   Connecticut with close to average population a...   \n7   Delaware with below-average population and abo...   \n8   Florida with one of the largest populations an...   \n9   Georgia with above-average population and one ...   \n10  Hawaii with below-average population and below...   \n11  Idaho with below-average population and one of...   \n12  Illinois with above-average population and abo...   \n13  Indiana with above-average population with clo...   \n14  Iowa with below-average population and below-a...   \n15  Kansas with below-average population and below...   \n16  Kentucky with close to average population with...   \n17  Louisiana with close to average population and...   \n18  Maine with below-average population and below-...   \n19  Maryland with above-average population and one...   \n20  Massachusetts with above-average population wi...   \n21  Michigan with above-average population and abo...   \n22  Minnesota with close to average population wit...   \n23  Mississippi with below-average population and ...   \n24  Missouri with above-average population with cl...   \n25  Montana with below-average population and one ...   \n26  Nebraska with below-average population and bel...   \n27  Nevada with below-average population with clos...   \n28  New Hampshire with below-average population an...   \n29  New Jersey with above-average population and a...   \n30  New Mexico with below-average population and b...   \n31  New York with one of the largest populations a...   \n32  North Carolina with above-average population a...   \n33  North Dakota with one of the smallest populati...   \n34  Ohio with above-average population and above-a...   \n35  Oklahoma with close to average population with...   \n36  Oregon with close to average population and be...   \n37  Pennsylvania with one of the largest populatio...   \n38  Rhode Island with below-average population wit...   \n39  South Carolina with close to average populatio...   \n40  South Dakota with one of the smallest populati...   \n41  Tennessee with above-average population and ab...   \n42  Texas with one of the largest populations and ...   \n43  Utah with close to average population and one ...   \n44  Vermont with one of the smallest populations a...   \n45  Virginia with above-average population and abo...   \n46  Washington with above-average population and b...   \n47  West Virginia with below-average population an...   \n48  Wisconsin with above-average population with c...   \n49  Wyoming with one of the smallest populations a...   \n\n                                Static_description_v2  \\\n0   In the recent Presidential election, Republica...   \n1   In the most recent Presidential election, Alas...   \n2   In the most recent Presidential election, Ariz...   \n3   In the recent Presidential election, Arkansas ...   \n4   California, which is home to one of the bigges...   \n5   In the recent Presidential election, Colorado,...   \n6   In Connecticut, the population size is near th...   \n7   In the most recent Presidential election, Dela...   \n8   In spite of the large number of people living ...   \n9   In the recent Presidential election, Georgia, ...   \n10  Hawaii, which has a population and Black demog...   \n11  In the recent Presidential election, Idaho, wh...   \n12  Illinois, with a population and Black demograp...   \n13  In the recent Presidential election, Indiana, ...   \n14  In the recent Presidential election, Iowa, wit...   \n15  In the recent Presidential election, Kansas, a...   \n16  In the recent Presidential election, Kentucky,...   \n17  In the most recent Presidential election, Loui...   \n18  The recent Presidential election saw Maine, wh...   \n19  In the recent Presidential election, Maryland,...   \n20  In the recent Presidential election, Massachus...   \n21  In the most recent Presidential election, Mich...   \n22  In the recent Presidential election, Minnesota...   \n23  In the recent Presidential election, Mississip...   \n24  In the recent Presidential election, Missouri,...   \n25  In the recent Presidential election, Montana, ...   \n26  In the most recent Presidential election, Nebr...   \n27  In the recent Presidential election, Nevada, w...   \n28  In the recent Presidential election, New Hamps...   \n29  New Jersey, which has a population and Black d...   \n30  In the recent Presidential election, New Mexic...   \n31  New York, one of the most populous cities in t...   \n32  In the recent Presidential election, North Car...   \n33  The 2020 Presidential election saw Republicans...   \n34  In the recent Presidential election, Ohio, whi...   \n35  Oklahoma, whose population size and Black demo...   \n36  Oregon, whose population is nearly equal to th...   \n37  Pennsylvania, boasting one of the largest popu...   \n38  In the recent Presidential election, Rhode Isl...   \n39  In the recent Presidential election, South Car...   \n40  In the recent Presidential election, South Dak...   \n41  In the recent Presidential election, Tennessee...   \n42  Texas, which has one of the biggest population...   \n43  In comparison to the national averages, Utah's...   \n44  In the recent Presidential election, despite h...   \n45  In the recent Presidential election, Virginia,...   \n46  In the recent Presidential election, Washingto...   \n47  In the recent Presidential election, West Virg...   \n48  In the recent Presidential election, Wisconsin...   \n49  In the recent Presidential election, Wyoming, ...   \n\n                                Static_description_v3  \\\n0   Alabama, with a population close to the nation...   \n1   Alaska, with one of the smallest populations a...   \n2   In the last Presidential election, Arizona, wh...   \n3   In the recent Presidential election, Arkansas,...   \n4   California, boasting one of the largest popula...   \n5   In the recent Presidential election, Colorado,...   \n6   In the most recent Presidential election, Conn...   \n7   Delaware, with a population slightly lower tha...   \n8   Florida, possessing a population size among th...   \n9   Despite having a population that is more than ...   \n10  Hawaii, with a population lower than the natio...   \n11  In the recent Presidential election, Republica...   \n12  Illinois, with a population and Black demograp...   \n13  In the most recent Presidential election, Indi...   \n14  In the most recent Presidential election, Iowa...   \n15  In the recent Presidential election, despite i...   \n16  In the recent Presidential election, the state...   \n17  In recent Presidential elections, Louisiana - ...   \n18  Maine, with its below-average population and B...   \n19  In the recent Presidential election, Maryland,...   \n20  Massachusetts, which has a population that is ...   \n21  In the recent Presidential election, Michigan,...   \n22  In the most recent Presidential election, Minn...   \n23  In the recent Presidential election, Mississip...   \n24  In the last Presidential election, Missouri, w...   \n25  In the most recent Presidential election, Mont...   \n26  In the recent Presidential election, Nebraska,...   \n27  In the recent Presidential election, Nevada, w...   \n28  New Hampshire, with a population and Black dem...   \n29  In the recent Presidential election, New Jerse...   \n30  In the recent Presidential election, despite h...   \n31  In the recent Presidential election, New York,...   \n32  In the recent Presidential election, North Car...   \n33  In the recent Presidential election, North Dak...   \n34  In Ohio, where the population and Black demogr...   \n35  In the recent Presidential election, Oklahoma,...   \n36  Oregon, despite having a population close to t...   \n37  Pennsylvania, with a population that is one of...   \n38  In the recent Presidential election, Rhode Isl...   \n39  Despite having close to the average population...   \n40  South Dakota, with its low population and a su...   \n41  In the recent Presidential election, Tennessee...   \n42  In the most recent Presidential election, Repu...   \n43  In the most recent Presidential election, Utah...   \n44  Vermont, a state with one of the smallest popu...   \n45  In Virginia, a state with a population and Bla...   \n46  The recent Presidential election saw Washingto...   \n47  West Virginia, with a population and Black dem...   \n48  In the recent Presidential election, Wisconsin...   \n49  In the recent Presidential election, Wyoming, ...   \n\n                                Static_description_v4  \\\n0   In the recent Presidential election, Alabama, ...   \n1   In the most recent Presidential election, Alas...   \n2   In the most recent Presidential election, Ariz...   \n3   In the recent Presidential election, Arkansas,...   \n4   California, boasting one of the largest popula...   \n5   The recent Presidential election saw Colorado,...   \n6   In recent Presidential elections, Connecticut ...   \n7   In the recent Presidential election, Delaware,...   \n8   In the recent Presidential election, despite c...   \n9   In Georgia, which has an above-average populat...   \n10  Hawaii, despite its small population and minor...   \n11  In the last Presidential election, despite hav...   \n12  Illinois, which has a population and Black dem...   \n13  In the recent Presidential election, Indiana, ...   \n14  In the recent Presidential election, Iowa, a s...   \n15  The most recent election saw Kansas voters fav...   \n16  In the recent Presidential election, Kentucky,...   \n17  In the 2020 Presidential Election, the state o...   \n18  Maine, despite having a population and Black d...   \n19  Maryland, a state boasting a greater-than-aver...   \n20  Massachusetts, which boasts an above-average p...   \n21  In Michigan, where the population and Black de...   \n22  In the recent Presidential election, Minnesota...   \n23  In Mississippi, a state with a population that...   \n24  In the recent Presidential election, Missouri,...   \n25  Despite being one of the least populous and ha...   \n26  In the most recent Presidential election, Nebr...   \n27  In the recent Presidential election, Nevada, w...   \n28  In the 2020 Presidential election, New Hampshi...   \n29  In the most recent Presidential election, New ...   \n30  During the election for the Presidency, New Me...   \n31  New York, one of the most populated cities wit...   \n32  The recent Presidential election saw North Car...   \n33  In the recent Presidential election, North Dak...   \n34  In the recent Presidential election, Ohio, whi...   \n35  Oklahoma, having a population close to the nat...   \n36  Oregon, despite having a population slightly b...   \n37  In the recent Presidential election, Pennsylva...   \n38  In the recent Presidential election, Rhode Isl...   \n39  Despite having a population close to the natio...   \n40  Despite having one of the smallest populations...   \n41  In the recent Presidential election, Tennessee...   \n42  Texas had one of the biggest concentrations of...   \n43  The state of Utah, which has a population clos...   \n44  Vermont, which has one of the lowest populatio...   \n45  Virginia, which has an above-average populatio...   \n46  At the most recent Presidential election, Wash...   \n47  In the last Presidential election, West Virgin...   \n48  In the most recent Presidential election, Repu...   \n49  In Wyoming, which has one of the lowest popula...   \n\n                                Static_description_v5  \n0   In the recent Presidential election, Alabama, ...  \n1   Alaska has one of the lowest populations and a...  \n2   In the recent Presidential election, Arizona, ...  \n3   In the recent Presidential election, Arkansas,...  \n4   California, one of the most populous states wi...  \n5   In the recent Presidential election, Colorado,...  \n6   In the recent Presidential election, Connectic...  \n7   Delaware, with a population below the national...  \n8   Florida, a state with one of the largest popul...  \n9   Despite having an above-average population siz...  \n10  Hawaii, which has a population size and Black ...  \n11  In the recent Presidential election, Idaho, wi...  \n12  In the recent Presidential election, Illinois,...  \n13  In the recent Presidential election, Indiana, ...  \n14  In the recent Presidential election, Iowa, whi...  \n15  In the recent Presidential election, despite K...  \n16  In the last Presidential election, despite hav...  \n17  In the recent Presidential election, Louisiana...  \n18  In the most recent Presidential election, Main...  \n19  In the recent Presidential election, Maryland,...  \n20  Massachusetts, which has a population that is ...  \n21  In the most recent Presidential election, Mich...  \n22  Minnesota's population and Black demographic a...  \n23  Mississippi, with a population below the natio...  \n24  In the recent Presidential election, Missouri,...  \n25  In the most recent Presidential election, desp...  \n26  In the recent Presidential election, despite h...  \n27  Nevada, which has a population below the natio...  \n28  In the recent Presidential election, New Hamps...  \n29  In the recent Presidential election, New Jerse...  \n30  New Mexico, a state with a population and Blac...  \n31  In the recent Presidential election, New York,...  \n32  North Carolina, which has an above-average pop...  \n33  In the recent Presidential election, North Dak...  \n34  In the recent Presidential election, Ohio, whi...  \n35  Oklahoma, with a population that is nearly ave...  \n36  Despite having a population close to the natio...  \n37  Pennsylvania, which is home to one of the bigg...  \n38  The recent Presidential election saw Rhode Isl...  \n39  In the most recent Presidential election, Sout...  \n40  South Dakota, with a population among the smal...  \n41  In the recent Presidential election, Republica...  \n42  In the recent Presidential election, Texas, wh...  \n43  In the recent Presidential election, Utah, whi...  \n44  Vermont, having one of the lowest populations ...  \n45  Virginia, which has an above-average populatio...  \n46  In the recent Presidential election, Washingto...  \n47  In the most recent Presidential election, West...  \n48  In the last Presidential election, Wisconsin, ...  \n49  In spite of having one of the nation's smalles...  \n\n[50 rows x 32 columns]",
      "text/html": "<div>\n<style scoped>\n    .dataframe tbody tr th:only-of-type {\n        vertical-align: middle;\n    }\n\n    .dataframe tbody tr th {\n        vertical-align: top;\n    }\n\n    .dataframe thead th {\n        text-align: right;\n    }\n</style>\n<table border=\"1\" class=\"dataframe\">\n  <thead>\n    <tr style=\"text-align: right;\">\n      <th></th>\n      <th>fips</th>\n      <th>Population</th>\n      <th>under_20</th>\n      <th>over_65</th>\n      <th>White</th>\n      <th>Black</th>\n      <th>Multiple_race</th>\n      <th>Not_Hispanic</th>\n      <th>Hispanic</th>\n      <th>medicaid_coverage</th>\n      <th>...</th>\n      <th>Older_at_high_risk</th>\n      <th>dem_percent</th>\n      <th>rep_percent</th>\n      <th>other_percent</th>\n      <th>State</th>\n      <th>Static_description_v1</th>\n      <th>Static_description_v2</th>\n      <th>Static_description_v3</th>\n      <th>Static_description_v4</th>\n      <th>Static_description_v5</th>\n    </tr>\n  </thead>\n  <tbody>\n    <tr>\n      <th>0</th>\n      <td>01</td>\n      <td>4903185</td>\n      <td>0.248091</td>\n      <td>0.173323</td>\n      <td>0.691264</td>\n      <td>0.267844</td>\n      <td>0.017718</td>\n      <td>0.954463</td>\n      <td>0.045537</td>\n      <td>0.195</td>\n      <td>...</td>\n      <td>0.510</td>\n      <td>0.366</td>\n      <td>0.620</td>\n      <td>0.014</td>\n      <td>Alabama</td>\n      <td>Alabama with close to average population and a...</td>\n      <td>In the recent Presidential election, Republica...</td>\n      <td>Alabama, with a population close to the nation...</td>\n      <td>In the recent Presidential election, Alabama, ...</td>\n      <td>In the recent Presidential election, Alabama, ...</td>\n    </tr>\n    <tr>\n      <th>1</th>\n      <td>02</td>\n      <td>731545</td>\n      <td>0.269091</td>\n      <td>0.125198</td>\n      <td>0.652712</td>\n      <td>0.037056</td>\n      <td>0.074772</td>\n      <td>0.927261</td>\n      <td>0.072739</td>\n      <td>0.213</td>\n      <td>...</td>\n      <td>0.494</td>\n      <td>0.428</td>\n      <td>0.528</td>\n      <td>0.044</td>\n      <td>Alaska</td>\n      <td>Alaska with one of the smallest populations an...</td>\n      <td>In the most recent Presidential election, Alas...</td>\n      <td>Alaska, with one of the smallest populations a...</td>\n      <td>In the most recent Presidential election, Alas...</td>\n      <td>Alaska has one of the lowest populations and a...</td>\n    </tr>\n    <tr>\n      <th>2</th>\n      <td>04</td>\n      <td>7278717</td>\n      <td>0.252599</td>\n      <td>0.179789</td>\n      <td>0.826168</td>\n      <td>0.051794</td>\n      <td>0.029330</td>\n      <td>0.682555</td>\n      <td>0.317445</td>\n      <td>0.21</td>\n      <td>...</td>\n      <td>0.591</td>\n      <td>0.494</td>\n      <td>0.491</td>\n      <td>0.016</td>\n      <td>Arizona</td>\n      <td>Arizona with above-average population and belo...</td>\n      <td>In the most recent Presidential election, Ariz...</td>\n      <td>In the last Presidential election, Arizona, wh...</td>\n      <td>In the most recent Presidential election, Ariz...</td>\n      <td>In the recent Presidential election, Arizona, ...</td>\n    </tr>\n    <tr>\n      <th>3</th>\n      <td>05</td>\n      <td>3017804</td>\n      <td>0.258111</td>\n      <td>0.173597</td>\n      <td>0.790395</td>\n      <td>0.156752</td>\n      <td>0.022066</td>\n      <td>0.921588</td>\n      <td>0.078412</td>\n      <td>0.262</td>\n      <td>...</td>\n      <td>0.503</td>\n      <td>0.348</td>\n      <td>0.624</td>\n      <td>0.028</td>\n      <td>Arkansas</td>\n      <td>Arkansas with below-average population and abo...</td>\n      <td>In the recent Presidential election, Arkansas ...</td>\n      <td>In the recent Presidential election, Arkansas,...</td>\n      <td>In the recent Presidential election, Arkansas,...</td>\n      <td>In the recent Presidential election, Arkansas,...</td>\n    </tr>\n    <tr>\n      <th>4</th>\n      <td>06</td>\n      <td>39512223</td>\n      <td>0.251198</td>\n      <td>0.147755</td>\n      <td>0.719391</td>\n      <td>0.064607</td>\n      <td>0.039839</td>\n      <td>0.605821</td>\n      <td>0.394179</td>\n      <td>0.253</td>\n      <td>...</td>\n      <td>0.560</td>\n      <td>0.635</td>\n      <td>0.343</td>\n      <td>0.022</td>\n      <td>California</td>\n      <td>California with one of the largest populations...</td>\n      <td>California, which is home to one of the bigges...</td>\n      <td>California, boasting one of the largest popula...</td>\n      <td>California, boasting one of the largest popula...</td>\n      <td>California, one of the most populous states wi...</td>\n    </tr>\n    <tr>\n      <th>5</th>\n      <td>08</td>\n      <td>5758736</td>\n      <td>0.244493</td>\n      <td>0.146284</td>\n      <td>0.869394</td>\n      <td>0.045927</td>\n      <td>0.031373</td>\n      <td>0.781740</td>\n      <td>0.218260</td>\n      <td>0.168</td>\n      <td>...</td>\n      <td>0.591</td>\n      <td>0.554</td>\n      <td>0.419</td>\n      <td>0.027</td>\n      <td>Colorado</td>\n      <td>Colorado with close to average population and ...</td>\n      <td>In the recent Presidential election, Colorado,...</td>\n      <td>In the recent Presidential election, Colorado,...</td>\n      <td>The recent Presidential election saw Colorado,...</td>\n      <td>In the recent Presidential election, Colorado,...</td>\n    </tr>\n    <tr>\n      <th>6</th>\n      <td>09</td>\n      <td>3565287</td>\n      <td>0.232683</td>\n      <td>0.176772</td>\n      <td>0.797002</td>\n      <td>0.121893</td>\n      <td>0.024721</td>\n      <td>0.831443</td>\n      <td>0.168557</td>\n      <td>0.215</td>\n      <td>...</td>\n      <td>0.599</td>\n      <td>0.593</td>\n      <td>0.392</td>\n      <td>0.016</td>\n      <td>Connecticut</td>\n      <td>Connecticut with close to average population a...</td>\n      <td>In Connecticut, the population size is near th...</td>\n      <td>In the most recent Presidential election, Conn...</td>\n      <td>In recent Presidential elections, Connecticut ...</td>\n      <td>In the recent Presidential election, Connectic...</td>\n    </tr>\n    <tr>\n      <th>7</th>\n      <td>10</td>\n      <td>973764</td>\n      <td>0.235080</td>\n      <td>0.193996</td>\n      <td>0.692237</td>\n      <td>0.231621</td>\n      <td>0.027377</td>\n      <td>0.904093</td>\n      <td>0.095907</td>\n      <td>0.204</td>\n      <td>...</td>\n      <td>0.583</td>\n      <td>0.587</td>\n      <td>0.398</td>\n      <td>0.015</td>\n      <td>Delaware</td>\n      <td>Delaware with below-average population and abo...</td>\n      <td>In the most recent Presidential election, Dela...</td>\n      <td>Delaware, with a population slightly lower tha...</td>\n      <td>In the recent Presidential election, Delaware,...</td>\n      <td>Delaware, with a population below the national...</td>\n    </tr>\n    <tr>\n      <th>8</th>\n      <td>12</td>\n      <td>21477737</td>\n      <td>0.219510</td>\n      <td>0.209395</td>\n      <td>0.772772</td>\n      <td>0.169176</td>\n      <td>0.022275</td>\n      <td>0.736292</td>\n      <td>0.263708</td>\n      <td>0.174</td>\n      <td>...</td>\n      <td>0.612</td>\n      <td>0.479</td>\n      <td>0.512</td>\n      <td>0.009</td>\n      <td>Florida</td>\n      <td>Florida with one of the largest populations an...</td>\n      <td>In spite of the large number of people living ...</td>\n      <td>Florida, possessing a population size among th...</td>\n      <td>In the recent Presidential election, despite c...</td>\n      <td>Florida, a state with one of the largest popul...</td>\n    </tr>\n    <tr>\n      <th>9</th>\n      <td>13</td>\n      <td>10617423</td>\n      <td>0.263877</td>\n      <td>0.142874</td>\n      <td>0.601983</td>\n      <td>0.325705</td>\n      <td>0.022170</td>\n      <td>0.901226</td>\n      <td>0.098774</td>\n      <td>0.173</td>\n      <td>...</td>\n      <td>0.509</td>\n      <td>0.495</td>\n      <td>0.493</td>\n      <td>0.012</td>\n      <td>Georgia</td>\n      <td>Georgia with above-average population and one ...</td>\n      <td>In the recent Presidential election, Georgia, ...</td>\n      <td>Despite having a population that is more than ...</td>\n      <td>In Georgia, which has an above-average populat...</td>\n      <td>Despite having an above-average population siz...</td>\n    </tr>\n    <tr>\n      <th>10</th>\n      <td>15</td>\n      <td>1415872</td>\n      <td>0.233137</td>\n      <td>0.189599</td>\n      <td>0.255190</td>\n      <td>0.021865</td>\n      <td>0.241751</td>\n      <td>0.893448</td>\n      <td>0.106552</td>\n      <td>0.176</td>\n      <td>...</td>\n      <td>0.625</td>\n      <td>0.637</td>\n      <td>0.343</td>\n      <td>0.020</td>\n      <td>Hawaii</td>\n      <td>Hawaii with below-average population and below...</td>\n      <td>Hawaii, which has a population and Black demog...</td>\n      <td>Hawaii, with a population lower than the natio...</td>\n      <td>Hawaii, despite its small population and minor...</td>\n      <td>Hawaii, which has a population size and Black ...</td>\n    </tr>\n    <tr>\n      <th>11</th>\n      <td>16</td>\n      <td>1787065</td>\n      <td>0.277647</td>\n      <td>0.162652</td>\n      <td>0.930221</td>\n      <td>0.009147</td>\n      <td>0.025505</td>\n      <td>0.871583</td>\n      <td>0.128417</td>\n      <td>0.156</td>\n      <td>...</td>\n      <td>0.594</td>\n      <td>0.331</td>\n      <td>0.639</td>\n      <td>0.030</td>\n      <td>Idaho</td>\n      <td>Idaho with below-average population and one of...</td>\n      <td>In the recent Presidential election, Idaho, wh...</td>\n      <td>In the recent Presidential election, Republica...</td>\n      <td>In the last Presidential election, despite hav...</td>\n      <td>In the recent Presidential election, Idaho, wi...</td>\n    </tr>\n    <tr>\n      <th>12</th>\n      <td>17</td>\n      <td>12671821</td>\n      <td>0.248213</td>\n      <td>0.161242</td>\n      <td>0.767602</td>\n      <td>0.146192</td>\n      <td>0.020582</td>\n      <td>0.824817</td>\n      <td>0.175183</td>\n      <td>0.182</td>\n      <td>...</td>\n      <td>0.553</td>\n      <td>0.575</td>\n      <td>0.406</td>\n      <td>0.019</td>\n      <td>Illinois</td>\n      <td>Illinois with above-average population and abo...</td>\n      <td>Illinois, with a population and Black demograp...</td>\n      <td>Illinois, with a population and Black demograp...</td>\n      <td>Illinois, which has a population and Black dem...</td>\n      <td>In the recent Presidential election, Illinois,...</td>\n    </tr>\n    <tr>\n      <th>13</th>\n      <td>18</td>\n      <td>6732219</td>\n      <td>0.260697</td>\n      <td>0.161276</td>\n      <td>0.848100</td>\n      <td>0.099461</td>\n      <td>0.021598</td>\n      <td>0.927312</td>\n      <td>0.072688</td>\n      <td>0.177</td>\n      <td>...</td>\n      <td>0.514</td>\n      <td>0.410</td>\n      <td>0.570</td>\n      <td>0.020</td>\n      <td>Indiana</td>\n      <td>Indiana with above-average population with clo...</td>\n      <td>In the recent Presidential election, Indiana, ...</td>\n      <td>In the most recent Presidential election, Indi...</td>\n      <td>In the recent Presidential election, Indiana, ...</td>\n      <td>In the recent Presidential election, Indiana, ...</td>\n    </tr>\n    <tr>\n      <th>14</th>\n      <td>19</td>\n      <td>3155070</td>\n      <td>0.258738</td>\n      <td>0.175259</td>\n      <td>0.906186</td>\n      <td>0.040603</td>\n      <td>0.019620</td>\n      <td>0.937070</td>\n      <td>0.062930</td>\n      <td>0.195</td>\n      <td>...</td>\n      <td>0.601</td>\n      <td>0.449</td>\n      <td>0.531</td>\n      <td>0.020</td>\n      <td>Iowa</td>\n      <td>Iowa with below-average population and below-a...</td>\n      <td>In the recent Presidential election, Iowa, wit...</td>\n      <td>In the most recent Presidential election, Iowa...</td>\n      <td>In the recent Presidential election, Iowa, a s...</td>\n      <td>In the recent Presidential election, Iowa, whi...</td>\n    </tr>\n    <tr>\n      <th>15</th>\n      <td>20</td>\n      <td>2913314</td>\n      <td>0.268454</td>\n      <td>0.163212</td>\n      <td>0.862882</td>\n      <td>0.061348</td>\n      <td>0.030594</td>\n      <td>0.877777</td>\n      <td>0.122223</td>\n      <td>0.139</td>\n      <td>...</td>\n      <td>0.547</td>\n      <td>0.416</td>\n      <td>0.562</td>\n      <td>0.022</td>\n      <td>Kansas</td>\n      <td>Kansas with below-average population and below...</td>\n      <td>In the recent Presidential election, Kansas, a...</td>\n      <td>In the recent Presidential election, despite i...</td>\n      <td>The most recent election saw Kansas voters fav...</td>\n      <td>In the recent Presidential election, despite K...</td>\n    </tr>\n    <tr>\n      <th>16</th>\n      <td>21</td>\n      <td>4467673</td>\n      <td>0.250451</td>\n      <td>0.167999</td>\n      <td>0.875159</td>\n      <td>0.084715</td>\n      <td>0.020183</td>\n      <td>0.960896</td>\n      <td>0.039104</td>\n      <td>0.255</td>\n      <td>...</td>\n      <td>0.488</td>\n      <td>0.362</td>\n      <td>0.621</td>\n      <td>0.018</td>\n      <td>Kentucky</td>\n      <td>Kentucky with close to average population with...</td>\n      <td>In the recent Presidential election, Kentucky,...</td>\n      <td>In the recent Presidential election, the state...</td>\n      <td>In the recent Presidential election, Kentucky,...</td>\n      <td>In the last Presidential election, despite hav...</td>\n    </tr>\n    <tr>\n      <th>17</th>\n      <td>22</td>\n      <td>4648794</td>\n      <td>0.258834</td>\n      <td>0.159401</td>\n      <td>0.627871</td>\n      <td>0.327985</td>\n      <td>0.017548</td>\n      <td>0.946874</td>\n      <td>0.053126</td>\n      <td>0.293</td>\n      <td>...</td>\n      <td>0.484</td>\n      <td>0.399</td>\n      <td>0.585</td>\n      <td>0.017</td>\n      <td>Louisiana</td>\n      <td>Louisiana with close to average population and...</td>\n      <td>In the most recent Presidential election, Loui...</td>\n      <td>In recent Presidential elections, Louisiana - ...</td>\n      <td>In the 2020 Presidential Election, the state o...</td>\n      <td>In the recent Presidential election, Louisiana...</td>\n    </tr>\n    <tr>\n      <th>18</th>\n      <td>23</td>\n      <td>1344212</td>\n      <td>0.209162</td>\n      <td>0.212217</td>\n      <td>0.944290</td>\n      <td>0.016881</td>\n      <td>0.018266</td>\n      <td>0.982369</td>\n      <td>0.017631</td>\n      <td>0.2</td>\n      <td>...</td>\n      <td>0.594</td>\n      <td>0.531</td>\n      <td>0.440</td>\n      <td>0.029</td>\n      <td>Maine</td>\n      <td>Maine with below-average population and below-...</td>\n      <td>The recent Presidential election saw Maine, wh...</td>\n      <td>Maine, with its below-average population and B...</td>\n      <td>Maine, despite having a population and Black d...</td>\n      <td>In the most recent Presidential election, Main...</td>\n    </tr>\n    <tr>\n      <th>19</th>\n      <td>24</td>\n      <td>6045680</td>\n      <td>0.246411</td>\n      <td>0.158691</td>\n      <td>0.585450</td>\n      <td>0.310742</td>\n      <td>0.029400</td>\n      <td>0.893507</td>\n      <td>0.106493</td>\n      <td>0.187</td>\n      <td>...</td>\n      <td>0.536</td>\n      <td>0.654</td>\n      <td>0.322</td>\n      <td>0.025</td>\n      <td>Maryland</td>\n      <td>Maryland with above-average population and one...</td>\n      <td>In the recent Presidential election, Maryland,...</td>\n      <td>In the recent Presidential election, Maryland,...</td>\n      <td>Maryland, a state boasting a greater-than-aver...</td>\n      <td>In the recent Presidential election, Maryland,...</td>\n    </tr>\n    <tr>\n      <th>20</th>\n      <td>25</td>\n      <td>6892503</td>\n      <td>0.226076</td>\n      <td>0.169653</td>\n      <td>0.805827</td>\n      <td>0.090229</td>\n      <td>0.025709</td>\n      <td>0.875966</td>\n      <td>0.124034</td>\n      <td>0.221</td>\n      <td>...</td>\n      <td>0.600</td>\n      <td>0.656</td>\n      <td>0.321</td>\n      <td>0.023</td>\n      <td>Massachusetts</td>\n      <td>Massachusetts with above-average population wi...</td>\n      <td>In the recent Presidential election, Massachus...</td>\n      <td>Massachusetts, which has a population that is ...</td>\n      <td>Massachusetts, which boasts an above-average p...</td>\n      <td>Massachusetts, which has a population that is ...</td>\n    </tr>\n    <tr>\n      <th>21</th>\n      <td>26</td>\n      <td>9986857</td>\n      <td>0.241086</td>\n      <td>0.176772</td>\n      <td>0.792198</td>\n      <td>0.140974</td>\n      <td>0.025330</td>\n      <td>0.947110</td>\n      <td>0.052890</td>\n      <td>0.217</td>\n      <td>...</td>\n      <td>0.532</td>\n      <td>0.506</td>\n      <td>0.478</td>\n      <td>0.015</td>\n      <td>Michigan</td>\n      <td>Michigan with above-average population and abo...</td>\n      <td>In the most recent Presidential election, Mich...</td>\n      <td>In the recent Presidential election, Michigan,...</td>\n      <td>In Michigan, where the population and Black de...</td>\n      <td>In the most recent Presidential election, Mich...</td>\n    </tr>\n    <tr>\n      <th>22</th>\n      <td>27</td>\n      <td>5639632</td>\n      <td>0.256284</td>\n      <td>0.163199</td>\n      <td>0.837631</td>\n      <td>0.070139</td>\n      <td>0.025878</td>\n      <td>0.944122</td>\n      <td>0.055878</td>\n      <td>0.169</td>\n      <td>...</td>\n      <td>0.600</td>\n      <td>0.524</td>\n      <td>0.453</td>\n      <td>0.023</td>\n      <td>Minnesota</td>\n      <td>Minnesota with close to average population wit...</td>\n      <td>In the recent Presidential election, Minnesota...</td>\n      <td>In the most recent Presidential election, Minn...</td>\n      <td>In the recent Presidential election, Minnesota...</td>\n      <td>Minnesota's population and Black demographic a...</td>\n    </tr>\n    <tr>\n      <th>23</th>\n      <td>28</td>\n      <td>2976149</td>\n      <td>0.262247</td>\n      <td>0.163531</td>\n      <td>0.590723</td>\n      <td>0.377857</td>\n      <td>0.013429</td>\n      <td>0.966363</td>\n      <td>0.033637</td>\n      <td>0.242</td>\n      <td>...</td>\n      <td>0.496</td>\n      <td>0.411</td>\n      <td>0.576</td>\n      <td>0.013</td>\n      <td>Mississippi</td>\n      <td>Mississippi with below-average population and ...</td>\n      <td>In the recent Presidential election, Mississip...</td>\n      <td>In the recent Presidential election, Mississip...</td>\n      <td>In Mississippi, a state with a population that...</td>\n      <td>Mississippi, with a population below the natio...</td>\n    </tr>\n    <tr>\n      <th>24</th>\n      <td>29</td>\n      <td>6137428</td>\n      <td>0.248849</td>\n      <td>0.173043</td>\n      <td>0.828717</td>\n      <td>0.118222</td>\n      <td>0.023895</td>\n      <td>0.956218</td>\n      <td>0.043782</td>\n      <td>0.144</td>\n      <td>...</td>\n      <td>0.538</td>\n      <td>0.414</td>\n      <td>0.568</td>\n      <td>0.018</td>\n      <td>Missouri</td>\n      <td>Missouri with above-average population with cl...</td>\n      <td>In the recent Presidential election, Missouri,...</td>\n      <td>In the last Presidential election, Missouri, w...</td>\n      <td>In the recent Presidential election, Missouri,...</td>\n      <td>In the recent Presidential election, Missouri,...</td>\n    </tr>\n    <tr>\n      <th>25</th>\n      <td>30</td>\n      <td>1068778</td>\n      <td>0.238044</td>\n      <td>0.193152</td>\n      <td>0.889063</td>\n      <td>0.005978</td>\n      <td>0.028377</td>\n      <td>0.959497</td>\n      <td>0.040503</td>\n      <td>0.208</td>\n      <td>...</td>\n      <td>0.623</td>\n      <td>0.405</td>\n      <td>0.569</td>\n      <td>0.025</td>\n      <td>Montana</td>\n      <td>Montana with below-average population and one ...</td>\n      <td>In the recent Presidential election, Montana, ...</td>\n      <td>In the most recent Presidential election, Mont...</td>\n      <td>Despite being one of the least populous and ha...</td>\n      <td>In the most recent Presidential election, desp...</td>\n    </tr>\n    <tr>\n      <th>26</th>\n      <td>31</td>\n      <td>1934408</td>\n      <td>0.273893</td>\n      <td>0.161526</td>\n      <td>0.880956</td>\n      <td>0.052090</td>\n      <td>0.023105</td>\n      <td>0.886454</td>\n      <td>0.113546</td>\n      <td>0.126</td>\n      <td>...</td>\n      <td>0.567</td>\n      <td>0.394</td>\n      <td>0.585</td>\n      <td>0.021</td>\n      <td>Nebraska</td>\n      <td>Nebraska with below-average population and bel...</td>\n      <td>In the most recent Presidential election, Nebr...</td>\n      <td>In the recent Presidential election, Nebraska,...</td>\n      <td>In the most recent Presidential election, Nebr...</td>\n      <td>In the recent Presidential election, despite h...</td>\n    </tr>\n    <tr>\n      <th>27</th>\n      <td>32</td>\n      <td>3080156</td>\n      <td>0.246829</td>\n      <td>0.161022</td>\n      <td>0.739427</td>\n      <td>0.102691</td>\n      <td>0.045973</td>\n      <td>0.707612</td>\n      <td>0.292388</td>\n      <td>0.178</td>\n      <td>...</td>\n      <td>0.569</td>\n      <td>0.501</td>\n      <td>0.477</td>\n      <td>0.023</td>\n      <td>Nevada</td>\n      <td>Nevada with below-average population with clos...</td>\n      <td>In the recent Presidential election, Nevada, w...</td>\n      <td>In the recent Presidential election, Nevada, w...</td>\n      <td>In the recent Presidential election, Nevada, w...</td>\n      <td>Nevada, which has a population below the natio...</td>\n    </tr>\n    <tr>\n      <th>28</th>\n      <td>33</td>\n      <td>1359711</td>\n      <td>0.214044</td>\n      <td>0.186704</td>\n      <td>0.931152</td>\n      <td>0.017924</td>\n      <td>0.017766</td>\n      <td>0.959852</td>\n      <td>0.040148</td>\n      <td>0.132</td>\n      <td>...</td>\n      <td>0.553</td>\n      <td>0.527</td>\n      <td>0.454</td>\n      <td>0.019</td>\n      <td>New Hampshire</td>\n      <td>New Hampshire with below-average population an...</td>\n      <td>In the recent Presidential election, New Hamps...</td>\n      <td>New Hampshire, with a population and Black dem...</td>\n      <td>In the 2020 Presidential election, New Hampshi...</td>\n      <td>In the recent Presidential election, New Hamps...</td>\n    </tr>\n    <tr>\n      <th>29</th>\n      <td>34</td>\n      <td>8882190</td>\n      <td>0.242225</td>\n      <td>0.166123</td>\n      <td>0.719283</td>\n      <td>0.150577</td>\n      <td>0.022905</td>\n      <td>0.790948</td>\n      <td>0.209052</td>\n      <td>0.166</td>\n      <td>...</td>\n      <td>0.596</td>\n      <td>0.573</td>\n      <td>0.414</td>\n      <td>0.013</td>\n      <td>New Jersey</td>\n      <td>New Jersey with above-average population and a...</td>\n      <td>New Jersey, which has a population and Black d...</td>\n      <td>In the recent Presidential election, New Jerse...</td>\n      <td>In the most recent Presidential election, New ...</td>\n      <td>In the recent Presidential election, New Jerse...</td>\n    </tr>\n    <tr>\n      <th>30</th>\n      <td>35</td>\n      <td>2096829</td>\n      <td>0.253579</td>\n      <td>0.180084</td>\n      <td>0.818691</td>\n      <td>0.026121</td>\n      <td>0.026095</td>\n      <td>0.507379</td>\n      <td>0.492621</td>\n      <td>0.327</td>\n      <td>...</td>\n      <td>0.588</td>\n      <td>0.543</td>\n      <td>0.435</td>\n      <td>0.022</td>\n      <td>New Mexico</td>\n      <td>New Mexico with below-average population and b...</td>\n      <td>In the recent Presidential election, New Mexic...</td>\n      <td>In the recent Presidential election, despite h...</td>\n      <td>During the election for the Presidency, New Me...</td>\n      <td>New Mexico, a state with a population and Blac...</td>\n    </tr>\n    <tr>\n      <th>31</th>\n      <td>36</td>\n      <td>23628065</td>\n      <td>0.232399</td>\n      <td>0.169437</td>\n      <td>0.696365</td>\n      <td>0.175861</td>\n      <td>0.026508</td>\n      <td>0.807179</td>\n      <td>0.192821</td>\n      <td>0.257</td>\n      <td>...</td>\n      <td>0.561</td>\n      <td>0.609</td>\n      <td>0.377</td>\n      <td>0.014</td>\n      <td>New York</td>\n      <td>New York with one of the largest populations a...</td>\n      <td>New York, one of the most populous cities in t...</td>\n      <td>In the recent Presidential election, New York,...</td>\n      <td>New York, one of the most populated cities wit...</td>\n      <td>In the recent Presidential election, New York,...</td>\n    </tr>\n    <tr>\n      <th>32</th>\n      <td>37</td>\n      <td>10488084</td>\n      <td>0.247179</td>\n      <td>0.166960</td>\n      <td>0.705514</td>\n      <td>0.222211</td>\n      <td>0.023361</td>\n      <td>0.902191</td>\n      <td>0.097809</td>\n      <td>0.179</td>\n      <td>...</td>\n      <td>0.542</td>\n      <td>0.486</td>\n      <td>0.499</td>\n      <td>0.015</td>\n      <td>North Carolina</td>\n      <td>North Carolina with above-average population a...</td>\n      <td>In the recent Presidential election, North Car...</td>\n      <td>In the recent Presidential election, North Car...</td>\n      <td>The recent Presidential election saw North Car...</td>\n      <td>North Carolina, which has an above-average pop...</td>\n    </tr>\n    <tr>\n      <th>33</th>\n      <td>38</td>\n      <td>762062</td>\n      <td>0.263465</td>\n      <td>0.157264</td>\n      <td>0.869424</td>\n      <td>0.034097</td>\n      <td>0.023073</td>\n      <td>0.958623</td>\n      <td>0.041377</td>\n      <td>0.122</td>\n      <td>...</td>\n      <td>0.565</td>\n      <td>0.318</td>\n      <td>0.651</td>\n      <td>0.031</td>\n      <td>North Dakota</td>\n      <td>North Dakota with one of the smallest populati...</td>\n      <td>The 2020 Presidential election saw Republicans...</td>\n      <td>In the recent Presidential election, North Dak...</td>\n      <td>In the recent Presidential election, North Dak...</td>\n      <td>In the recent Presidential election, North Dak...</td>\n    </tr>\n    <tr>\n      <th>34</th>\n      <td>39</td>\n      <td>11689100</td>\n      <td>0.246971</td>\n      <td>0.175062</td>\n      <td>0.817235</td>\n      <td>0.130512</td>\n      <td>0.023804</td>\n      <td>0.959752</td>\n      <td>0.040248</td>\n      <td>0.2</td>\n      <td>...</td>\n      <td>0.549</td>\n      <td>0.452</td>\n      <td>0.533</td>\n      <td>0.015</td>\n      <td>Ohio</td>\n      <td>Ohio with above-average population and above-a...</td>\n      <td>In the recent Presidential election, Ohio, whi...</td>\n      <td>In Ohio, where the population and Black demogr...</td>\n      <td>In the recent Presidential election, Ohio, whi...</td>\n      <td>In the recent Presidential election, Ohio, whi...</td>\n    </tr>\n    <tr>\n      <th>35</th>\n      <td>40</td>\n      <td>3956971</td>\n      <td>0.267501</td>\n      <td>0.160510</td>\n      <td>0.739797</td>\n      <td>0.077792</td>\n      <td>0.062639</td>\n      <td>0.889281</td>\n      <td>0.110719</td>\n      <td>0.17</td>\n      <td>...</td>\n      <td>0.509</td>\n      <td>0.323</td>\n      <td>0.654</td>\n      <td>0.023</td>\n      <td>Oklahoma</td>\n      <td>Oklahoma with close to average population with...</td>\n      <td>Oklahoma, whose population size and Black demo...</td>\n      <td>In the recent Presidential election, Oklahoma,...</td>\n      <td>Oklahoma, having a population close to the nat...</td>\n      <td>Oklahoma, with a population that is nearly ave...</td>\n    </tr>\n    <tr>\n      <th>36</th>\n      <td>41</td>\n      <td>4217737</td>\n      <td>0.228909</td>\n      <td>0.181633</td>\n      <td>0.866611</td>\n      <td>0.022225</td>\n      <td>0.039775</td>\n      <td>0.865604</td>\n      <td>0.134396</td>\n      <td>0.208</td>\n      <td>...</td>\n      <td>0.562</td>\n      <td>0.565</td>\n      <td>0.404</td>\n      <td>0.032</td>\n      <td>Oregon</td>\n      <td>Oregon with close to average population and be...</td>\n      <td>Oregon, whose population is nearly equal to th...</td>\n      <td>Oregon, despite having a population close to t...</td>\n      <td>Oregon, despite having a population slightly b...</td>\n      <td>Despite having a population close to the natio...</td>\n    </tr>\n    <tr>\n      <th>37</th>\n      <td>42</td>\n      <td>12801989</td>\n      <td>0.232584</td>\n      <td>0.186952</td>\n      <td>0.816050</td>\n      <td>0.120301</td>\n      <td>0.021268</td>\n      <td>0.921875</td>\n      <td>0.078125</td>\n      <td>0.202</td>\n      <td>...</td>\n      <td>0.578</td>\n      <td>0.500</td>\n      <td>0.488</td>\n      <td>0.011</td>\n      <td>Pennsylvania</td>\n      <td>Pennsylvania with one of the largest populatio...</td>\n      <td>Pennsylvania, boasting one of the largest popu...</td>\n      <td>Pennsylvania, with a population that is one of...</td>\n      <td>In the recent Presidential election, Pennsylva...</td>\n      <td>Pennsylvania, which is home to one of the bigg...</td>\n    </tr>\n    <tr>\n      <th>38</th>\n      <td>44</td>\n      <td>1059361</td>\n      <td>0.225176</td>\n      <td>0.176565</td>\n      <td>0.835898</td>\n      <td>0.085059</td>\n      <td>0.028905</td>\n      <td>0.837030</td>\n      <td>0.162970</td>\n      <td>0.205</td>\n      <td>...</td>\n      <td>0.561</td>\n      <td>0.594</td>\n      <td>0.386</td>\n      <td>0.020</td>\n      <td>Rhode Island</td>\n      <td>Rhode Island with below-average population wit...</td>\n      <td>In the recent Presidential election, Rhode Isl...</td>\n      <td>In the recent Presidential election, Rhode Isl...</td>\n      <td>In the recent Presidential election, Rhode Isl...</td>\n      <td>The recent Presidential election saw Rhode Isl...</td>\n    </tr>\n    <tr>\n      <th>39</th>\n      <td>45</td>\n      <td>5148714</td>\n      <td>0.242359</td>\n      <td>0.181992</td>\n      <td>0.686006</td>\n      <td>0.269585</td>\n      <td>0.019663</td>\n      <td>0.940351</td>\n      <td>0.059649</td>\n      <td>0.188</td>\n      <td>...</td>\n      <td>0.554</td>\n      <td>0.434</td>\n      <td>0.551</td>\n      <td>0.015</td>\n      <td>South Carolina</td>\n      <td>South Carolina with close to average populatio...</td>\n      <td>In the recent Presidential election, South Car...</td>\n      <td>Despite having close to the average population...</td>\n      <td>Despite having a population close to the natio...</td>\n      <td>In the most recent Presidential election, Sout...</td>\n    </tr>\n    <tr>\n      <th>40</th>\n      <td>46</td>\n      <td>884659</td>\n      <td>0.271932</td>\n      <td>0.171672</td>\n      <td>0.845603</td>\n      <td>0.022983</td>\n      <td>0.024605</td>\n      <td>0.957779</td>\n      <td>0.042221</td>\n      <td>0.128</td>\n      <td>...</td>\n      <td>0.615</td>\n      <td>0.356</td>\n      <td>0.618</td>\n      <td>0.026</td>\n      <td>South Dakota</td>\n      <td>South Dakota with one of the smallest populati...</td>\n      <td>In the recent Presidential election, South Dak...</td>\n      <td>South Dakota, with its low population and a su...</td>\n      <td>Despite having one of the smallest populations...</td>\n      <td>South Dakota, with a population among the smal...</td>\n    </tr>\n    <tr>\n      <th>41</th>\n      <td>47</td>\n      <td>6829174</td>\n      <td>0.245647</td>\n      <td>0.167428</td>\n      <td>0.784049</td>\n      <td>0.170513</td>\n      <td>0.020060</td>\n      <td>0.942690</td>\n      <td>0.057310</td>\n      <td>0.195</td>\n      <td>...</td>\n      <td>0.506</td>\n      <td>0.375</td>\n      <td>0.607</td>\n      <td>0.019</td>\n      <td>Tennessee</td>\n      <td>Tennessee with above-average population and ab...</td>\n      <td>In the recent Presidential election, Tennessee...</td>\n      <td>In the recent Presidential election, Tennessee...</td>\n      <td>In the recent Presidential election, Tennessee...</td>\n      <td>In the recent Presidential election, Republica...</td>\n    </tr>\n    <tr>\n      <th>42</th>\n      <td>48</td>\n      <td>28995881</td>\n      <td>0.283164</td>\n      <td>0.128785</td>\n      <td>0.786530</td>\n      <td>0.128957</td>\n      <td>0.020760</td>\n      <td>0.602510</td>\n      <td>0.397490</td>\n      <td>0.159</td>\n      <td>...</td>\n      <td>0.488</td>\n      <td>0.465</td>\n      <td>0.521</td>\n      <td>0.015</td>\n      <td>Texas</td>\n      <td>Texas with one of the largest populations and ...</td>\n      <td>Texas, which has one of the biggest population...</td>\n      <td>In the most recent Presidential election, Repu...</td>\n      <td>Texas had one of the biggest concentrations of...</td>\n      <td>In the recent Presidential election, Texas, wh...</td>\n    </tr>\n    <tr>\n      <th>43</th>\n      <td>49</td>\n      <td>3205958</td>\n      <td>0.320844</td>\n      <td>0.114123</td>\n      <td>0.905855</td>\n      <td>0.014828</td>\n      <td>0.026470</td>\n      <td>0.855877</td>\n      <td>0.144123</td>\n      <td>0.093</td>\n      <td>...</td>\n      <td>0.522</td>\n      <td>0.376</td>\n      <td>0.581</td>\n      <td>0.042</td>\n      <td>Utah</td>\n      <td>Utah with close to average population and one ...</td>\n      <td>In comparison to the national averages, Utah's...</td>\n      <td>In the most recent Presidential election, Utah...</td>\n      <td>The state of Utah, which has a population clos...</td>\n      <td>In the recent Presidential election, Utah, whi...</td>\n    </tr>\n    <tr>\n      <th>44</th>\n      <td>50</td>\n      <td>623989</td>\n      <td>0.215412</td>\n      <td>0.200387</td>\n      <td>0.942488</td>\n      <td>0.014061</td>\n      <td>0.019970</td>\n      <td>0.979617</td>\n      <td>0.020383</td>\n      <td>0.239</td>\n      <td>...</td>\n      <td>0.621</td>\n      <td>0.661</td>\n      <td>0.307</td>\n      <td>0.032</td>\n      <td>Vermont</td>\n      <td>Vermont with one of the smallest populations a...</td>\n      <td>In the recent Presidential election, despite h...</td>\n      <td>Vermont, a state with one of the smallest popu...</td>\n      <td>Vermont, which has one of the lowest populatio...</td>\n      <td>Vermont, having one of the lowest populations ...</td>\n    </tr>\n    <tr>\n      <th>45</th>\n      <td>51</td>\n      <td>8535519</td>\n      <td>0.244558</td>\n      <td>0.159206</td>\n      <td>0.693883</td>\n      <td>0.198806</td>\n      <td>0.031581</td>\n      <td>0.902241</td>\n      <td>0.097759</td>\n      <td>0.135</td>\n      <td>...</td>\n      <td>0.569</td>\n      <td>0.541</td>\n      <td>0.440</td>\n      <td>0.019</td>\n      <td>Virginia</td>\n      <td>Virginia with above-average population and abo...</td>\n      <td>In the recent Presidential election, Virginia,...</td>\n      <td>In Virginia, a state with a population and Bla...</td>\n      <td>Virginia, which has an above-average populatio...</td>\n      <td>Virginia, which has an above-average populatio...</td>\n    </tr>\n    <tr>\n      <th>46</th>\n      <td>53</td>\n      <td>7614893</td>\n      <td>0.241672</td>\n      <td>0.158863</td>\n      <td>0.785001</td>\n      <td>0.043589</td>\n      <td>0.048607</td>\n      <td>0.869766</td>\n      <td>0.130234</td>\n      <td>0.198</td>\n      <td>...</td>\n      <td>0.568</td>\n      <td>0.580</td>\n      <td>0.388</td>\n      <td>0.033</td>\n      <td>Washington</td>\n      <td>Washington with above-average population and b...</td>\n      <td>In the recent Presidential election, Washingto...</td>\n      <td>The recent Presidential election saw Washingto...</td>\n      <td>At the most recent Presidential election, Wash...</td>\n      <td>In the recent Presidential election, Washingto...</td>\n    </tr>\n    <tr>\n      <th>47</th>\n      <td>54</td>\n      <td>1792147</td>\n      <td>0.224576</td>\n      <td>0.204788</td>\n      <td>0.934701</td>\n      <td>0.036052</td>\n      <td>0.018189</td>\n      <td>0.982612</td>\n      <td>0.017388</td>\n      <td>0.266</td>\n      <td>...</td>\n      <td>0.511</td>\n      <td>0.297</td>\n      <td>0.686</td>\n      <td>0.017</td>\n      <td>West Virginia</td>\n      <td>West Virginia with below-average population an...</td>\n      <td>In the recent Presidential election, West Virg...</td>\n      <td>West Virginia, with a population and Black dem...</td>\n      <td>In the last Presidential election, West Virgin...</td>\n      <td>In the most recent Presidential election, West...</td>\n    </tr>\n    <tr>\n      <th>48</th>\n      <td>55</td>\n      <td>5822434</td>\n      <td>0.244244</td>\n      <td>0.174711</td>\n      <td>0.870389</td>\n      <td>0.067076</td>\n      <td>0.020058</td>\n      <td>0.929032</td>\n      <td>0.070968</td>\n      <td>0.161</td>\n      <td>...</td>\n      <td>0.593</td>\n      <td>0.494</td>\n      <td>0.488</td>\n      <td>0.017</td>\n      <td>Wisconsin</td>\n      <td>Wisconsin with above-average population with c...</td>\n      <td>In the recent Presidential election, Wisconsin...</td>\n      <td>In the recent Presidential election, Wisconsin...</td>\n      <td>In the most recent Presidential election, Repu...</td>\n      <td>In the last Presidential election, Wisconsin, ...</td>\n    </tr>\n    <tr>\n      <th>49</th>\n      <td>56</td>\n      <td>578759</td>\n      <td>0.256017</td>\n      <td>0.171365</td>\n      <td>0.925033</td>\n      <td>0.012902</td>\n      <td>0.022420</td>\n      <td>0.898733</td>\n      <td>0.101267</td>\n      <td>0.115</td>\n      <td>...</td>\n      <td>0.604</td>\n      <td>0.266</td>\n      <td>0.699</td>\n      <td>0.035</td>\n      <td>Wyoming</td>\n      <td>Wyoming with one of the smallest populations a...</td>\n      <td>In the recent Presidential election, Wyoming, ...</td>\n      <td>In the recent Presidential election, Wyoming, ...</td>\n      <td>In Wyoming, which has one of the lowest popula...</td>\n      <td>In spite of having one of the nation's smalles...</td>\n    </tr>\n  </tbody>\n</table>\n<p>50 rows × 32 columns</p>\n</div>"
     },
     "execution_count": 2,
     "metadata": {},
     "output_type": "execute_result"
    }
   ],
   "source": [
    "fips_to_state = dict(zip(dynamic_df['fips'], dynamic_df['state_name']))\n",
    "# state_df['state_name'] = state_df.fips.map(fips_to_state)\n",
    "# new_col_order = ['state_name'] + [col for col in state_df if col != 'state_name']\n",
    "# state_df = state_df[new_col_order]\n",
    "state_df"
   ],
   "metadata": {
    "collapsed": false,
    "ExecuteTime": {
     "end_time": "2023-11-08T15:04:35.096278Z",
     "start_time": "2023-11-08T15:04:35.073456Z"
    }
   },
   "id": "302c965470a51d2d"
  },
  {
   "cell_type": "code",
   "execution_count": 3,
   "outputs": [
    {
     "data": {
      "text/plain": "['Alabama with close to average population and above-average Black demographic, voted for Republicans in the recent Presidential election. During the pandemic, overall healthcare systems performed worse than the national average, with worse than average Access and Affordability, Prevention and Treatment, population health conditions among one of the worst states for Income Disparity. Alabama has worse than average high ICU stress and hospital staffing shortages.',\n 'Massachusetts with above-average population with close to average Black demographic voted for Democratic in the recent Presidential election. During the pandemic, overall healthcare systems performed one of the best, with one of the best Access and Affordability, Prevention and Treatment, one of the best in population health conditions, and one of the best in Income Disparity. Massachusetts has worse than the national average in ICU stress and close to the national average hospital staffing shortages.',\n 'Wyoming with one of the smallest populations and one of the smallest Black demographic, voted for Republicans in the recent Presidential election. During the pandemic, overall healthcare systems performed worse than the national average, with one of the worst Access and Affordability, Prevention and Treatment, worse than the national average in population health conditions, and better than the national average in Income Disparity. Wyoming has one of the best in ICU stress and worse than the national average hospital staffing shortages. ']"
     },
     "execution_count": 3,
     "metadata": {},
     "output_type": "execute_result"
    }
   ],
   "source": [
    "state_df.iloc[[0, 20, -1]].Static_description_v1.tolist()"
   ],
   "metadata": {
    "collapsed": false,
    "ExecuteTime": {
     "end_time": "2023-11-08T15:04:35.097230Z",
     "start_time": "2023-11-08T15:04:35.094116Z"
    }
   },
   "id": "b56d84ad659aa2a0"
  },
  {
   "cell_type": "code",
   "execution_count": 4,
   "outputs": [
    {
     "data": {
      "text/plain": "Index(['fips', 'Population', 'under_20', 'over_65', 'White', 'Black',\n       'Multiple_race', 'Not_Hispanic', 'Hispanic', 'medicaid_coverage',\n       'medicare_coverage', 'uninsured_percent', 'medicaid_spending',\n       'private_health_insurance_spending', 'medicare_spending_by_residence',\n       'health_care_spending', 'healthcare_utilization', 'poor_health_status',\n       'adults_at_high_risk', 'poverty_rate', 'social_vulnerability_index',\n       'Healthcare Access and Quality Index', 'Older_at_high_risk',\n       'dem_percent', 'rep_percent', 'other_percent', 'State',\n       'Static_description_v1', 'Static_description_v2',\n       'Static_description_v3', 'Static_description_v4',\n       'Static_description_v5'],\n      dtype='object')"
     },
     "execution_count": 4,
     "metadata": {},
     "output_type": "execute_result"
    }
   ],
   "source": [
    "state_df.columns"
   ],
   "metadata": {
    "collapsed": false,
    "ExecuteTime": {
     "end_time": "2023-11-08T15:04:35.099314Z",
     "start_time": "2023-11-08T15:04:35.097333Z"
    }
   },
   "id": "c1637c81fdecd143"
  },
  {
   "cell_type": "code",
   "execution_count": 5,
   "outputs": [
    {
     "data": {
      "text/plain": "     state_name fips                   Week  Week_start    Week_end  \\\n0       Alabama   01  2020-12-14/2020-12-20  2020-12-14  2020-12-20   \n1       Alabama   01  2020-12-21/2020-12-27  2020-12-21  2020-12-27   \n2       Alabama   01  2020-12-28/2021-01-03  2020-12-28  2021-01-03   \n3       Alabama   01  2021-01-04/2021-01-10  2021-01-04  2021-01-10   \n4       Alabama   01  2021-01-11/2021-01-17  2021-01-11  2021-01-17   \n...         ...  ...                    ...         ...         ...   \n5295    Wyoming   56  2022-11-21/2022-11-27  2022-11-21  2022-11-27   \n5296    Wyoming   56  2022-11-28/2022-12-04  2022-11-28  2022-12-04   \n5297    Wyoming   56  2022-12-05/2022-12-11  2022-12-05  2022-12-11   \n5298    Wyoming   56  2022-12-12/2022-12-18  2022-12-12  2022-12-18   \n5299    Wyoming   56  2022-12-19/2022-12-25  2022-12-19  2022-12-25   \n\n      hospitalization_per_100k  Change  reported_cases_per_100k  \\\n0                         54.9    35.8                    547.0   \n1                         58.1    21.5                    472.7   \n2                         61.2    14.2                    536.5   \n3                         61.6     6.1                    611.2   \n4                         55.1    -8.6                    422.1   \n...                        ...     ...                      ...   \n5295                      10.5    38.6                    101.6   \n5296                      10.5    27.1                     86.2   \n5297                       8.1   -11.9                    133.0   \n5298                       6.0   -37.9                     86.9   \n5299                       6.0   -26.6                     66.2   \n\n      previous_infection_12w  Dose1_Pop_Pct  ...  Risk_level_3w  \\\n0                        3.5            0.0  ...           High   \n1                        3.8            0.0  ...           High   \n2                        4.2            0.0  ...           High   \n3                        4.7            0.0  ...           High   \n4                        4.9            0.0  ...           High   \n...                      ...            ...  ...            ...   \n5295                     1.0           60.4  ...            low   \n5296                     1.0           60.5  ...            low   \n5297                     1.0           60.5  ...            low   \n5298                     1.0           60.6  ...            low   \n5299                     1.0           60.7  ...            low   \n\n      Risk_level_4w                   Trend                Trend_1w  \\\n0              High  Substantial Increasing  Substantial Increasing   \n1              High  Substantial Increasing     Moderate Increasing   \n2              High     Moderate Increasing                  Stable   \n3              High                  Stable                  Stable   \n4              High                  Stable  Substantial Decreasing   \n...             ...                     ...                     ...   \n5295            low  Substantial Increasing  Substantial Increasing   \n5296            low  Substantial Increasing     Moderate Decreasing   \n5297            low     Moderate Decreasing  Substantial Decreasing   \n5298            low  Substantial Decreasing  Substantial Decreasing   \n5299            low  Substantial Decreasing  Substantial Decreasing   \n\n                    Trend_2w                Trend_3w                Trend_4w  \\\n0        Moderate Increasing                  Stable                  Stable   \n1                     Stable                  Stable  Substantial Decreasing   \n2                     Stable  Substantial Decreasing  Substantial Decreasing   \n3     Substantial Decreasing  Substantial Decreasing  Substantial Decreasing   \n4     Substantial Decreasing  Substantial Decreasing  Substantial Decreasing   \n...                      ...                     ...                     ...   \n5295     Moderate Decreasing  Substantial Decreasing  Substantial Decreasing   \n5296  Substantial Decreasing  Substantial Decreasing  Substantial Decreasing   \n5297  Substantial Decreasing  Substantial Decreasing  Substantial Decreasing   \n5298  Substantial Decreasing  Substantial Decreasing                  Stable   \n5299  Substantial Decreasing                  Stable     Moderate Decreasing   \n\n                                         Vaccine_prompt  \\\n0     To date, 0% of population got at least one vac...   \n1     To date, 0% of population got at least one vac...   \n2     To date, 0% of population got at least one vac...   \n3     To date, 0% of population got at least one vac...   \n4     To date, 0% of population got at least one vac...   \n...                                                 ...   \n5295  To date, 60% of population got at least one va...   \n5296  To date, 60% of population got at least one va...   \n5297  To date, 60% of population got at least one va...   \n5298  To date, 60% of population got at least one va...   \n5299  To date, 60% of population got at least one va...   \n\n                              Previous_infection_prompt  \\\n0     Around 3.5% of the population reported infecti...   \n1     Around 3.8% of the population reported infecti...   \n2     Around 4.2% of the population reported infecti...   \n3     Around 4.7% of the population reported infecti...   \n4     Around 4.9% of the population reported infecti...   \n...                                                 ...   \n5295  Around 1.0% of the population reported infecti...   \n5296  Around 1.0% of the population reported infecti...   \n5297  Around 1.0% of the population reported infecti...   \n5298  Around 1.0% of the population reported infecti...   \n5299  Around 1.0% of the population reported infecti...   \n\n                                          policy_prompt  \n0     Require closing some for school policy, recomm...  \n1     Require closing some for school policy, recomm...  \n2     Require closing some for school policy, recomm...  \n3     Require closing some for school policy, recomm...  \n4     Require closing some for school policy, recomm...  \n...                                                 ...  \n5295  No restrictions for school policy, no restrict...  \n5296  No restrictions for school policy, no restrict...  \n5297  No restrictions for school policy, no restrict...  \n5298  No restrictions for school policy, no restrict...  \n5299  No restrictions for school policy, no restrict...  \n\n[5300 rows x 38 columns]",
      "text/html": "<div>\n<style scoped>\n    .dataframe tbody tr th:only-of-type {\n        vertical-align: middle;\n    }\n\n    .dataframe tbody tr th {\n        vertical-align: top;\n    }\n\n    .dataframe thead th {\n        text-align: right;\n    }\n</style>\n<table border=\"1\" class=\"dataframe\">\n  <thead>\n    <tr style=\"text-align: right;\">\n      <th></th>\n      <th>state_name</th>\n      <th>fips</th>\n      <th>Week</th>\n      <th>Week_start</th>\n      <th>Week_end</th>\n      <th>hospitalization_per_100k</th>\n      <th>Change</th>\n      <th>reported_cases_per_100k</th>\n      <th>previous_infection_12w</th>\n      <th>Dose1_Pop_Pct</th>\n      <th>...</th>\n      <th>Risk_level_3w</th>\n      <th>Risk_level_4w</th>\n      <th>Trend</th>\n      <th>Trend_1w</th>\n      <th>Trend_2w</th>\n      <th>Trend_3w</th>\n      <th>Trend_4w</th>\n      <th>Vaccine_prompt</th>\n      <th>Previous_infection_prompt</th>\n      <th>policy_prompt</th>\n    </tr>\n  </thead>\n  <tbody>\n    <tr>\n      <th>0</th>\n      <td>Alabama</td>\n      <td>01</td>\n      <td>2020-12-14/2020-12-20</td>\n      <td>2020-12-14</td>\n      <td>2020-12-20</td>\n      <td>54.9</td>\n      <td>35.8</td>\n      <td>547.0</td>\n      <td>3.5</td>\n      <td>0.0</td>\n      <td>...</td>\n      <td>High</td>\n      <td>High</td>\n      <td>Substantial Increasing</td>\n      <td>Substantial Increasing</td>\n      <td>Moderate Increasing</td>\n      <td>Stable</td>\n      <td>Stable</td>\n      <td>To date, 0% of population got at least one vac...</td>\n      <td>Around 3.5% of the population reported infecti...</td>\n      <td>Require closing some for school policy, recomm...</td>\n    </tr>\n    <tr>\n      <th>1</th>\n      <td>Alabama</td>\n      <td>01</td>\n      <td>2020-12-21/2020-12-27</td>\n      <td>2020-12-21</td>\n      <td>2020-12-27</td>\n      <td>58.1</td>\n      <td>21.5</td>\n      <td>472.7</td>\n      <td>3.8</td>\n      <td>0.0</td>\n      <td>...</td>\n      <td>High</td>\n      <td>High</td>\n      <td>Substantial Increasing</td>\n      <td>Moderate Increasing</td>\n      <td>Stable</td>\n      <td>Stable</td>\n      <td>Substantial Decreasing</td>\n      <td>To date, 0% of population got at least one vac...</td>\n      <td>Around 3.8% of the population reported infecti...</td>\n      <td>Require closing some for school policy, recomm...</td>\n    </tr>\n    <tr>\n      <th>2</th>\n      <td>Alabama</td>\n      <td>01</td>\n      <td>2020-12-28/2021-01-03</td>\n      <td>2020-12-28</td>\n      <td>2021-01-03</td>\n      <td>61.2</td>\n      <td>14.2</td>\n      <td>536.5</td>\n      <td>4.2</td>\n      <td>0.0</td>\n      <td>...</td>\n      <td>High</td>\n      <td>High</td>\n      <td>Moderate Increasing</td>\n      <td>Stable</td>\n      <td>Stable</td>\n      <td>Substantial Decreasing</td>\n      <td>Substantial Decreasing</td>\n      <td>To date, 0% of population got at least one vac...</td>\n      <td>Around 4.2% of the population reported infecti...</td>\n      <td>Require closing some for school policy, recomm...</td>\n    </tr>\n    <tr>\n      <th>3</th>\n      <td>Alabama</td>\n      <td>01</td>\n      <td>2021-01-04/2021-01-10</td>\n      <td>2021-01-04</td>\n      <td>2021-01-10</td>\n      <td>61.6</td>\n      <td>6.1</td>\n      <td>611.2</td>\n      <td>4.7</td>\n      <td>0.0</td>\n      <td>...</td>\n      <td>High</td>\n      <td>High</td>\n      <td>Stable</td>\n      <td>Stable</td>\n      <td>Substantial Decreasing</td>\n      <td>Substantial Decreasing</td>\n      <td>Substantial Decreasing</td>\n      <td>To date, 0% of population got at least one vac...</td>\n      <td>Around 4.7% of the population reported infecti...</td>\n      <td>Require closing some for school policy, recomm...</td>\n    </tr>\n    <tr>\n      <th>4</th>\n      <td>Alabama</td>\n      <td>01</td>\n      <td>2021-01-11/2021-01-17</td>\n      <td>2021-01-11</td>\n      <td>2021-01-17</td>\n      <td>55.1</td>\n      <td>-8.6</td>\n      <td>422.1</td>\n      <td>4.9</td>\n      <td>0.0</td>\n      <td>...</td>\n      <td>High</td>\n      <td>High</td>\n      <td>Stable</td>\n      <td>Substantial Decreasing</td>\n      <td>Substantial Decreasing</td>\n      <td>Substantial Decreasing</td>\n      <td>Substantial Decreasing</td>\n      <td>To date, 0% of population got at least one vac...</td>\n      <td>Around 4.9% of the population reported infecti...</td>\n      <td>Require closing some for school policy, recomm...</td>\n    </tr>\n    <tr>\n      <th>...</th>\n      <td>...</td>\n      <td>...</td>\n      <td>...</td>\n      <td>...</td>\n      <td>...</td>\n      <td>...</td>\n      <td>...</td>\n      <td>...</td>\n      <td>...</td>\n      <td>...</td>\n      <td>...</td>\n      <td>...</td>\n      <td>...</td>\n      <td>...</td>\n      <td>...</td>\n      <td>...</td>\n      <td>...</td>\n      <td>...</td>\n      <td>...</td>\n      <td>...</td>\n      <td>...</td>\n    </tr>\n    <tr>\n      <th>5295</th>\n      <td>Wyoming</td>\n      <td>56</td>\n      <td>2022-11-21/2022-11-27</td>\n      <td>2022-11-21</td>\n      <td>2022-11-27</td>\n      <td>10.5</td>\n      <td>38.6</td>\n      <td>101.6</td>\n      <td>1.0</td>\n      <td>60.4</td>\n      <td>...</td>\n      <td>low</td>\n      <td>low</td>\n      <td>Substantial Increasing</td>\n      <td>Substantial Increasing</td>\n      <td>Moderate Decreasing</td>\n      <td>Substantial Decreasing</td>\n      <td>Substantial Decreasing</td>\n      <td>To date, 60% of population got at least one va...</td>\n      <td>Around 1.0% of the population reported infecti...</td>\n      <td>No restrictions for school policy, no restrict...</td>\n    </tr>\n    <tr>\n      <th>5296</th>\n      <td>Wyoming</td>\n      <td>56</td>\n      <td>2022-11-28/2022-12-04</td>\n      <td>2022-11-28</td>\n      <td>2022-12-04</td>\n      <td>10.5</td>\n      <td>27.1</td>\n      <td>86.2</td>\n      <td>1.0</td>\n      <td>60.5</td>\n      <td>...</td>\n      <td>low</td>\n      <td>low</td>\n      <td>Substantial Increasing</td>\n      <td>Moderate Decreasing</td>\n      <td>Substantial Decreasing</td>\n      <td>Substantial Decreasing</td>\n      <td>Substantial Decreasing</td>\n      <td>To date, 60% of population got at least one va...</td>\n      <td>Around 1.0% of the population reported infecti...</td>\n      <td>No restrictions for school policy, no restrict...</td>\n    </tr>\n    <tr>\n      <th>5297</th>\n      <td>Wyoming</td>\n      <td>56</td>\n      <td>2022-12-05/2022-12-11</td>\n      <td>2022-12-05</td>\n      <td>2022-12-11</td>\n      <td>8.1</td>\n      <td>-11.9</td>\n      <td>133.0</td>\n      <td>1.0</td>\n      <td>60.5</td>\n      <td>...</td>\n      <td>low</td>\n      <td>low</td>\n      <td>Moderate Decreasing</td>\n      <td>Substantial Decreasing</td>\n      <td>Substantial Decreasing</td>\n      <td>Substantial Decreasing</td>\n      <td>Substantial Decreasing</td>\n      <td>To date, 60% of population got at least one va...</td>\n      <td>Around 1.0% of the population reported infecti...</td>\n      <td>No restrictions for school policy, no restrict...</td>\n    </tr>\n    <tr>\n      <th>5298</th>\n      <td>Wyoming</td>\n      <td>56</td>\n      <td>2022-12-12/2022-12-18</td>\n      <td>2022-12-12</td>\n      <td>2022-12-18</td>\n      <td>6.0</td>\n      <td>-37.9</td>\n      <td>86.9</td>\n      <td>1.0</td>\n      <td>60.6</td>\n      <td>...</td>\n      <td>low</td>\n      <td>low</td>\n      <td>Substantial Decreasing</td>\n      <td>Substantial Decreasing</td>\n      <td>Substantial Decreasing</td>\n      <td>Substantial Decreasing</td>\n      <td>Stable</td>\n      <td>To date, 60% of population got at least one va...</td>\n      <td>Around 1.0% of the population reported infecti...</td>\n      <td>No restrictions for school policy, no restrict...</td>\n    </tr>\n    <tr>\n      <th>5299</th>\n      <td>Wyoming</td>\n      <td>56</td>\n      <td>2022-12-19/2022-12-25</td>\n      <td>2022-12-19</td>\n      <td>2022-12-25</td>\n      <td>6.0</td>\n      <td>-26.6</td>\n      <td>66.2</td>\n      <td>1.0</td>\n      <td>60.7</td>\n      <td>...</td>\n      <td>low</td>\n      <td>low</td>\n      <td>Substantial Decreasing</td>\n      <td>Substantial Decreasing</td>\n      <td>Substantial Decreasing</td>\n      <td>Stable</td>\n      <td>Moderate Decreasing</td>\n      <td>To date, 60% of population got at least one va...</td>\n      <td>Around 1.0% of the population reported infecti...</td>\n      <td>No restrictions for school policy, no restrict...</td>\n    </tr>\n  </tbody>\n</table>\n<p>5300 rows × 38 columns</p>\n</div>"
     },
     "execution_count": 5,
     "metadata": {},
     "output_type": "execute_result"
    }
   ],
   "source": [
    "dynamic_df"
   ],
   "metadata": {
    "collapsed": false,
    "ExecuteTime": {
     "end_time": "2023-11-08T15:04:35.113880Z",
     "start_time": "2023-11-08T15:04:35.101423Z"
    }
   },
   "id": "5358d6d27bce8c16"
  },
  {
   "cell_type": "code",
   "execution_count": 6,
   "outputs": [
    {
     "data": {
      "text/plain": "Index(['state_name', 'fips', 'Week', 'Week_start', 'Week_end',\n       'hospitalization_per_100k', 'Change', 'reported_cases_per_100k',\n       'previous_infection_12w', 'Dose1_Pop_Pct', 'Series_Complete_Pop_Pct',\n       'Additional_Doses_Vax_Pct', 'C1M_School closing',\n       'C2M_Workplace closing', 'C3M_Cancel public events',\n       'C4M_Restrictions on gatherings', 'C6M_Stay at home requirements',\n       'C7M_Restrictions on internal movement',\n       'C8NV_International travel controls',\n       'C8V_International travel controls', 'H1_Public information campaigns',\n       'H2_Testing policy', 'H3_Contact tracing', 'H6M_Facial Coverings',\n       'H8M_Protection of elderly people', 'Risk_level', 'Risk_level_1w',\n       'Risk_level_2w', 'Risk_level_3w', 'Risk_level_4w', 'Trend', 'Trend_1w',\n       'Trend_2w', 'Trend_3w', 'Trend_4w', 'Vaccine_prompt',\n       'Previous_infection_prompt', 'policy_prompt'],\n      dtype='object')"
     },
     "execution_count": 6,
     "metadata": {},
     "output_type": "execute_result"
    }
   ],
   "source": [
    "dynamic_df.columns"
   ],
   "metadata": {
    "collapsed": false,
    "ExecuteTime": {
     "end_time": "2023-11-08T15:04:35.120037Z",
     "start_time": "2023-11-08T15:04:35.115018Z"
    }
   },
   "id": "53e2213426c2df24"
  },
  {
   "cell_type": "code",
   "execution_count": 7,
   "outputs": [],
   "source": [
    "# ! Round floats\n",
    "state_df[state_df.select_dtypes(include=['float64']).columns] = state_df.select_dtypes(include=['float64']).round(2)\n",
    "dynamic_df[dynamic_df.select_dtypes(include=['float64']).columns] = dynamic_df.select_dtypes(include=['float64']).round(\n",
    "    2)"
   ],
   "metadata": {
    "collapsed": false,
    "ExecuteTime": {
     "end_time": "2023-11-08T15:04:35.142150Z",
     "start_time": "2023-11-08T15:04:35.121249Z"
    }
   },
   "id": "556f1088f0dc6b10"
  },
  {
   "cell_type": "code",
   "execution_count": 8,
   "outputs": [
    {
     "data": {
      "text/plain": "     state_name fips                   Week  Week_start    Week_end  \\\n0       Alabama   01  2020-12-14/2020-12-20  2020-12-14  2020-12-20   \n1       Alabama   01  2020-12-21/2020-12-27  2020-12-21  2020-12-27   \n2       Alabama   01  2020-12-28/2021-01-03  2020-12-28  2021-01-03   \n3       Alabama   01  2021-01-04/2021-01-10  2021-01-04  2021-01-10   \n4       Alabama   01  2021-01-11/2021-01-17  2021-01-11  2021-01-17   \n...         ...  ...                    ...         ...         ...   \n5295    Wyoming   56  2022-11-21/2022-11-27  2022-11-21  2022-11-27   \n5296    Wyoming   56  2022-11-28/2022-12-04  2022-11-28  2022-12-04   \n5297    Wyoming   56  2022-12-05/2022-12-11  2022-12-05  2022-12-11   \n5298    Wyoming   56  2022-12-12/2022-12-18  2022-12-12  2022-12-18   \n5299    Wyoming   56  2022-12-19/2022-12-25  2022-12-19  2022-12-25   \n\n      hospitalization_per_100k  Change  reported_cases_per_100k  \\\n0                         54.9    35.8                    547.0   \n1                         58.1    21.5                    472.7   \n2                         61.2    14.2                    536.5   \n3                         61.6     6.1                    611.2   \n4                         55.1    -8.6                    422.1   \n...                        ...     ...                      ...   \n5295                      10.5    38.6                    101.6   \n5296                      10.5    27.1                     86.2   \n5297                       8.1   -11.9                    133.0   \n5298                       6.0   -37.9                     86.9   \n5299                       6.0   -26.6                     66.2   \n\n      previous_infection_12w  Dose1_Pop_Pct  ...                   Trend  \\\n0                        3.5            0.0  ...  Substantial Increasing   \n1                        3.8            0.0  ...  Substantial Increasing   \n2                        4.2            0.0  ...     Moderate Increasing   \n3                        4.7            0.0  ...                  Stable   \n4                        4.9            0.0  ...                  Stable   \n...                      ...            ...  ...                     ...   \n5295                     1.0           60.4  ...  Substantial Increasing   \n5296                     1.0           60.5  ...  Substantial Increasing   \n5297                     1.0           60.5  ...     Moderate Decreasing   \n5298                     1.0           60.6  ...  Substantial Decreasing   \n5299                     1.0           60.7  ...  Substantial Decreasing   \n\n                    Trend_1w                Trend_2w                Trend_3w  \\\n0     Substantial Increasing     Moderate Increasing                  Stable   \n1        Moderate Increasing                  Stable                  Stable   \n2                     Stable                  Stable  Substantial Decreasing   \n3                     Stable  Substantial Decreasing  Substantial Decreasing   \n4     Substantial Decreasing  Substantial Decreasing  Substantial Decreasing   \n...                      ...                     ...                     ...   \n5295  Substantial Increasing     Moderate Decreasing  Substantial Decreasing   \n5296     Moderate Decreasing  Substantial Decreasing  Substantial Decreasing   \n5297  Substantial Decreasing  Substantial Decreasing  Substantial Decreasing   \n5298  Substantial Decreasing  Substantial Decreasing  Substantial Decreasing   \n5299  Substantial Decreasing  Substantial Decreasing                  Stable   \n\n                    Trend_4w  \\\n0                     Stable   \n1     Substantial Decreasing   \n2     Substantial Decreasing   \n3     Substantial Decreasing   \n4     Substantial Decreasing   \n...                      ...   \n5295  Substantial Decreasing   \n5296  Substantial Decreasing   \n5297  Substantial Decreasing   \n5298                  Stable   \n5299     Moderate Decreasing   \n\n                                         Vaccine_prompt  \\\n0     To date, 0% of population got at least one vac...   \n1     To date, 0% of population got at least one vac...   \n2     To date, 0% of population got at least one vac...   \n3     To date, 0% of population got at least one vac...   \n4     To date, 0% of population got at least one vac...   \n...                                                 ...   \n5295  To date, 60% of population got at least one va...   \n5296  To date, 60% of population got at least one va...   \n5297  To date, 60% of population got at least one va...   \n5298  To date, 60% of population got at least one va...   \n5299  To date, 60% of population got at least one va...   \n\n                              Previous_infection_prompt  \\\n0     Around 3.5% of the population reported infecti...   \n1     Around 3.8% of the population reported infecti...   \n2     Around 4.2% of the population reported infecti...   \n3     Around 4.7% of the population reported infecti...   \n4     Around 4.9% of the population reported infecti...   \n...                                                 ...   \n5295  Around 1.0% of the population reported infecti...   \n5296  Around 1.0% of the population reported infecti...   \n5297  Around 1.0% of the population reported infecti...   \n5298  Around 1.0% of the population reported infecti...   \n5299  Around 1.0% of the population reported infecti...   \n\n                                          policy_prompt week_id           uid  \n0     Require closing some for school policy, recomm...       0    Alabama-W0  \n1     Require closing some for school policy, recomm...       1    Alabama-W1  \n2     Require closing some for school policy, recomm...       2    Alabama-W2  \n3     Require closing some for school policy, recomm...       3    Alabama-W3  \n4     Require closing some for school policy, recomm...       4    Alabama-W4  \n...                                                 ...     ...           ...  \n5295  No restrictions for school policy, no restrict...     101  Wyoming-W101  \n5296  No restrictions for school policy, no restrict...     102  Wyoming-W102  \n5297  No restrictions for school policy, no restrict...     103  Wyoming-W103  \n5298  No restrictions for school policy, no restrict...     104  Wyoming-W104  \n5299  No restrictions for school policy, no restrict...     105  Wyoming-W105  \n\n[5300 rows x 40 columns]",
      "text/html": "<div>\n<style scoped>\n    .dataframe tbody tr th:only-of-type {\n        vertical-align: middle;\n    }\n\n    .dataframe tbody tr th {\n        vertical-align: top;\n    }\n\n    .dataframe thead th {\n        text-align: right;\n    }\n</style>\n<table border=\"1\" class=\"dataframe\">\n  <thead>\n    <tr style=\"text-align: right;\">\n      <th></th>\n      <th>state_name</th>\n      <th>fips</th>\n      <th>Week</th>\n      <th>Week_start</th>\n      <th>Week_end</th>\n      <th>hospitalization_per_100k</th>\n      <th>Change</th>\n      <th>reported_cases_per_100k</th>\n      <th>previous_infection_12w</th>\n      <th>Dose1_Pop_Pct</th>\n      <th>...</th>\n      <th>Trend</th>\n      <th>Trend_1w</th>\n      <th>Trend_2w</th>\n      <th>Trend_3w</th>\n      <th>Trend_4w</th>\n      <th>Vaccine_prompt</th>\n      <th>Previous_infection_prompt</th>\n      <th>policy_prompt</th>\n      <th>week_id</th>\n      <th>uid</th>\n    </tr>\n  </thead>\n  <tbody>\n    <tr>\n      <th>0</th>\n      <td>Alabama</td>\n      <td>01</td>\n      <td>2020-12-14/2020-12-20</td>\n      <td>2020-12-14</td>\n      <td>2020-12-20</td>\n      <td>54.9</td>\n      <td>35.8</td>\n      <td>547.0</td>\n      <td>3.5</td>\n      <td>0.0</td>\n      <td>...</td>\n      <td>Substantial Increasing</td>\n      <td>Substantial Increasing</td>\n      <td>Moderate Increasing</td>\n      <td>Stable</td>\n      <td>Stable</td>\n      <td>To date, 0% of population got at least one vac...</td>\n      <td>Around 3.5% of the population reported infecti...</td>\n      <td>Require closing some for school policy, recomm...</td>\n      <td>0</td>\n      <td>Alabama-W0</td>\n    </tr>\n    <tr>\n      <th>1</th>\n      <td>Alabama</td>\n      <td>01</td>\n      <td>2020-12-21/2020-12-27</td>\n      <td>2020-12-21</td>\n      <td>2020-12-27</td>\n      <td>58.1</td>\n      <td>21.5</td>\n      <td>472.7</td>\n      <td>3.8</td>\n      <td>0.0</td>\n      <td>...</td>\n      <td>Substantial Increasing</td>\n      <td>Moderate Increasing</td>\n      <td>Stable</td>\n      <td>Stable</td>\n      <td>Substantial Decreasing</td>\n      <td>To date, 0% of population got at least one vac...</td>\n      <td>Around 3.8% of the population reported infecti...</td>\n      <td>Require closing some for school policy, recomm...</td>\n      <td>1</td>\n      <td>Alabama-W1</td>\n    </tr>\n    <tr>\n      <th>2</th>\n      <td>Alabama</td>\n      <td>01</td>\n      <td>2020-12-28/2021-01-03</td>\n      <td>2020-12-28</td>\n      <td>2021-01-03</td>\n      <td>61.2</td>\n      <td>14.2</td>\n      <td>536.5</td>\n      <td>4.2</td>\n      <td>0.0</td>\n      <td>...</td>\n      <td>Moderate Increasing</td>\n      <td>Stable</td>\n      <td>Stable</td>\n      <td>Substantial Decreasing</td>\n      <td>Substantial Decreasing</td>\n      <td>To date, 0% of population got at least one vac...</td>\n      <td>Around 4.2% of the population reported infecti...</td>\n      <td>Require closing some for school policy, recomm...</td>\n      <td>2</td>\n      <td>Alabama-W2</td>\n    </tr>\n    <tr>\n      <th>3</th>\n      <td>Alabama</td>\n      <td>01</td>\n      <td>2021-01-04/2021-01-10</td>\n      <td>2021-01-04</td>\n      <td>2021-01-10</td>\n      <td>61.6</td>\n      <td>6.1</td>\n      <td>611.2</td>\n      <td>4.7</td>\n      <td>0.0</td>\n      <td>...</td>\n      <td>Stable</td>\n      <td>Stable</td>\n      <td>Substantial Decreasing</td>\n      <td>Substantial Decreasing</td>\n      <td>Substantial Decreasing</td>\n      <td>To date, 0% of population got at least one vac...</td>\n      <td>Around 4.7% of the population reported infecti...</td>\n      <td>Require closing some for school policy, recomm...</td>\n      <td>3</td>\n      <td>Alabama-W3</td>\n    </tr>\n    <tr>\n      <th>4</th>\n      <td>Alabama</td>\n      <td>01</td>\n      <td>2021-01-11/2021-01-17</td>\n      <td>2021-01-11</td>\n      <td>2021-01-17</td>\n      <td>55.1</td>\n      <td>-8.6</td>\n      <td>422.1</td>\n      <td>4.9</td>\n      <td>0.0</td>\n      <td>...</td>\n      <td>Stable</td>\n      <td>Substantial Decreasing</td>\n      <td>Substantial Decreasing</td>\n      <td>Substantial Decreasing</td>\n      <td>Substantial Decreasing</td>\n      <td>To date, 0% of population got at least one vac...</td>\n      <td>Around 4.9% of the population reported infecti...</td>\n      <td>Require closing some for school policy, recomm...</td>\n      <td>4</td>\n      <td>Alabama-W4</td>\n    </tr>\n    <tr>\n      <th>...</th>\n      <td>...</td>\n      <td>...</td>\n      <td>...</td>\n      <td>...</td>\n      <td>...</td>\n      <td>...</td>\n      <td>...</td>\n      <td>...</td>\n      <td>...</td>\n      <td>...</td>\n      <td>...</td>\n      <td>...</td>\n      <td>...</td>\n      <td>...</td>\n      <td>...</td>\n      <td>...</td>\n      <td>...</td>\n      <td>...</td>\n      <td>...</td>\n      <td>...</td>\n      <td>...</td>\n    </tr>\n    <tr>\n      <th>5295</th>\n      <td>Wyoming</td>\n      <td>56</td>\n      <td>2022-11-21/2022-11-27</td>\n      <td>2022-11-21</td>\n      <td>2022-11-27</td>\n      <td>10.5</td>\n      <td>38.6</td>\n      <td>101.6</td>\n      <td>1.0</td>\n      <td>60.4</td>\n      <td>...</td>\n      <td>Substantial Increasing</td>\n      <td>Substantial Increasing</td>\n      <td>Moderate Decreasing</td>\n      <td>Substantial Decreasing</td>\n      <td>Substantial Decreasing</td>\n      <td>To date, 60% of population got at least one va...</td>\n      <td>Around 1.0% of the population reported infecti...</td>\n      <td>No restrictions for school policy, no restrict...</td>\n      <td>101</td>\n      <td>Wyoming-W101</td>\n    </tr>\n    <tr>\n      <th>5296</th>\n      <td>Wyoming</td>\n      <td>56</td>\n      <td>2022-11-28/2022-12-04</td>\n      <td>2022-11-28</td>\n      <td>2022-12-04</td>\n      <td>10.5</td>\n      <td>27.1</td>\n      <td>86.2</td>\n      <td>1.0</td>\n      <td>60.5</td>\n      <td>...</td>\n      <td>Substantial Increasing</td>\n      <td>Moderate Decreasing</td>\n      <td>Substantial Decreasing</td>\n      <td>Substantial Decreasing</td>\n      <td>Substantial Decreasing</td>\n      <td>To date, 60% of population got at least one va...</td>\n      <td>Around 1.0% of the population reported infecti...</td>\n      <td>No restrictions for school policy, no restrict...</td>\n      <td>102</td>\n      <td>Wyoming-W102</td>\n    </tr>\n    <tr>\n      <th>5297</th>\n      <td>Wyoming</td>\n      <td>56</td>\n      <td>2022-12-05/2022-12-11</td>\n      <td>2022-12-05</td>\n      <td>2022-12-11</td>\n      <td>8.1</td>\n      <td>-11.9</td>\n      <td>133.0</td>\n      <td>1.0</td>\n      <td>60.5</td>\n      <td>...</td>\n      <td>Moderate Decreasing</td>\n      <td>Substantial Decreasing</td>\n      <td>Substantial Decreasing</td>\n      <td>Substantial Decreasing</td>\n      <td>Substantial Decreasing</td>\n      <td>To date, 60% of population got at least one va...</td>\n      <td>Around 1.0% of the population reported infecti...</td>\n      <td>No restrictions for school policy, no restrict...</td>\n      <td>103</td>\n      <td>Wyoming-W103</td>\n    </tr>\n    <tr>\n      <th>5298</th>\n      <td>Wyoming</td>\n      <td>56</td>\n      <td>2022-12-12/2022-12-18</td>\n      <td>2022-12-12</td>\n      <td>2022-12-18</td>\n      <td>6.0</td>\n      <td>-37.9</td>\n      <td>86.9</td>\n      <td>1.0</td>\n      <td>60.6</td>\n      <td>...</td>\n      <td>Substantial Decreasing</td>\n      <td>Substantial Decreasing</td>\n      <td>Substantial Decreasing</td>\n      <td>Substantial Decreasing</td>\n      <td>Stable</td>\n      <td>To date, 60% of population got at least one va...</td>\n      <td>Around 1.0% of the population reported infecti...</td>\n      <td>No restrictions for school policy, no restrict...</td>\n      <td>104</td>\n      <td>Wyoming-W104</td>\n    </tr>\n    <tr>\n      <th>5299</th>\n      <td>Wyoming</td>\n      <td>56</td>\n      <td>2022-12-19/2022-12-25</td>\n      <td>2022-12-19</td>\n      <td>2022-12-25</td>\n      <td>6.0</td>\n      <td>-26.6</td>\n      <td>66.2</td>\n      <td>1.0</td>\n      <td>60.7</td>\n      <td>...</td>\n      <td>Substantial Decreasing</td>\n      <td>Substantial Decreasing</td>\n      <td>Substantial Decreasing</td>\n      <td>Stable</td>\n      <td>Moderate Decreasing</td>\n      <td>To date, 60% of population got at least one va...</td>\n      <td>Around 1.0% of the population reported infecti...</td>\n      <td>No restrictions for school policy, no restrict...</td>\n      <td>105</td>\n      <td>Wyoming-W105</td>\n    </tr>\n  </tbody>\n</table>\n<p>5300 rows × 40 columns</p>\n</div>"
     },
     "execution_count": 8,
     "metadata": {},
     "output_type": "execute_result"
    }
   ],
   "source": [
    "# ! Add Unique IDs\n",
    "weeks = list(sorted(dynamic_df.Week_start.unique()))\n",
    "week_to_id = {week: index for index, week in enumerate(weeks)}\n",
    "uid_map = lambda x: f'{x.state_name}-W{x.week_id}'\n",
    "dynamic_df['week_id'] = dynamic_df.Week_start.map(week_to_id)\n",
    "dynamic_df['uid'] = dynamic_df.apply(uid_map, axis=1)\n",
    "dynamic_df"
   ],
   "metadata": {
    "collapsed": false,
    "ExecuteTime": {
     "end_time": "2023-11-08T15:04:35.268430Z",
     "start_time": "2023-11-08T15:04:35.125647Z"
    }
   },
   "id": "5e9a7d4d816b4ddf"
  },
  {
   "cell_type": "code",
   "execution_count": 9,
   "outputs": [],
   "source": [
    "# Splitting the dataframe\n",
    "splits = {}\n",
    "df = dynamic_df\n",
    "train_df = df[df['Week_start'] < '2021-10-01']\n",
    "val_df = df[(df['Week_start'] >= '2021-10-01') & (df['Week_start'] < '2022-09-01')]\n",
    "test_df = df[df['Week_start'] >= '2022-09-01']\n",
    "splits['by_time'] = {split: np.array(_df.index.tolist())\n",
    "                     for split, _df in (('train', train_df), ('val', val_df), ('test', test_df))\n",
    "                     }\n"
   ],
   "metadata": {
    "collapsed": false,
    "ExecuteTime": {
     "end_time": "2023-11-08T15:04:35.268731Z",
     "start_time": "2023-11-08T15:04:35.189034Z"
    }
   },
   "id": "ef990beb12b20f63"
  },
  {
   "cell_type": "code",
   "execution_count": 10,
   "outputs": [],
   "source": [
    "from sklearn.model_selection import StratifiedShuffleSplit\n",
    "\n",
    "sss = StratifiedShuffleSplit(n_splits=1, test_size=0.5, random_state=0)\n",
    "train_and_val_df = df[df['Week_start'] < '2022-09-01']\n",
    "remaining_ids = np.random.permutation(np.array(train_and_val_df.index))\n",
    "n_train_samples = int(len(remaining_ids) * 0.8)\n",
    "splits['random'] = {\n",
    "    'train': remaining_ids[: n_train_samples],\n",
    "    'val': remaining_ids[n_train_samples:],\n",
    "    'test': np.array(test_df.index.tolist())\n",
    "}"
   ],
   "metadata": {
    "collapsed": false,
    "ExecuteTime": {
     "end_time": "2023-11-08T15:04:35.269621Z",
     "start_time": "2023-11-08T15:04:35.195995Z"
    }
   },
   "id": "a74cd89d351072ad"
  },
  {
   "cell_type": "code",
   "execution_count": 11,
   "outputs": [
    {
     "data": {
      "text/plain": "  label_type              label_name             label_token\n0      trend  Substantial Increasing  SUBSTANTIAL INCREASING\n1      trend     Moderate Increasing     MODERATE INCREASING\n2      trend                  Stable                  STABLE\n3      trend  Substantial Decreasing  SUBSTANTIAL DECREASING\n4      trend     Moderate Decreasing     MODERATE DECREASING\n5       risk                    High                    HIGH\n6       risk                  medium                  MEDIUM\n7       risk                     low                     LOW",
      "text/html": "<div>\n<style scoped>\n    .dataframe tbody tr th:only-of-type {\n        vertical-align: middle;\n    }\n\n    .dataframe tbody tr th {\n        vertical-align: top;\n    }\n\n    .dataframe thead th {\n        text-align: right;\n    }\n</style>\n<table border=\"1\" class=\"dataframe\">\n  <thead>\n    <tr style=\"text-align: right;\">\n      <th></th>\n      <th>label_type</th>\n      <th>label_name</th>\n      <th>label_token</th>\n    </tr>\n  </thead>\n  <tbody>\n    <tr>\n      <th>0</th>\n      <td>trend</td>\n      <td>Substantial Increasing</td>\n      <td>SUBSTANTIAL INCREASING</td>\n    </tr>\n    <tr>\n      <th>1</th>\n      <td>trend</td>\n      <td>Moderate Increasing</td>\n      <td>MODERATE INCREASING</td>\n    </tr>\n    <tr>\n      <th>2</th>\n      <td>trend</td>\n      <td>Stable</td>\n      <td>STABLE</td>\n    </tr>\n    <tr>\n      <th>3</th>\n      <td>trend</td>\n      <td>Substantial Decreasing</td>\n      <td>SUBSTANTIAL DECREASING</td>\n    </tr>\n    <tr>\n      <th>4</th>\n      <td>trend</td>\n      <td>Moderate Decreasing</td>\n      <td>MODERATE DECREASING</td>\n    </tr>\n    <tr>\n      <th>5</th>\n      <td>risk</td>\n      <td>High</td>\n      <td>HIGH</td>\n    </tr>\n    <tr>\n      <th>6</th>\n      <td>risk</td>\n      <td>medium</td>\n      <td>MEDIUM</td>\n    </tr>\n    <tr>\n      <th>7</th>\n      <td>risk</td>\n      <td>low</td>\n      <td>LOW</td>\n    </tr>\n  </tbody>\n</table>\n</div>"
     },
     "execution_count": 11,
     "metadata": {},
     "output_type": "execute_result"
    }
   ],
   "source": [
    "label_names = dynamic_df.Trend.unique().tolist() + dynamic_df.Risk_level.unique().tolist()\n",
    "label_types = ['trend'] * len(dynamic_df.Trend.unique()) + ['risk'] * len(dynamic_df.Risk_level.unique())\n",
    "label_info = pd.DataFrame.from_dict(\n",
    "    {\n",
    "        'label_type': label_types,\n",
    "        \"label_name\": label_names,\n",
    "        \"label_token\": [l.upper() for l in label_names],\n",
    "    })\n",
    "label_info"
   ],
   "metadata": {
    "collapsed": false,
    "ExecuteTime": {
     "end_time": "2023-11-08T15:04:35.269854Z",
     "start_time": "2023-11-08T15:04:35.247007Z"
    }
   },
   "id": "753e18cf14b88d2b"
  },
  {
   "cell_type": "code",
   "execution_count": 12,
   "outputs": [
    {
     "data": {
      "text/plain": "     state_name fips                   Week  Week_start    Week_end  \\\n0       Alabama   01  2020-12-14/2020-12-20  2020-12-14  2020-12-20   \n1       Alabama   01  2020-12-21/2020-12-27  2020-12-21  2020-12-27   \n2       Alabama   01  2020-12-28/2021-01-03  2020-12-28  2021-01-03   \n3       Alabama   01  2021-01-04/2021-01-10  2021-01-04  2021-01-10   \n4       Alabama   01  2021-01-11/2021-01-17  2021-01-11  2021-01-17   \n...         ...  ...                    ...         ...         ...   \n5295    Wyoming   56  2022-11-21/2022-11-27  2022-11-21  2022-11-27   \n5296    Wyoming   56  2022-11-28/2022-12-04  2022-11-28  2022-12-04   \n5297    Wyoming   56  2022-12-05/2022-12-11  2022-12-05  2022-12-11   \n5298    Wyoming   56  2022-12-12/2022-12-18  2022-12-12  2022-12-18   \n5299    Wyoming   56  2022-12-19/2022-12-25  2022-12-19  2022-12-25   \n\n      hospitalization_per_100k  Change  reported_cases_per_100k  \\\n0                         54.9    35.8                    547.0   \n1                         58.1    21.5                    472.7   \n2                         61.2    14.2                    536.5   \n3                         61.6     6.1                    611.2   \n4                         55.1    -8.6                    422.1   \n...                        ...     ...                      ...   \n5295                      10.5    38.6                    101.6   \n5296                      10.5    27.1                     86.2   \n5297                       8.1   -11.9                    133.0   \n5298                       6.0   -37.9                     86.9   \n5299                       6.0   -26.6                     66.2   \n\n      previous_infection_12w  Dose1_Pop_Pct  ...      r0      r1    r2    r3  \\\n0                        3.5            0.0  ...    HIGH    HIGH  HIGH  HIGH   \n1                        3.8            0.0  ...    HIGH    HIGH  HIGH  HIGH   \n2                        4.2            0.0  ...    HIGH    HIGH  HIGH  HIGH   \n3                        4.7            0.0  ...    HIGH    HIGH  HIGH  HIGH   \n4                        4.9            0.0  ...    HIGH    HIGH  HIGH  HIGH   \n...                      ...            ...  ...     ...     ...   ...   ...   \n5295                     1.0           60.4  ...  MEDIUM  MEDIUM   LOW   LOW   \n5296                     1.0           60.5  ...  MEDIUM     LOW   LOW   LOW   \n5297                     1.0           60.5  ...     LOW     LOW   LOW   LOW   \n5298                     1.0           60.6  ...     LOW     LOW   LOW   LOW   \n5299                     1.0           60.7  ...     LOW     LOW   LOW   LOW   \n\n        r4                      t0                      t1  \\\n0     HIGH  SUBSTANTIAL INCREASING  SUBSTANTIAL INCREASING   \n1     HIGH  SUBSTANTIAL INCREASING     MODERATE INCREASING   \n2     HIGH     MODERATE INCREASING                  STABLE   \n3     HIGH                  STABLE                  STABLE   \n4     HIGH                  STABLE  SUBSTANTIAL DECREASING   \n...    ...                     ...                     ...   \n5295   LOW  SUBSTANTIAL INCREASING  SUBSTANTIAL INCREASING   \n5296   LOW  SUBSTANTIAL INCREASING     MODERATE DECREASING   \n5297   LOW     MODERATE DECREASING  SUBSTANTIAL DECREASING   \n5298   LOW  SUBSTANTIAL DECREASING  SUBSTANTIAL DECREASING   \n5299   LOW  SUBSTANTIAL DECREASING  SUBSTANTIAL DECREASING   \n\n                          t2                      t3                      t4  \n0        MODERATE INCREASING                  STABLE                  STABLE  \n1                     STABLE                  STABLE  SUBSTANTIAL DECREASING  \n2                     STABLE  SUBSTANTIAL DECREASING  SUBSTANTIAL DECREASING  \n3     SUBSTANTIAL DECREASING  SUBSTANTIAL DECREASING  SUBSTANTIAL DECREASING  \n4     SUBSTANTIAL DECREASING  SUBSTANTIAL DECREASING  SUBSTANTIAL DECREASING  \n...                      ...                     ...                     ...  \n5295     MODERATE DECREASING  SUBSTANTIAL DECREASING  SUBSTANTIAL DECREASING  \n5296  SUBSTANTIAL DECREASING  SUBSTANTIAL DECREASING  SUBSTANTIAL DECREASING  \n5297  SUBSTANTIAL DECREASING  SUBSTANTIAL DECREASING  SUBSTANTIAL DECREASING  \n5298  SUBSTANTIAL DECREASING  SUBSTANTIAL DECREASING                  STABLE  \n5299  SUBSTANTIAL DECREASING                  STABLE     MODERATE DECREASING  \n\n[5300 rows x 71 columns]",
      "text/html": "<div>\n<style scoped>\n    .dataframe tbody tr th:only-of-type {\n        vertical-align: middle;\n    }\n\n    .dataframe tbody tr th {\n        vertical-align: top;\n    }\n\n    .dataframe thead th {\n        text-align: right;\n    }\n</style>\n<table border=\"1\" class=\"dataframe\">\n  <thead>\n    <tr style=\"text-align: right;\">\n      <th></th>\n      <th>state_name</th>\n      <th>fips</th>\n      <th>Week</th>\n      <th>Week_start</th>\n      <th>Week_end</th>\n      <th>hospitalization_per_100k</th>\n      <th>Change</th>\n      <th>reported_cases_per_100k</th>\n      <th>previous_infection_12w</th>\n      <th>Dose1_Pop_Pct</th>\n      <th>...</th>\n      <th>r0</th>\n      <th>r1</th>\n      <th>r2</th>\n      <th>r3</th>\n      <th>r4</th>\n      <th>t0</th>\n      <th>t1</th>\n      <th>t2</th>\n      <th>t3</th>\n      <th>t4</th>\n    </tr>\n  </thead>\n  <tbody>\n    <tr>\n      <th>0</th>\n      <td>Alabama</td>\n      <td>01</td>\n      <td>2020-12-14/2020-12-20</td>\n      <td>2020-12-14</td>\n      <td>2020-12-20</td>\n      <td>54.9</td>\n      <td>35.8</td>\n      <td>547.0</td>\n      <td>3.5</td>\n      <td>0.0</td>\n      <td>...</td>\n      <td>HIGH</td>\n      <td>HIGH</td>\n      <td>HIGH</td>\n      <td>HIGH</td>\n      <td>HIGH</td>\n      <td>SUBSTANTIAL INCREASING</td>\n      <td>SUBSTANTIAL INCREASING</td>\n      <td>MODERATE INCREASING</td>\n      <td>STABLE</td>\n      <td>STABLE</td>\n    </tr>\n    <tr>\n      <th>1</th>\n      <td>Alabama</td>\n      <td>01</td>\n      <td>2020-12-21/2020-12-27</td>\n      <td>2020-12-21</td>\n      <td>2020-12-27</td>\n      <td>58.1</td>\n      <td>21.5</td>\n      <td>472.7</td>\n      <td>3.8</td>\n      <td>0.0</td>\n      <td>...</td>\n      <td>HIGH</td>\n      <td>HIGH</td>\n      <td>HIGH</td>\n      <td>HIGH</td>\n      <td>HIGH</td>\n      <td>SUBSTANTIAL INCREASING</td>\n      <td>MODERATE INCREASING</td>\n      <td>STABLE</td>\n      <td>STABLE</td>\n      <td>SUBSTANTIAL DECREASING</td>\n    </tr>\n    <tr>\n      <th>2</th>\n      <td>Alabama</td>\n      <td>01</td>\n      <td>2020-12-28/2021-01-03</td>\n      <td>2020-12-28</td>\n      <td>2021-01-03</td>\n      <td>61.2</td>\n      <td>14.2</td>\n      <td>536.5</td>\n      <td>4.2</td>\n      <td>0.0</td>\n      <td>...</td>\n      <td>HIGH</td>\n      <td>HIGH</td>\n      <td>HIGH</td>\n      <td>HIGH</td>\n      <td>HIGH</td>\n      <td>MODERATE INCREASING</td>\n      <td>STABLE</td>\n      <td>STABLE</td>\n      <td>SUBSTANTIAL DECREASING</td>\n      <td>SUBSTANTIAL DECREASING</td>\n    </tr>\n    <tr>\n      <th>3</th>\n      <td>Alabama</td>\n      <td>01</td>\n      <td>2021-01-04/2021-01-10</td>\n      <td>2021-01-04</td>\n      <td>2021-01-10</td>\n      <td>61.6</td>\n      <td>6.1</td>\n      <td>611.2</td>\n      <td>4.7</td>\n      <td>0.0</td>\n      <td>...</td>\n      <td>HIGH</td>\n      <td>HIGH</td>\n      <td>HIGH</td>\n      <td>HIGH</td>\n      <td>HIGH</td>\n      <td>STABLE</td>\n      <td>STABLE</td>\n      <td>SUBSTANTIAL DECREASING</td>\n      <td>SUBSTANTIAL DECREASING</td>\n      <td>SUBSTANTIAL DECREASING</td>\n    </tr>\n    <tr>\n      <th>4</th>\n      <td>Alabama</td>\n      <td>01</td>\n      <td>2021-01-11/2021-01-17</td>\n      <td>2021-01-11</td>\n      <td>2021-01-17</td>\n      <td>55.1</td>\n      <td>-8.6</td>\n      <td>422.1</td>\n      <td>4.9</td>\n      <td>0.0</td>\n      <td>...</td>\n      <td>HIGH</td>\n      <td>HIGH</td>\n      <td>HIGH</td>\n      <td>HIGH</td>\n      <td>HIGH</td>\n      <td>STABLE</td>\n      <td>SUBSTANTIAL DECREASING</td>\n      <td>SUBSTANTIAL DECREASING</td>\n      <td>SUBSTANTIAL DECREASING</td>\n      <td>SUBSTANTIAL DECREASING</td>\n    </tr>\n    <tr>\n      <th>...</th>\n      <td>...</td>\n      <td>...</td>\n      <td>...</td>\n      <td>...</td>\n      <td>...</td>\n      <td>...</td>\n      <td>...</td>\n      <td>...</td>\n      <td>...</td>\n      <td>...</td>\n      <td>...</td>\n      <td>...</td>\n      <td>...</td>\n      <td>...</td>\n      <td>...</td>\n      <td>...</td>\n      <td>...</td>\n      <td>...</td>\n      <td>...</td>\n      <td>...</td>\n      <td>...</td>\n    </tr>\n    <tr>\n      <th>5295</th>\n      <td>Wyoming</td>\n      <td>56</td>\n      <td>2022-11-21/2022-11-27</td>\n      <td>2022-11-21</td>\n      <td>2022-11-27</td>\n      <td>10.5</td>\n      <td>38.6</td>\n      <td>101.6</td>\n      <td>1.0</td>\n      <td>60.4</td>\n      <td>...</td>\n      <td>MEDIUM</td>\n      <td>MEDIUM</td>\n      <td>LOW</td>\n      <td>LOW</td>\n      <td>LOW</td>\n      <td>SUBSTANTIAL INCREASING</td>\n      <td>SUBSTANTIAL INCREASING</td>\n      <td>MODERATE DECREASING</td>\n      <td>SUBSTANTIAL DECREASING</td>\n      <td>SUBSTANTIAL DECREASING</td>\n    </tr>\n    <tr>\n      <th>5296</th>\n      <td>Wyoming</td>\n      <td>56</td>\n      <td>2022-11-28/2022-12-04</td>\n      <td>2022-11-28</td>\n      <td>2022-12-04</td>\n      <td>10.5</td>\n      <td>27.1</td>\n      <td>86.2</td>\n      <td>1.0</td>\n      <td>60.5</td>\n      <td>...</td>\n      <td>MEDIUM</td>\n      <td>LOW</td>\n      <td>LOW</td>\n      <td>LOW</td>\n      <td>LOW</td>\n      <td>SUBSTANTIAL INCREASING</td>\n      <td>MODERATE DECREASING</td>\n      <td>SUBSTANTIAL DECREASING</td>\n      <td>SUBSTANTIAL DECREASING</td>\n      <td>SUBSTANTIAL DECREASING</td>\n    </tr>\n    <tr>\n      <th>5297</th>\n      <td>Wyoming</td>\n      <td>56</td>\n      <td>2022-12-05/2022-12-11</td>\n      <td>2022-12-05</td>\n      <td>2022-12-11</td>\n      <td>8.1</td>\n      <td>-11.9</td>\n      <td>133.0</td>\n      <td>1.0</td>\n      <td>60.5</td>\n      <td>...</td>\n      <td>LOW</td>\n      <td>LOW</td>\n      <td>LOW</td>\n      <td>LOW</td>\n      <td>LOW</td>\n      <td>MODERATE DECREASING</td>\n      <td>SUBSTANTIAL DECREASING</td>\n      <td>SUBSTANTIAL DECREASING</td>\n      <td>SUBSTANTIAL DECREASING</td>\n      <td>SUBSTANTIAL DECREASING</td>\n    </tr>\n    <tr>\n      <th>5298</th>\n      <td>Wyoming</td>\n      <td>56</td>\n      <td>2022-12-12/2022-12-18</td>\n      <td>2022-12-12</td>\n      <td>2022-12-18</td>\n      <td>6.0</td>\n      <td>-37.9</td>\n      <td>86.9</td>\n      <td>1.0</td>\n      <td>60.6</td>\n      <td>...</td>\n      <td>LOW</td>\n      <td>LOW</td>\n      <td>LOW</td>\n      <td>LOW</td>\n      <td>LOW</td>\n      <td>SUBSTANTIAL DECREASING</td>\n      <td>SUBSTANTIAL DECREASING</td>\n      <td>SUBSTANTIAL DECREASING</td>\n      <td>SUBSTANTIAL DECREASING</td>\n      <td>STABLE</td>\n    </tr>\n    <tr>\n      <th>5299</th>\n      <td>Wyoming</td>\n      <td>56</td>\n      <td>2022-12-19/2022-12-25</td>\n      <td>2022-12-19</td>\n      <td>2022-12-25</td>\n      <td>6.0</td>\n      <td>-26.6</td>\n      <td>66.2</td>\n      <td>1.0</td>\n      <td>60.7</td>\n      <td>...</td>\n      <td>LOW</td>\n      <td>LOW</td>\n      <td>LOW</td>\n      <td>LOW</td>\n      <td>LOW</td>\n      <td>SUBSTANTIAL DECREASING</td>\n      <td>SUBSTANTIAL DECREASING</td>\n      <td>SUBSTANTIAL DECREASING</td>\n      <td>STABLE</td>\n      <td>MODERATE DECREASING</td>\n    </tr>\n  </tbody>\n</table>\n<p>5300 rows × 71 columns</p>\n</div>"
     },
     "execution_count": 12,
     "metadata": {},
     "output_type": "execute_result"
    }
   ],
   "source": [
    "data = dynamic_df.merge(state_df, on='fips')\n",
    "for target_type, target_name in (('r', 'Risk_level'), ('t', 'Trend')):\n",
    "    for week in (0, 1, 2, 3, 4):\n",
    "        col = target_name + (f'_{week}w' if week > 0 else '')\n",
    "        data[f'{target_type}{week}'] = data[col].str.upper()\n",
    "        data.drop(col, axis=1, inplace=True)\n",
    "\n",
    "data"
   ],
   "metadata": {
    "collapsed": false,
    "ExecuteTime": {
     "end_time": "2023-11-08T15:04:35.324858Z",
     "start_time": "2023-11-08T15:04:35.254096Z"
    }
   },
   "id": "e46531883b431737"
  },
  {
   "cell_type": "code",
   "execution_count": 13,
   "outputs": [
    {
     "data": {
      "text/plain": "0        0.0\n1        0.0\n2        0.0\n3        0.0\n4        0.0\n        ... \n5295    60.4\n5296    60.5\n5297    60.5\n5298    60.6\n5299    60.7\nName: Dose1_Pop_Pct, Length: 5300, dtype: float64"
     },
     "execution_count": 13,
     "metadata": {},
     "output_type": "execute_result"
    }
   ],
   "source": [
    "data.Dose1_Pop_Pct"
   ],
   "metadata": {
    "collapsed": false,
    "ExecuteTime": {
     "end_time": "2023-11-08T15:04:35.325280Z",
     "start_time": "2023-11-08T15:04:35.310700Z"
    }
   },
   "id": "94b5526147afbe17"
  },
  {
   "cell_type": "code",
   "execution_count": 14,
   "outputs": [
    {
     "data": {
      "text/plain": "Index(['state_name', 'fips', 'Week', 'Week_start', 'Week_end',\n       'hospitalization_per_100k', 'Change', 'reported_cases_per_100k',\n       'previous_infection_12w', 'Dose1_Pop_Pct', 'Series_Complete_Pop_Pct',\n       'Additional_Doses_Vax_Pct', 'C1M_School closing',\n       'C2M_Workplace closing', 'C3M_Cancel public events',\n       'C4M_Restrictions on gatherings', 'C6M_Stay at home requirements',\n       'C7M_Restrictions on internal movement',\n       'C8NV_International travel controls',\n       'C8V_International travel controls', 'H1_Public information campaigns',\n       'H2_Testing policy', 'H3_Contact tracing', 'H6M_Facial Coverings',\n       'H8M_Protection of elderly people', 'Vaccine_prompt',\n       'Previous_infection_prompt', 'policy_prompt', 'week_id', 'uid',\n       'Population', 'under_20', 'over_65', 'White', 'Black', 'Multiple_race',\n       'Not_Hispanic', 'Hispanic', 'medicaid_coverage', 'medicare_coverage',\n       'uninsured_percent', 'medicaid_spending',\n       'private_health_insurance_spending', 'medicare_spending_by_residence',\n       'health_care_spending', 'healthcare_utilization', 'poor_health_status',\n       'adults_at_high_risk', 'poverty_rate', 'social_vulnerability_index',\n       'Healthcare Access and Quality Index', 'Older_at_high_risk',\n       'dem_percent', 'rep_percent', 'other_percent', 'State',\n       'Static_description_v1', 'Static_description_v2',\n       'Static_description_v3', 'Static_description_v4',\n       'Static_description_v5', 'r0', 'r1', 'r2', 'r3', 'r4', 't0', 't1', 't2',\n       't3', 't4'],\n      dtype='object')"
     },
     "execution_count": 14,
     "metadata": {},
     "output_type": "execute_result"
    }
   ],
   "source": [
    "data.columns"
   ],
   "metadata": {
    "collapsed": false,
    "ExecuteTime": {
     "end_time": "2023-11-08T15:04:35.383625Z",
     "start_time": "2023-11-08T15:04:35.315971Z"
    }
   },
   "id": "76e7dd270ca21896"
  },
  {
   "cell_type": "markdown",
   "source": [
    "- Static information\n",
    "    - Current status: 大部分人接种疫苗\n",
    "- Dynamic Information\n",
    "    - Trend: 最近两个月，接种疫苗的人数显著增加     \n",
    "大部分人接种疫苗，最近两个月，接种疫苗的人数显著增加。"
   ],
   "metadata": {
    "collapsed": false
   },
   "id": "a03f2bb4c797d8d8"
  },
  {
   "cell_type": "code",
   "execution_count": 15,
   "outputs": [
    {
     "data": {
      "text/plain": "To date, 0% of population got at least one vaccine dose with a Stable trend, 0% were fully vaccinated with a Stable trend, and 0% got booster with a Stable trend.                                    401\nTo date, 3% of population got at least one vaccine dose with a Rapid Increase trend, 0% were fully vaccinated with a Stable trend, and 0% got booster with a Stable trend.                             31\nTo date, 13% of population got at least one vaccine dose with a Rapid Increase trend, 0% were fully vaccinated with a Stable trend, and 0% got booster with a Stable trend.                            21\nTo date, 12% of population got at least one vaccine dose with a Rapid Increase trend, 0% were fully vaccinated with a Stable trend, and 0% got booster with a Stable trend.                            21\nTo date, 11% of population got at least one vaccine dose with a Rapid Increase trend, 0% were fully vaccinated with a Stable trend, and 0% got booster with a Stable trend.                            17\n                                                                                                                                                                                                     ... \nTo date, 61% of population got at least one vaccine dose with a Slight Increase trend, 54% were fully vaccinated with a Slight Increase trend, and 41% got booster with a Slight Increase trend.        1\nTo date, 62% of population got at least one vaccine dose with a Slight Increase trend, 54% were fully vaccinated with a Stable trend, and 41% got booster with a Slight Increase trend.                 1\nTo date, 62% of population got at least one vaccine dose with a Slight Increase trend, 54% were fully vaccinated with a Stable trend, and 41% got booster with a Stable trend.                          1\nTo date, 62% of population got at least one vaccine dose with a Slight Increase trend, 54% were fully vaccinated with a Slight Increase trend, and 41% got booster with a Stable trend.                 1\nTo date, 60% of population got at least one vaccine dose with a Slight Increase trend, 52% were fully vaccinated with a Slight Increase trend, and 47% got booster with a Moderate Increase trend.      1\nName: Vaccine_prompt, Length: 3457, dtype: int64"
     },
     "execution_count": 15,
     "metadata": {},
     "output_type": "execute_result"
    }
   ],
   "source": [
    "data.Vaccine_prompt.value_counts()"
   ],
   "metadata": {
    "collapsed": false,
    "ExecuteTime": {
     "end_time": "2023-11-08T15:04:35.384015Z",
     "start_time": "2023-11-08T15:04:35.320601Z"
    }
   },
   "id": "167eaddf27488e2b"
  },
  {
   "cell_type": "code",
   "execution_count": 16,
   "outputs": [
    {
     "data": {
      "text/plain": "Around 1.2% of the population reported infections over the past three months, the population immunity is Moderate Decrease.    129\nAround 1.0% of the population reported infections over the past three months, the population immunity is Moderate Decrease.    112\nAround 1.7% of the population reported infections over the past three months, the population immunity is Moderate Decrease.     98\nAround 1.1% of the population reported infections over the past three months, the population immunity is Moderate Decrease.     93\nAround 0.8% of the population reported infections over the past three months, the population immunity is Moderate Decrease.     90\n                                                                                                                              ... \nAround 8.9% of the population reported infections over the past three months, the population immunity is Moderate Increase.      1\nAround 8.7% of the population reported infections over the past three months, the population immunity is Moderate Decrease.      1\nAround 9.0% of the population reported infections over the past three months, the population immunity is Moderate Increase.      1\nAround 4.3% of the population reported infections over the past three months, the population immunity is Moderate Decrease.      1\nAround 7.6% of the population reported infections over the past three months, the population immunity is Moderate Increase.      1\nName: Previous_infection_prompt, Length: 366, dtype: int64"
     },
     "execution_count": 16,
     "metadata": {},
     "output_type": "execute_result"
    }
   ],
   "source": [
    "data.Previous_infection_prompt.value_counts()"
   ],
   "metadata": {
    "collapsed": false,
    "ExecuteTime": {
     "end_time": "2023-11-08T15:04:35.399247Z",
     "start_time": "2023-11-08T15:04:35.326849Z"
    }
   },
   "id": "441e59449bc1937"
  },
  {
   "cell_type": "code",
   "execution_count": 17,
   "outputs": [
    {
     "data": {
      "text/plain": "Recommend closing for school policy, no restrictions for workplace, no restrictions for gatherings. for elderly patients, narrow restrictions for isolation, some limitations on external visitors.                                                                                                                                    950\nNo restrictions for school policy, no restrictions for workplace, no restrictions for gatherings. for elderly patients, recommended isolation, and visitor restriction.                                                                                                                                                                872\nRecommend closing for school policy, no restrictions for workplace, no restrictions for gatherings. for elderly patients, recommended isolation, and visitor restriction.                                                                                                                                                              698\nNo restrictions for school policy, no restrictions for workplace, no restrictions for gatherings. for elderly patients, narrow restrictions for isolation, some limitations on external visitors.                                                                                                                                      670\nRecommend closing for school policy, recommend closing for workplace, no restrictions for gatherings. for elderly patients, narrow restrictions for isolation, some limitations on external visitors.                                                                                                                                  416\n                                                                                                                                                                                                                                                                                                                                      ... \nRecommend closing for school policy, no restrictions for workplace, restrictions on gatherings between 11-100 people for gatherings. for elderly patients, narrow restrictions for isolation, some limitations on external visitors.                                                                                                     1\nSchool policy remains as recommend closing. for workplace change from recommend closing to no restrictions. gatherings policy remains as restrictions on very large gatherings (the limit is above 1000 people).  for elderly patients, recommended isolation, and visitor restriction.                                                  1\nSchool policy remains as recommend closing. workplace policy remains as recommend closing. for gatherings change from restrictions on gatherings between 101-1000 people to no restrictions.  for elderly patients, recommended isolation, and visitor restriction.                                                                      1\nSchool policy remains as require closing some. workplace policy remains as require closing some. for gatherings change from restrictions on gatherings of 10 people or less to restrictions on gatherings between 101-1000 people.  for elderly patients, narrow restrictions for isolation, some limitations on external visitors.      1\nSchool policy remains as recommend closing. for workplace change from recommend closing to require closing some. gatherings policy remains as no restrictions.  for elderly patients, narrow restrictions for isolation, some limitations on external visitors.                                                                          1\nName: policy_prompt, Length: 190, dtype: int64"
     },
     "execution_count": 17,
     "metadata": {},
     "output_type": "execute_result"
    }
   ],
   "source": [
    "data.policy_prompt.value_counts()"
   ],
   "metadata": {
    "collapsed": false,
    "ExecuteTime": {
     "end_time": "2023-11-08T15:04:35.416012Z",
     "start_time": "2023-11-08T15:04:35.331838Z"
    }
   },
   "id": "f57029a719efe2af"
  },
  {
   "cell_type": "code",
   "execution_count": 18,
   "outputs": [
    {
     "data": {
      "text/plain": "SUBSTANTIAL DECREASING    1428\nSUBSTANTIAL INCREASING    1396\nSTABLE                    1267\nMODERATE DECREASING        718\nMODERATE INCREASING        491\nName: t1, dtype: int64"
     },
     "execution_count": 18,
     "metadata": {},
     "output_type": "execute_result"
    }
   ],
   "source": [
    "data.t1.value_counts()"
   ],
   "metadata": {
    "collapsed": false,
    "ExecuteTime": {
     "end_time": "2023-11-08T15:04:35.416359Z",
     "start_time": "2023-11-08T15:04:35.336390Z"
    }
   },
   "id": "9081ee8fe2eacb30"
  },
  {
   "cell_type": "code",
   "execution_count": 19,
   "outputs": [
    {
     "data": {
      "text/plain": "0       SUBSTANTIAL INCREASING MODERATE INCREASING STA...\n1       MODERATE INCREASING STABLE STABLE SUBSTANTIAL ...\n2       STABLE STABLE SUBSTANTIAL DECREASING SUBSTANTI...\n3       STABLE SUBSTANTIAL DECREASING SUBSTANTIAL DECR...\n4       SUBSTANTIAL DECREASING SUBSTANTIAL DECREASING ...\n                              ...                        \n5295    SUBSTANTIAL INCREASING MODERATE DECREASING SUB...\n5296    MODERATE DECREASING SUBSTANTIAL DECREASING SUB...\n5297    SUBSTANTIAL DECREASING SUBSTANTIAL DECREASING ...\n5298    SUBSTANTIAL DECREASING SUBSTANTIAL DECREASING ...\n5299    SUBSTANTIAL DECREASING SUBSTANTIAL DECREASING ...\nName: t_seq, Length: 5300, dtype: object"
     },
     "execution_count": 19,
     "metadata": {},
     "output_type": "execute_result"
    }
   ],
   "source": [
    "data['t_seq'] = data['t1'].str.cat(data[['t2', 't3', 't4']], sep=' ')\n",
    "data['r_seq'] = data['r1'].str.cat(data[['r2', 'r3', 'r4']], sep=' ')\n",
    "data['t_seq']"
   ],
   "metadata": {
    "collapsed": false,
    "ExecuteTime": {
     "end_time": "2023-11-08T15:04:35.478704Z",
     "start_time": "2023-11-08T15:04:35.339488Z"
    }
   },
   "id": "a6e977bb5ea10120"
  },
  {
   "cell_type": "code",
   "execution_count": 20,
   "outputs": [
    {
     "data": {
      "text/plain": "0       Alabama with close to average population and a...\n1       Alabama with close to average population and a...\n2       Alabama with close to average population and a...\n3       Alabama with close to average population and a...\n4       Alabama with close to average population and a...\n                              ...                        \n5295    Wyoming with one of the smallest populations a...\n5296    Wyoming with one of the smallest populations a...\n5297    Wyoming with one of the smallest populations a...\n5298    Wyoming with one of the smallest populations a...\n5299    Wyoming with one of the smallest populations a...\nName: Static_description_v1, Length: 5300, dtype: object"
     },
     "execution_count": 20,
     "metadata": {},
     "output_type": "execute_result"
    }
   ],
   "source": [
    "data.Static_description_v1"
   ],
   "metadata": {
    "collapsed": false,
    "ExecuteTime": {
     "end_time": "2023-11-08T15:04:35.478911Z",
     "start_time": "2023-11-08T15:04:35.353695Z"
    }
   },
   "id": "87ce3abda3e82da9"
  },
  {
   "cell_type": "code",
   "execution_count": 21,
   "outputs": [
    {
     "name": "stderr",
     "output_type": "stream",
     "text": [
      "Processing sequential data: 100%|██████████| 9/9 [00:43<00:00,  4.84s/it]\n"
     ]
    },
    {
     "data": {
      "text/plain": "                     Change  hospitalization_per_100k  \\\n0  [35.8, 35.8, 35.8, 35.8]  [54.9, 54.9, 54.9, 54.9]   \n1  [21.5, 35.8, 35.8, 35.8]  [58.1, 54.9, 54.9, 54.9]   \n2  [14.2, 21.5, 35.8, 35.8]  [61.2, 58.1, 54.9, 54.9]   \n3   [6.1, 14.2, 21.5, 35.8]  [61.6, 61.2, 58.1, 54.9]   \n4   [-8.6, 6.1, 14.2, 21.5]  [55.1, 61.6, 61.2, 58.1]   \n\n        reported_cases_per_100k previous_infection_12w         Dose1_Pop_Pct  \\\n0  [547.0, 547.0, 547.0, 547.0]   [3.5, 3.5, 3.5, 3.5]  [0.0, 0.0, 0.0, 0.0]   \n1  [472.7, 547.0, 547.0, 547.0]   [3.8, 3.5, 3.5, 3.5]  [0.0, 0.0, 0.0, 0.0]   \n2  [536.5, 472.7, 547.0, 547.0]   [4.2, 3.8, 3.5, 3.5]  [0.0, 0.0, 0.0, 0.0]   \n3  [611.2, 536.5, 472.7, 547.0]   [4.7, 4.2, 3.8, 3.5]  [0.0, 0.0, 0.0, 0.0]   \n4  [422.1, 611.2, 536.5, 472.7]   [4.9, 4.7, 4.2, 3.8]  [0.0, 0.0, 0.0, 0.0]   \n\n  Series_Complete_Pop_Pct Additional_Doses_Vax_Pct  \\\n0    [0.0, 0.0, 0.0, 0.0]     [0.0, 0.0, 0.0, 0.0]   \n1    [0.0, 0.0, 0.0, 0.0]     [0.0, 0.0, 0.0, 0.0]   \n2    [0.0, 0.0, 0.0, 0.0]     [0.0, 0.0, 0.0, 0.0]   \n3    [0.0, 0.0, 0.0, 0.0]     [0.0, 0.0, 0.0, 0.0]   \n4    [0.0, 0.0, 0.0, 0.0]     [0.0, 0.0, 0.0, 0.0]   \n\n                      C4M_Restrictions on gatherings  \\\n0  [no restrictions, no restrictions, no restrict...   \n1  [no restrictions, no restrictions, no restrict...   \n2  [no restrictions, no restrictions, no restrict...   \n3  [no restrictions, no restrictions, no restrict...   \n4  [no restrictions, no restrictions, no restrict...   \n\n                       C6M_Stay at home requirements  \n0  [recommend not leaving house, recommend not le...  \n1  [recommend not leaving house, recommend not le...  \n2  [recommend not leaving house, recommend not le...  \n3  [recommend not leaving house, recommend not le...  \n4  [recommend not leaving house, recommend not le...  ",
      "text/html": "<div>\n<style scoped>\n    .dataframe tbody tr th:only-of-type {\n        vertical-align: middle;\n    }\n\n    .dataframe tbody tr th {\n        vertical-align: top;\n    }\n\n    .dataframe thead th {\n        text-align: right;\n    }\n</style>\n<table border=\"1\" class=\"dataframe\">\n  <thead>\n    <tr style=\"text-align: right;\">\n      <th></th>\n      <th>Change</th>\n      <th>hospitalization_per_100k</th>\n      <th>reported_cases_per_100k</th>\n      <th>previous_infection_12w</th>\n      <th>Dose1_Pop_Pct</th>\n      <th>Series_Complete_Pop_Pct</th>\n      <th>Additional_Doses_Vax_Pct</th>\n      <th>C4M_Restrictions on gatherings</th>\n      <th>C6M_Stay at home requirements</th>\n    </tr>\n  </thead>\n  <tbody>\n    <tr>\n      <th>0</th>\n      <td>[35.8, 35.8, 35.8, 35.8]</td>\n      <td>[54.9, 54.9, 54.9, 54.9]</td>\n      <td>[547.0, 547.0, 547.0, 547.0]</td>\n      <td>[3.5, 3.5, 3.5, 3.5]</td>\n      <td>[0.0, 0.0, 0.0, 0.0]</td>\n      <td>[0.0, 0.0, 0.0, 0.0]</td>\n      <td>[0.0, 0.0, 0.0, 0.0]</td>\n      <td>[no restrictions, no restrictions, no restrict...</td>\n      <td>[recommend not leaving house, recommend not le...</td>\n    </tr>\n    <tr>\n      <th>1</th>\n      <td>[21.5, 35.8, 35.8, 35.8]</td>\n      <td>[58.1, 54.9, 54.9, 54.9]</td>\n      <td>[472.7, 547.0, 547.0, 547.0]</td>\n      <td>[3.8, 3.5, 3.5, 3.5]</td>\n      <td>[0.0, 0.0, 0.0, 0.0]</td>\n      <td>[0.0, 0.0, 0.0, 0.0]</td>\n      <td>[0.0, 0.0, 0.0, 0.0]</td>\n      <td>[no restrictions, no restrictions, no restrict...</td>\n      <td>[recommend not leaving house, recommend not le...</td>\n    </tr>\n    <tr>\n      <th>2</th>\n      <td>[14.2, 21.5, 35.8, 35.8]</td>\n      <td>[61.2, 58.1, 54.9, 54.9]</td>\n      <td>[536.5, 472.7, 547.0, 547.0]</td>\n      <td>[4.2, 3.8, 3.5, 3.5]</td>\n      <td>[0.0, 0.0, 0.0, 0.0]</td>\n      <td>[0.0, 0.0, 0.0, 0.0]</td>\n      <td>[0.0, 0.0, 0.0, 0.0]</td>\n      <td>[no restrictions, no restrictions, no restrict...</td>\n      <td>[recommend not leaving house, recommend not le...</td>\n    </tr>\n    <tr>\n      <th>3</th>\n      <td>[6.1, 14.2, 21.5, 35.8]</td>\n      <td>[61.6, 61.2, 58.1, 54.9]</td>\n      <td>[611.2, 536.5, 472.7, 547.0]</td>\n      <td>[4.7, 4.2, 3.8, 3.5]</td>\n      <td>[0.0, 0.0, 0.0, 0.0]</td>\n      <td>[0.0, 0.0, 0.0, 0.0]</td>\n      <td>[0.0, 0.0, 0.0, 0.0]</td>\n      <td>[no restrictions, no restrictions, no restrict...</td>\n      <td>[recommend not leaving house, recommend not le...</td>\n    </tr>\n    <tr>\n      <th>4</th>\n      <td>[-8.6, 6.1, 14.2, 21.5]</td>\n      <td>[55.1, 61.6, 61.2, 58.1]</td>\n      <td>[422.1, 611.2, 536.5, 472.7]</td>\n      <td>[4.9, 4.7, 4.2, 3.8]</td>\n      <td>[0.0, 0.0, 0.0, 0.0]</td>\n      <td>[0.0, 0.0, 0.0, 0.0]</td>\n      <td>[0.0, 0.0, 0.0, 0.0]</td>\n      <td>[no restrictions, no restrictions, no restrict...</td>\n      <td>[recommend not leaving house, recommend not le...</td>\n    </tr>\n  </tbody>\n</table>\n</div>"
     },
     "execution_count": 21,
     "metadata": {},
     "output_type": "execute_result"
    }
   ],
   "source": [
    "# ! Process continuous attributes to sequences\n",
    "from tqdm import tqdm\n",
    "from functools import partial\n",
    "\n",
    "dynamic_cols = [\n",
    "    # @ Change of Hospitalization\n",
    "    'Change',\n",
    "    # @ Infection\n",
    "    'hospitalization_per_100k',  # Current Risk\n",
    "    'reported_cases_per_100k',\n",
    "    'previous_infection_12w',\n",
    "    # @ Vaccine\n",
    "    'Dose1_Pop_Pct',\n",
    "    'Series_Complete_Pop_Pct',\n",
    "    'Additional_Doses_Vax_Pct',\n",
    "    # @ Regulations\n",
    "    #    'C1M_School closing',\n",
    "    #    'C2M_Workplace closing',\n",
    "    #    'C3M_Cancel public events',\n",
    "    'C4M_Restrictions on gatherings',\n",
    "    'C6M_Stay at home requirements',\n",
    "    #    'C7M_Restrictions on internal movement',\n",
    "    #    'C8NV_International travel controls',\n",
    "    #    'C8V_International travel controls',\n",
    "    # * Temporarily abandoned\n",
    "    #    'H1_Public information campaigns',\n",
    "    #    'H2_Testing policy',\n",
    "    #    'H3_Contact tracing',\n",
    "    #    'H6M_Facial Coverings',\n",
    "    #    'H8M_Protection of elderly people',\n",
    "    # @ Other ignored_cols\n",
    "    #    'fips', 'Week', 'Week_start', 'Week_end' # No need to let LLM know the exact dates\n",
    "]\n",
    "max_in_weeks = 4\n",
    "\n",
    "\n",
    "def process_seq_col(r, df, col):\n",
    "    week_row_ids = {i: np.where(df.uid == f'{r.state_name}-W{max(r.week_id - i, 0)}')[0][0] for i in\n",
    "                    range(max_in_weeks)}\n",
    "    seq = [df.iloc[i][col] for _, i in week_row_ids.items()]\n",
    "    assert len(seq) >= 1\n",
    "    return seq\n",
    "\n",
    "\n",
    "for col in tqdm(dynamic_cols, 'Processing sequential data'):\n",
    "    data[col] = data.apply(partial(process_seq_col, df=df, col=col), axis=1)\n",
    "data[dynamic_cols].head(5)\n"
   ],
   "metadata": {
    "collapsed": false,
    "ExecuteTime": {
     "end_time": "2023-11-08T15:05:18.981614Z",
     "start_time": "2023-11-08T15:04:35.359521Z"
    }
   },
   "id": "20b7c5b1412579a8"
  },
  {
   "cell_type": "code",
   "execution_count": 22,
   "outputs": [],
   "source": [
    "# ! ChatGPT augmented data\n",
    "dfs = []\n",
    "for i in range(1, 6):\n",
    "    df_copy = data.copy()\n",
    "    df_copy.rename(columns={'Static_description_v' + str(i): 'Static_description'}, inplace=True)\n",
    "    dfs.append(df_copy)\n",
    "\n",
    "# dfs is a list of DataFrames, each with one 'Static_description' column\n",
    "aug_data = pd.concat(dfs)\n",
    "aug_data.reset_index(inplace=True)\n",
    "data.rename(columns={'Static_description_v1': 'Static_description'}, inplace=True)\n"
   ],
   "metadata": {
    "collapsed": false,
    "ExecuteTime": {
     "end_time": "2023-11-08T15:05:19.044409Z",
     "start_time": "2023-11-08T15:05:18.982798Z"
    }
   },
   "id": "cd3ed9dfe49fcbf9"
  },
  {
   "cell_type": "code",
   "execution_count": 23,
   "outputs": [
    {
     "data": {
      "text/plain": "18000"
     },
     "execution_count": 23,
     "metadata": {},
     "output_type": "execute_result"
    }
   ],
   "source": [
    "# ! Generate Aug Split IDs\n",
    "from copy import deepcopy\n",
    "\n",
    "aug_splits = deepcopy(splits)\n",
    "for type_of_split, split_ids in aug_splits.items():\n",
    "    split_ids['train'] = np.concatenate([i * len(data) + split_ids['train'] for i in range(5)])\n",
    "aug_splits['random']['train'].shape[0]"
   ],
   "metadata": {
    "collapsed": false,
    "ExecuteTime": {
     "end_time": "2023-11-08T15:05:19.048788Z",
     "start_time": "2023-11-08T15:05:18.999361Z"
    }
   },
   "id": "2d84eada43355847"
  },
  {
   "cell_type": "code",
   "execution_count": 24,
   "outputs": [
    {
     "data": {
      "text/plain": "\u001B[2;36m[23:05:19]\u001B[0m\u001B[2;36m \u001B[0m\u001B[34mINFO    \u001B[0m Saved data/processed.pkl                                                                                                          \u001B[2mos_utils.py\u001B[0m\u001B[2m:\u001B[0m\u001B[2m193\u001B[0m\n",
      "text/html": "<pre style=\"white-space:pre;overflow-x:auto;line-height:normal;font-family:Menlo,'DejaVu Sans Mono',consolas,'Courier New',monospace\"><span style=\"color: #7fbfbf; text-decoration-color: #7fbfbf\">[23:05:19] </span><span style=\"color: #000080; text-decoration-color: #000080\">INFO    </span> Saved data/processed.pkl                                                                                                          <span style=\"color: #7f7f7f; text-decoration-color: #7f7f7f\">os_utils.py:193</span>\n</pre>\n"
     },
     "metadata": {},
     "output_type": "display_data"
    }
   ],
   "source": [
    "from easydict import EasyDict\n",
    "\n",
    "data_dict = EasyDict(\n",
    "    splits=splits,\n",
    "    static=state_df,\n",
    "    dynamic=dynamic_df,\n",
    "    data=data,\n",
    "    aug_data=aug_data,\n",
    "    aug_splits=aug_splits,\n",
    "    label_info=label_info,\n",
    ")\n",
    "uf.pickle_save(data_dict, 'data/processed.pkl')"
   ],
   "metadata": {
    "collapsed": false,
    "ExecuteTime": {
     "end_time": "2023-11-08T15:05:19.219164Z",
     "start_time": "2023-11-08T15:05:19.003525Z"
    }
   },
   "id": "e5bc13a22ab79b8a"
  },
  {
   "cell_type": "code",
   "execution_count": 25,
   "outputs": [
    {
     "data": {
      "text/plain": "Index(['state_name', 'fips', 'Week', 'Week_start', 'Week_end',\n       'hospitalization_per_100k', 'Change', 'reported_cases_per_100k',\n       'previous_infection_12w', 'Dose1_Pop_Pct', 'Series_Complete_Pop_Pct',\n       'Additional_Doses_Vax_Pct', 'C1M_School closing',\n       'C2M_Workplace closing', 'C3M_Cancel public events',\n       'C4M_Restrictions on gatherings', 'C6M_Stay at home requirements',\n       'C7M_Restrictions on internal movement',\n       'C8NV_International travel controls',\n       'C8V_International travel controls', 'H1_Public information campaigns',\n       'H2_Testing policy', 'H3_Contact tracing', 'H6M_Facial Coverings',\n       'H8M_Protection of elderly people', 'Vaccine_prompt',\n       'Previous_infection_prompt', 'policy_prompt', 'week_id', 'uid',\n       'Population', 'under_20', 'over_65', 'White', 'Black', 'Multiple_race',\n       'Not_Hispanic', 'Hispanic', 'medicaid_coverage', 'medicare_coverage',\n       'uninsured_percent', 'medicaid_spending',\n       'private_health_insurance_spending', 'medicare_spending_by_residence',\n       'health_care_spending', 'healthcare_utilization', 'poor_health_status',\n       'adults_at_high_risk', 'poverty_rate', 'social_vulnerability_index',\n       'Healthcare Access and Quality Index', 'Older_at_high_risk',\n       'dem_percent', 'rep_percent', 'other_percent', 'State',\n       'Static_description', 'Static_description_v2', 'Static_description_v3',\n       'Static_description_v4', 'Static_description_v5', 'r0', 'r1', 'r2',\n       'r3', 'r4', 't0', 't1', 't2', 't3', 't4', 't_seq', 'r_seq'],\n      dtype='object')"
     },
     "execution_count": 25,
     "metadata": {},
     "output_type": "execute_result"
    }
   ],
   "source": [
    "data.columns"
   ],
   "metadata": {
    "collapsed": false,
    "ExecuteTime": {
     "end_time": "2023-11-08T15:05:19.225643Z",
     "start_time": "2023-11-08T15:05:19.220746Z"
    }
   },
   "id": "d8f49d6702a0e568"
  },
  {
   "cell_type": "code",
   "execution_count": 26,
   "outputs": [
    {
     "data": {
      "text/plain": "0           [0.0, 0.0, 0.0, 0.0]\n1           [0.0, 0.0, 0.0, 0.0]\n2           [0.0, 0.0, 0.0, 0.0]\n3           [0.0, 0.0, 0.0, 0.0]\n4           [0.0, 0.0, 0.0, 0.0]\n                  ...           \n5295    [60.4, 60.4, 60.3, 60.1]\n5296    [60.5, 60.4, 60.4, 60.3]\n5297    [60.5, 60.5, 60.4, 60.4]\n5298    [60.6, 60.5, 60.5, 60.4]\n5299    [60.7, 60.6, 60.5, 60.5]\nName: Dose1_Pop_Pct, Length: 5300, dtype: object"
     },
     "execution_count": 26,
     "metadata": {},
     "output_type": "execute_result"
    }
   ],
   "source": [
    "data.Dose1_Pop_Pct"
   ],
   "metadata": {
    "collapsed": false,
    "ExecuteTime": {
     "end_time": "2023-11-08T15:05:19.231915Z",
     "start_time": "2023-11-08T15:05:19.225759Z"
    }
   },
   "id": "c19fe8a440d2da3b"
  }
 ],
 "metadata": {
  "kernelspec": {
   "display_name": "Python 3",
   "language": "python",
   "name": "python3"
  },
  "language_info": {
   "codemirror_mode": {
    "name": "ipython",
    "version": 2
   },
   "file_extension": ".py",
   "mimetype": "text/x-python",
   "name": "python",
   "nbconvert_exporter": "python",
   "pygments_lexer": "ipython2",
   "version": "2.7.6"
  }
 },
 "nbformat": 4,
 "nbformat_minor": 5
}
